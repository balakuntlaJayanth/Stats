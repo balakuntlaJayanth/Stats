{
  "cells": [
    {
      "cell_type": "code",
      "source": [
        "import pandas as pd\n",
        "import pickle\n",
        "import copy\n",
        "import cobra\n",
        "import numpy as np\n",
        "import matplotlib.pyplot as plt\n",
        "from cobra.io import read_sbml_model,write_sbml_model\n",
        "from cobra import Model, Reaction, Metabolite\n",
        "from functools import reduce \n",
        "%matplotlib inline"
      ],
      "outputs": [],
      "execution_count": 1,
      "metadata": {},
      "id": "d550db3d"
    },
    {
      "cell_type": "code",
      "source": [
        "mutant1 = read_sbml_model('mutant1.xml')"
      ],
      "outputs": [],
      "execution_count": 2,
      "metadata": {},
      "id": "83fd0f36"
    },
    {
      "cell_type": "code",
      "source": [
        "mutant1.medium"
      ],
      "outputs": [
        {
          "output_type": "stream",
          "name": "stderr",
          "text": [
            "Could not identify an external compartment by name and choosing one with the most boundary reactions. That might be complete nonsense or change suddenly. Consider renaming your compartments using `Model.compartments` to fix this.\n"
          ]
        },
        {
          "output_type": "execute_result",
          "execution_count": 3,
          "data": {
            "text/plain": "{'EX_ca2_e': 1000.0,\n 'EX_cit_e': 1000.0,\n 'EX_cl_e': 1000.0,\n 'EX_co2_e': 1000.0,\n 'EX_cobalt2_e': 1000.0,\n 'EX_cu2_e': 1000.0,\n 'EX_fe2_e': 1000.0,\n 'EX_h2o_e': 1000.0,\n 'EX_h_e': 1000.0,\n 'EX_hdca_e': 1000.0,\n 'EX_k_e': 1000.0,\n 'EX_met__L_e': 1000.0,\n 'EX_mg2_e': 1000.0,\n 'EX_mn2_e': 1000.0,\n 'EX_mobd_e': 1000.0,\n 'EX_nh4_e': 1000.0,\n 'EX_no3_e': 1000.0,\n 'EX_o2_e': 1000.0,\n 'EX_pi_e': 1000.0,\n 'EX_so4_e': 1000.0,\n 'EX_zn2_e': 1000.0}"
          },
          "metadata": {}
        }
      ],
      "execution_count": 3,
      "metadata": {},
      "id": "12ed239f"
    },
    {
      "cell_type": "code",
      "source": [
        "model2 = read_sbml_model('model2.xml')"
      ],
      "outputs": [],
      "execution_count": 4,
      "metadata": {},
      "id": "8dc70335"
    },
    {
      "cell_type": "code",
      "source": [
        "model2.medium"
      ],
      "outputs": [
        {
          "output_type": "execute_result",
          "execution_count": 5,
          "data": {
            "text/plain": "{'EX_ca2_e': 1000.0,\n 'EX_cit_e': 1000.0,\n 'EX_cobalt2_e': 1000.0,\n 'EX_cu2_e': 1000.0,\n 'EX_fe2_e': 1000.0,\n 'EX_h_e': 1000.0,\n 'EX_h2o_e': 1000.0,\n 'EX_k_e': 1000.0,\n 'EX_met__L_e': 1000.0,\n 'EX_mg2_e': 1000.0,\n 'EX_mn2_e': 1000.0,\n 'EX_nh4_e': 1000.0,\n 'EX_ni2_e': 1000.0,\n 'EX_no3_e': 1000.0,\n 'EX_pi_e': 1000.0,\n 'EX_so4_e': 1000.0,\n 'EX_zn2_e': 1000.0,\n 'EX_cl_e': 1000.0,\n 'EX_co2_e': 1000.0,\n 'EX_mobd_e': 1000.0,\n 'EX_o2_e': 1000.0,\n 'EX_hdca_e': 1000.0}"
          },
          "metadata": {}
        }
      ],
      "execution_count": 5,
      "metadata": {},
      "id": "fe662e68"
    },
    {
      "cell_type": "code",
      "source": [
        "mutant1_reactions = {}\n",
        "for i in mutant1.reactions:\n",
        "    x=i.id\n",
        "    y=i.build_reaction_string()\n",
        "    mutant1_reactions[x] = y"
      ],
      "outputs": [],
      "execution_count": 6,
      "metadata": {},
      "id": "a6947692"
    },
    {
      "cell_type": "code",
      "source": [
        "model2_reactions = {}\n",
        "for i in model2.reactions:\n",
        "    x=i.id\n",
        "    y=i.build_reaction_string()\n",
        "    model2_reactions[x] = y"
      ],
      "outputs": [],
      "execution_count": 7,
      "metadata": {},
      "id": "8bc9b63a"
    },
    {
      "cell_type": "code",
      "source": [
        "model2_unique = {}\n",
        "for x in model2_reactions:\n",
        "    if x in mutant1_reactions: continue\n",
        "    else:\n",
        "        y = model2_reactions[x]\n",
        "        if x == 'BIOMASS_SCO': continue\n",
        "        else:\n",
        "            model2_unique[x] = y"
      ],
      "outputs": [],
      "execution_count": 8,
      "metadata": {},
      "id": "e8d38e68"
    },
    {
      "cell_type": "code",
      "source": [
        "model2.slim_optimize()"
      ],
      "outputs": [
        {
          "output_type": "execute_result",
          "execution_count": 9,
          "data": {
            "text/plain": "14.657320838057537"
          },
          "metadata": {}
        }
      ],
      "execution_count": 9,
      "metadata": {},
      "id": "998dffde"
    },
    {
      "cell_type": "raw",
      "source": [
        "Add sink reaction for acetyl coA\n",
        "Set sink reaction as the objective\n",
        "optimize the model\n",
        "Ex_accoa_c <=> \n",
        "lower bounds 0\n",
        "upper bounds 1000\n",
        "check in media with Glucose\n",
        "check in media with hdca\n",
        "what is the fate of co2. which reversible reaction my be incorrect."
      ],
      "metadata": {},
      "id": "59e5605d"
    },
    {
      "cell_type": "markdown",
      "source": [
        "### Add sink reaction for acetyl coA"
      ],
      "metadata": {},
      "id": "24421f45"
    },
    {
      "cell_type": "raw",
      "source": [
        "check existing sink reactions"
      ],
      "metadata": {},
      "id": "bab18cef"
    },
    {
      "cell_type": "code",
      "source": [
        "print(\"exchanges\", len(mutant1.exchanges))\n",
        "print(\"demands\", len(mutant1.demands))\n",
        "print(\"sinks\", len(mutant1.sinks))"
      ],
      "outputs": [
        {
          "output_type": "stream",
          "name": "stderr",
          "text": [
            "Could not identify an external compartment by name and choosing one with the most boundary reactions. That might be complete nonsense or change suddenly. Consider renaming your compartments using `Model.compartments` to fix this.\n",
            "Could not identify an external compartment by name and choosing one with the most boundary reactions. That might be complete nonsense or change suddenly. Consider renaming your compartments using `Model.compartments` to fix this.\n",
            "Could not identify an external compartment by name and choosing one with the most boundary reactions. That might be complete nonsense or change suddenly. Consider renaming your compartments using `Model.compartments` to fix this.\n"
          ]
        },
        {
          "output_type": "stream",
          "name": "stdout",
          "text": [
            "exchanges 343\n",
            "demands 0\n",
            "sinks 6\n"
          ]
        }
      ],
      "execution_count": 10,
      "metadata": {},
      "id": "34b7b3ce"
    },
    {
      "cell_type": "code",
      "source": [
        "print(\"exchanges\", len(model2.exchanges))\n",
        "print(\"demands\", len(model2.demands))\n",
        "print(\"sinks\", len(model2.sinks))"
      ],
      "outputs": [
        {
          "output_type": "stream",
          "name": "stdout",
          "text": [
            "exchanges 158\n",
            "demands 4\n",
            "sinks 0\n"
          ]
        }
      ],
      "execution_count": 11,
      "metadata": {},
      "id": "d8141be8"
    },
    {
      "cell_type": "code",
      "source": [
        "print(\"sinks\", mutant1.sinks)"
      ],
      "outputs": [
        {
          "output_type": "stream",
          "name": "stderr",
          "text": [
            "Could not identify an external compartment by name and choosing one with the most boundary reactions. That might be complete nonsense or change suddenly. Consider renaming your compartments using `Model.compartments` to fix this.\n"
          ]
        },
        {
          "output_type": "stream",
          "name": "stdout",
          "text": [
            "sinks [<Reaction sink_2ohph_c at 0x2580754dfa0>, <Reaction sink_4hba_c at 0x2580754daf0>, <Reaction sink_amob_c at 0x2580754d6d0>, <Reaction sink_hemeO_c at 0x25807536340>, <Reaction sink_lipopb_c at 0x2580754d910>, <Reaction sink_sheme_c at 0x2580754da30>]\n"
          ]
        }
      ],
      "execution_count": 12,
      "metadata": {},
      "id": "c1ec64ce"
    },
    {
      "cell_type": "code",
      "source": [
        "mutant1.reactions.get_by_id('sink_2ohph_c')"
      ],
      "outputs": [
        {
          "output_type": "execute_result",
          "execution_count": 13,
          "data": {
            "text/html": "\n        <table>\n            <tr>\n                <td><strong>Reaction identifier</strong></td><td>sink_2ohph_c</td>\n            </tr><tr>\n                <td><strong>Name</strong></td><td>R_sink_2ohph_c</td>\n            </tr><tr>\n                <td><strong>Memory address</strong></td>\n                <td>0x2580754dfa0</td>\n            </tr><tr>\n                <td><strong>Stoichiometry</strong></td>\n                <td>\n                    <p style='text-align:right'>2ohph_c --></p>\n                    <p style='text-align:right'>2-Octaprenyl-6-hydroxyphenol --></p>\n                </td>\n            </tr><tr>\n                <td><strong>GPR</strong></td><td></td>\n            </tr><tr>\n                <td><strong>Lower bound</strong></td><td>0.0</td>\n            </tr><tr>\n                <td><strong>Upper bound</strong></td><td>1000.0</td>\n            </tr>\n        </table>\n        ",
            "text/plain": "<Reaction sink_2ohph_c at 0x2580754dfa0>"
          },
          "metadata": {}
        }
      ],
      "execution_count": 13,
      "metadata": {},
      "id": "db3bc667"
    },
    {
      "cell_type": "code",
      "source": [
        "reaction = Reaction('sink_accoa_c')\n",
        "reaction.name = 'R_sink_accoa_c'\n",
        "reaction.subsystem = 'Metabolite'\n",
        "reaction.lower_bound = 0.  # This is the default\n",
        "reaction.upper_bound = 1000.  # This is the default\n",
        "reaction.gene_reaction_rule = ''"
      ],
      "outputs": [],
      "execution_count": 14,
      "metadata": {},
      "id": "a7b5e90c"
    },
    {
      "cell_type": "code",
      "source": [
        "reaction.add_metabolites({mutant1.metabolites.accoa_c:-1})"
      ],
      "outputs": [],
      "execution_count": 15,
      "metadata": {},
      "id": "1ad04981"
    },
    {
      "cell_type": "code",
      "source": [
        "mutant1.add_reactions([reaction])"
      ],
      "outputs": [],
      "execution_count": 16,
      "metadata": {},
      "id": "f0b008d2"
    },
    {
      "cell_type": "markdown",
      "source": [
        "### Set sink reaction as the objective"
      ],
      "metadata": {},
      "id": "05a2f347"
    },
    {
      "cell_type": "code",
      "source": [
        "mutant1.objective='sink_accoa_c'"
      ],
      "outputs": [],
      "execution_count": 17,
      "metadata": {},
      "id": "3415ef70"
    },
    {
      "cell_type": "code",
      "source": [
        "cobra.flux_analysis.pfba(mutant1)"
      ],
      "outputs": [
        {
          "output_type": "execute_result",
          "execution_count": 18,
          "data": {
            "text/html": "<strong><em>Optimal</em> solution with objective value 12461.039</strong><br><div>\n<style scoped>\n    .dataframe tbody tr th:only-of-type {\n        vertical-align: middle;\n    }\n\n    .dataframe tbody tr th {\n        vertical-align: top;\n    }\n\n    .dataframe thead th {\n        text-align: right;\n    }\n</style>\n<table border=\"1\" class=\"dataframe\">\n  <thead>\n    <tr style=\"text-align: right;\">\n      <th></th>\n      <th>fluxes</th>\n      <th>reduced_costs</th>\n    </tr>\n  </thead>\n  <tbody>\n    <tr>\n      <th>12DGR120tipp</th>\n      <td>0.000000</td>\n      <td>-2.0</td>\n    </tr>\n    <tr>\n      <th>12DGR140tipp</th>\n      <td>0.000000</td>\n      <td>-2.0</td>\n    </tr>\n    <tr>\n      <th>12DGR141tipp</th>\n      <td>0.000000</td>\n      <td>-2.0</td>\n    </tr>\n    <tr>\n      <th>12DGR160tipp</th>\n      <td>0.000000</td>\n      <td>-2.0</td>\n    </tr>\n    <tr>\n      <th>12DGR161tipp</th>\n      <td>0.000000</td>\n      <td>-2.0</td>\n    </tr>\n    <tr>\n      <th>...</th>\n      <td>...</td>\n      <td>...</td>\n    </tr>\n    <tr>\n      <th>MonB_Synth_c0</th>\n      <td>0.000000</td>\n      <td>26879.5</td>\n    </tr>\n    <tr>\n      <th>MonB_Transp_c0</th>\n      <td>0.000000</td>\n      <td>0.0</td>\n    </tr>\n    <tr>\n      <th>EX_MonensinA_e0</th>\n      <td>0.000000</td>\n      <td>-2.0</td>\n    </tr>\n    <tr>\n      <th>EX_MonensinB_e0</th>\n      <td>0.000000</td>\n      <td>0.0</td>\n    </tr>\n    <tr>\n      <th>sink_accoa_c</th>\n      <td>12.987013</td>\n      <td>-2.0</td>\n    </tr>\n  </tbody>\n</table>\n<p>2976 rows × 2 columns</p>\n</div>",
            "text/plain": "<Solution 12461.039 at 0x25807c5e850>"
          },
          "metadata": {}
        }
      ],
      "execution_count": 18,
      "metadata": {},
      "id": "4dabd208"
    },
    {
      "cell_type": "markdown",
      "source": [
        "### Adding Glucose to medium"
      ],
      "metadata": {},
      "id": "4e964732"
    },
    {
      "cell_type": "code",
      "source": [
        "medium = mutant1.medium\n",
        "medium[\"EX_cit_e\"] = 0.0\n",
        "medium['EX_hdca_e'] = 1000\n",
        "mutant1.medium = medium"
      ],
      "outputs": [
        {
          "output_type": "stream",
          "name": "stderr",
          "text": [
            "Could not identify an external compartment by name and choosing one with the most boundary reactions. That might be complete nonsense or change suddenly. Consider renaming your compartments using `Model.compartments` to fix this.\n",
            "Could not identify an external compartment by name and choosing one with the most boundary reactions. That might be complete nonsense or change suddenly. Consider renaming your compartments using `Model.compartments` to fix this.\n"
          ]
        }
      ],
      "execution_count": 19,
      "metadata": {},
      "id": "43537604"
    },
    {
      "cell_type": "code",
      "source": [
        "solution = cobra.flux_analysis.pfba(mutant1)"
      ],
      "outputs": [],
      "execution_count": 20,
      "metadata": {},
      "id": "78b21c96"
    },
    {
      "cell_type": "markdown",
      "source": [
        "### Find out why cells cannot use lipids. if you only use lipids can you produce acetyl coA."
      ],
      "metadata": {},
      "id": "05a21c3c"
    },
    {
      "cell_type": "code",
      "source": [
        "#mutant1.objective='ATPM'"
      ],
      "outputs": [],
      "execution_count": 21,
      "metadata": {},
      "id": "7073f947"
    },
    {
      "cell_type": "code",
      "source": [
        "solution = cobra.flux_analysis.pfba(mutant1)"
      ],
      "outputs": [],
      "execution_count": 22,
      "metadata": {},
      "id": "edd8723f"
    },
    {
      "cell_type": "code",
      "source": [
        "#model2.objective='ATPM'"
      ],
      "outputs": [],
      "execution_count": 23,
      "metadata": {},
      "id": "a6f06ee7"
    },
    {
      "cell_type": "code",
      "source": [
        "solution1 = cobra.flux_analysis.pfba(model2)"
      ],
      "outputs": [],
      "execution_count": 24,
      "metadata": {},
      "id": "fcded0cd"
    },
    {
      "cell_type": "code",
      "source": [
        "print(mutant1.metabolites.accoa_c.summary())"
      ],
      "outputs": [
        {
          "output_type": "stream",
          "name": "stdout",
          "text": [
            "accoa_c\n",
            "=======\n",
            "Formula: C23H34N7O17P3S\n",
            "\n",
            "Producing Reactions\n",
            "-------------------\n",
            "Empty DataFrame\n",
            "Columns: [Percent, Flux, Reaction, Definition]\n",
            "Index: []\n",
            "\n",
            "Consuming Reactions\n",
            "-------------------\n",
            "Empty DataFrame\n",
            "Columns: [Percent, Flux, Reaction, Definition]\n",
            "Index: []\n"
          ]
        }
      ],
      "execution_count": 25,
      "metadata": {},
      "id": "f7b2d3e6"
    },
    {
      "cell_type": "code",
      "source": [
        "mutant1.reactions.get_by_id(\"PDH\").build_reaction_string(use_metabolite_names = True)"
      ],
      "outputs": [
        {
          "output_type": "execute_result",
          "execution_count": 26,
          "data": {
            "text/plain": "'Coenzyme A + Nicotinamide adenine dinucleotide + Pyruvate --> Acetyl-CoA + CO2 CO2 + Nicotinamide adenine dinucleotide - reduced'"
          },
          "metadata": {}
        }
      ],
      "execution_count": 26,
      "metadata": {},
      "id": "0b7b1a6e"
    },
    {
      "cell_type": "code",
      "source": [
        "mutant1.reactions.get_by_id(\"PFL\").build_reaction_string(use_metabolite_names = True)"
      ],
      "outputs": [
        {
          "output_type": "execute_result",
          "execution_count": 27,
          "data": {
            "text/plain": "'Coenzyme A + Pyruvate --> Acetyl-CoA + Formate'"
          },
          "metadata": {}
        }
      ],
      "execution_count": 27,
      "metadata": {},
      "id": "b69be55a"
    },
    {
      "cell_type": "code",
      "source": [
        "mutant1.reactions.get_by_id(\"CS\").build_reaction_string(use_metabolite_names = True)"
      ],
      "outputs": [
        {
          "output_type": "execute_result",
          "execution_count": 28,
          "data": {
            "text/plain": "'Acetyl-CoA + H2O H2O + Oxaloacetate --> Citrate + Coenzyme A + H+'"
          },
          "metadata": {}
        }
      ],
      "execution_count": 28,
      "metadata": {},
      "id": "2ebc754b"
    },
    {
      "cell_type": "code",
      "source": [
        "print(model2.metabolites.accoa_c.summary())"
      ],
      "outputs": [
        {
          "output_type": "stream",
          "name": "stdout",
          "text": [
            "accoa_c\n",
            "=======\n",
            "Formula: C23H34N7O17P3S\n",
            "\n",
            "Producing Reactions\n",
            "-------------------\n",
            "Percent    Flux Reaction                                Definition\n",
            " 16.62%   44.48  ACACT2r    accoa_c + btcoa_c <=> 3ohcoa_c + coa_c\n",
            " 16.62%   44.48  ACACT3r    accoa_c + hxcoa_c <=> 3oocoa_c + coa_c\n",
            " 16.68%   44.64  ACACT4r    accoa_c + occoa_c <=> 3odcoa_c + coa_c\n",
            " 16.68%   44.64  ACACT5r  accoa_c + dcacoa_c <=> 3oddcoa_c + coa_c\n",
            " 16.68%   44.64  ACACT6r accoa_c + ddcacoa_c <=> 3otdcoa_c + coa_c\n",
            " 16.68%   44.64  ACACT7r   accoa_c + tdcoa_c <=> 3ohdcoa_c + coa_c\n",
            "  0.03% 0.08019     PTAr         accoa_c + pi_c <=> actp_c + coa_c\n",
            "\n",
            "Consuming Reactions\n",
            "-------------------\n",
            "Percent     Flux Reaction                                                 Definition\n",
            " 91.29%   -244.3  ACACT1r                            2.0 accoa_c <=> aacoa_c + coa_c\n",
            "  5.42%   -14.49   ACCOAC accoa_c + atp_c + hco3_c --> adp_c + h_c + malcoa_c + pi_c\n",
            "  1.35%   -3.624    CITMS              accoa_c + h2o_c + pyr_c <=> citm__R_c + coa_c\n",
            "  1.91%   -5.109   G1PACT              accoa_c + gam1p_c --> acgam1p_c + coa_c + h_c\n",
            "  0.01% -0.01885    GLYAT                       accoa_c + gly_c <=> 2aobut_c + coa_c\n",
            "  0.02% -0.06134     MSHS                        accoa_c + cigam_c --> coa_c + msh_c\n"
          ]
        }
      ],
      "execution_count": 29,
      "metadata": {},
      "id": "35bddb9c"
    },
    {
      "cell_type": "code",
      "source": [
        " mutant1.metabolites.get_by_id('aacoa_c').summary()"
      ],
      "outputs": [
        {
          "output_type": "execute_result",
          "execution_count": 30,
          "data": {
            "text/html": "<h3>aacoa_c</h3><p>C25H36N7O18P3S</p><h4>Producing Reactions</h4><table border=\"1\" class=\"dataframe\">\n  <thead>\n    <tr style=\"text-align: right;\">\n      <th>Percent</th>\n      <th>Flux</th>\n      <th>Reaction</th>\n      <th>Definition</th>\n    </tr>\n  </thead>\n  <tbody>\n  </tbody>\n</table><h4>Consuming Reactions</h4><table border=\"1\" class=\"dataframe\">\n  <thead>\n    <tr style=\"text-align: right;\">\n      <th>Percent</th>\n      <th>Flux</th>\n      <th>Reaction</th>\n      <th>Definition</th>\n    </tr>\n  </thead>\n  <tbody>\n  </tbody>\n</table>",
            "text/plain": "<cobra.summary.metabolite_summary.MetaboliteSummary at 0x25807b65be0>"
          },
          "metadata": {}
        }
      ],
      "execution_count": 30,
      "metadata": {},
      "id": "0612671f"
    },
    {
      "cell_type": "code",
      "source": [
        " mutant1.metabolites.get_by_id('coa_c').summary()"
      ],
      "outputs": [
        {
          "output_type": "execute_result",
          "execution_count": 31,
          "data": {
            "text/html": "<h3>coa_c</h3><p>C21H32N7O16P3S</p><h4>Producing Reactions</h4><table border=\"1\" class=\"dataframe\">\n  <thead>\n    <tr style=\"text-align: right;\">\n      <th>Percent</th>\n      <th>Flux</th>\n      <th>Reaction</th>\n      <th>Definition</th>\n    </tr>\n  </thead>\n  <tbody>\n  </tbody>\n</table><h4>Consuming Reactions</h4><table border=\"1\" class=\"dataframe\">\n  <thead>\n    <tr style=\"text-align: right;\">\n      <th>Percent</th>\n      <th>Flux</th>\n      <th>Reaction</th>\n      <th>Definition</th>\n    </tr>\n  </thead>\n  <tbody>\n  </tbody>\n</table>",
            "text/plain": "<cobra.summary.metabolite_summary.MetaboliteSummary at 0x258081be7c0>"
          },
          "metadata": {}
        }
      ],
      "execution_count": 31,
      "metadata": {},
      "id": "3ad28694"
    },
    {
      "cell_type": "code",
      "source": [
        "model2.reactions.get_by_id(\"ACACT2r\").build_reaction_string(use_metabolite_names = True)"
      ],
      "outputs": [
        {
          "output_type": "execute_result",
          "execution_count": 32,
          "data": {
            "text/plain": "'Acetyl-CoA + Butanoyl-CoA <=> 3-Oxohexanoyl-CoA + Coenzyme A'"
          },
          "metadata": {}
        }
      ],
      "execution_count": 32,
      "metadata": {},
      "id": "a70d49f3"
    },
    {
      "cell_type": "code",
      "source": [
        "model2.reactions.get_by_id(\"ACACT3r\").build_reaction_string(use_metabolite_names = True)"
      ],
      "outputs": [
        {
          "output_type": "execute_result",
          "execution_count": 33,
          "data": {
            "text/plain": "'Acetyl-CoA + Hexanoyl-CoA (n-C6:0CoA) <=> 3-Oxooctanoyl-CoA + Coenzyme A'"
          },
          "metadata": {}
        }
      ],
      "execution_count": 33,
      "metadata": {},
      "id": "cad13c97"
    },
    {
      "cell_type": "code",
      "source": [
        "model2.reactions.get_by_id(\"ACACT4r\").build_reaction_string(use_metabolite_names = True)"
      ],
      "outputs": [
        {
          "output_type": "execute_result",
          "execution_count": 34,
          "data": {
            "text/plain": "'Acetyl-CoA + Octanoyl-CoA (n-C8:0CoA) <=> 3-Oxodecanoyl-CoA + Coenzyme A'"
          },
          "metadata": {}
        }
      ],
      "execution_count": 34,
      "metadata": {},
      "id": "8324543c"
    },
    {
      "cell_type": "code",
      "source": [
        "model2.reactions.get_by_id(\"ACACT5r\").build_reaction_string(use_metabolite_names = True)"
      ],
      "outputs": [
        {
          "output_type": "execute_result",
          "execution_count": 35,
          "data": {
            "text/plain": "'Acetyl-CoA + Decanoyl-CoA (n-C10:0CoA) <=> 3-Oxododecanoyl-CoA + Coenzyme A'"
          },
          "metadata": {}
        }
      ],
      "execution_count": 35,
      "metadata": {},
      "id": "d3d994fc"
    },
    {
      "cell_type": "code",
      "source": [
        "model2.reactions.get_by_id(\"ACACT6r\").build_reaction_string(use_metabolite_names = True)"
      ],
      "outputs": [
        {
          "output_type": "execute_result",
          "execution_count": 36,
          "data": {
            "text/plain": "'Acetyl-CoA + Dodecanoyl-CoA (n-C12:0CoA) <=> 3-Oxotetradecanoyl-CoA + Coenzyme A'"
          },
          "metadata": {}
        }
      ],
      "execution_count": 36,
      "metadata": {},
      "id": "f53fc965"
    },
    {
      "cell_type": "code",
      "source": [
        "model2.reactions.get_by_id(\"ACACT7r\").build_reaction_string(use_metabolite_names = True)"
      ],
      "outputs": [
        {
          "output_type": "execute_result",
          "execution_count": 37,
          "data": {
            "text/plain": "'Acetyl-CoA + Tetradecanoyl-CoA (n-C14:0CoA) <=> 3-Oxohexadecanoyl-CoA + Coenzyme A'"
          },
          "metadata": {}
        }
      ],
      "execution_count": 37,
      "metadata": {},
      "id": "d171acec"
    },
    {
      "cell_type": "code",
      "source": [
        "model2.reactions.get_by_id(\"PTAr\").build_reaction_string(use_metabolite_names = True)"
      ],
      "outputs": [
        {
          "output_type": "execute_result",
          "execution_count": 38,
          "data": {
            "text/plain": "'Acetyl-CoA + Phosphate <=> Acetyl phosphate + Coenzyme A'"
          },
          "metadata": {}
        }
      ],
      "execution_count": 38,
      "metadata": {},
      "id": "114cd817"
    },
    {
      "cell_type": "code",
      "source": [
        "model2.reactions.get_by_id(\"ACACT1r\").build_reaction_string(use_metabolite_names = True)"
      ],
      "outputs": [
        {
          "output_type": "execute_result",
          "execution_count": 39,
          "data": {
            "text/plain": "'2.0 Acetyl-CoA <=> Acetoacetyl-CoA + Coenzyme A'"
          },
          "metadata": {}
        }
      ],
      "execution_count": 39,
      "metadata": {},
      "id": "233191d3"
    },
    {
      "cell_type": "code",
      "source": [
        "model2.reactions.get_by_id(\"ACCOAC\").build_reaction_string(use_metabolite_names = True)"
      ],
      "outputs": [
        {
          "output_type": "execute_result",
          "execution_count": 40,
          "data": {
            "text/plain": "'Acetyl-CoA + ATP + Bicarbonate --> ADP + H+ + Malonyl-CoA + Phosphate'"
          },
          "metadata": {}
        }
      ],
      "execution_count": 40,
      "metadata": {},
      "id": "9ed138c7"
    },
    {
      "cell_type": "code",
      "source": [
        "model2.reactions.get_by_id(\"CITMS\").build_reaction_string(use_metabolite_names = True)"
      ],
      "outputs": [
        {
          "output_type": "execute_result",
          "execution_count": 41,
          "data": {
            "text/plain": "'Acetyl-CoA + H2O + Pyruvate <=> (R)-2-Methylmalate + Coenzyme A'"
          },
          "metadata": {}
        }
      ],
      "execution_count": 41,
      "metadata": {},
      "id": "a7f67de9"
    },
    {
      "cell_type": "code",
      "source": [
        "model2.reactions.get_by_id(\"GLYAT\").build_reaction_string(use_metabolite_names = True)"
      ],
      "outputs": [
        {
          "output_type": "execute_result",
          "execution_count": 42,
          "data": {
            "text/plain": "'Acetyl-CoA + Glycine <=> L-2-Amino-3-oxobutanoate + Coenzyme A'"
          },
          "metadata": {}
        }
      ],
      "execution_count": 42,
      "metadata": {},
      "id": "818e3640"
    },
    {
      "cell_type": "code",
      "source": [
        "for x in mutant1.metabolites.get_by_id('2aobut_c').reactions:\n",
        "    print(x.id)\n",
        "    print(x.build_reaction_string(use_metabolite_names = False))\n",
        "    print(solution[x.id])"
      ],
      "outputs": [
        {
          "output_type": "stream",
          "name": "stdout",
          "text": [
            "GLYAT\n",
            "accoa_c + gly_c <=> 2aobut_c + coa_c\n",
            "0.0\n",
            "ATHRDHr\n",
            "athr__L_c + nadp_c <=> 2aobut_c + h_c + nadph_c\n",
            "0.0\n",
            "THRD\n",
            "nad_c + thr__L_c --> 2aobut_c + h_c + nadh_c\n",
            "0.0\n"
          ]
        }
      ],
      "execution_count": 43,
      "metadata": {},
      "id": "7173dee5"
    },
    {
      "cell_type": "code",
      "source": [
        "li = ['3ohcoa_c','3oocoa_c','3odcoa_c','3oddcoa_c','3otdcoa_c','3ohdcoa_c']\n",
        "for a in li:\n",
        "    print(a)\n",
        "    print(mutant1.metabolites.get_by_id(a).summary())"
      ],
      "outputs": [
        {
          "output_type": "stream",
          "name": "stdout",
          "text": [
            "3ohcoa_c\n",
            "3ohcoa_c\n",
            "========\n",
            "Formula: C27H40N7O18P3S\n",
            "\n",
            "Producing Reactions\n",
            "-------------------\n",
            "Empty DataFrame\n",
            "Columns: [Percent, Flux, Reaction, Definition]\n",
            "Index: []\n",
            "\n",
            "Consuming Reactions\n",
            "-------------------\n",
            "Empty DataFrame\n",
            "Columns: [Percent, Flux, Reaction, Definition]\n",
            "Index: []\n",
            "3oocoa_c\n",
            "3oocoa_c\n",
            "========\n",
            "Formula: C29H44N7O18P3S\n",
            "\n",
            "Producing Reactions\n",
            "-------------------\n",
            "Empty DataFrame\n",
            "Columns: [Percent, Flux, Reaction, Definition]\n",
            "Index: []\n",
            "\n",
            "Consuming Reactions\n",
            "-------------------\n",
            "Empty DataFrame\n",
            "Columns: [Percent, Flux, Reaction, Definition]\n",
            "Index: []\n",
            "3odcoa_c\n",
            "3odcoa_c\n",
            "========\n",
            "Formula: C31H48N7O18P3S\n",
            "\n",
            "Producing Reactions\n",
            "-------------------\n",
            "Empty DataFrame\n",
            "Columns: [Percent, Flux, Reaction, Definition]\n",
            "Index: []\n",
            "\n",
            "Consuming Reactions\n",
            "-------------------\n",
            "Empty DataFrame\n",
            "Columns: [Percent, Flux, Reaction, Definition]\n",
            "Index: []\n",
            "3oddcoa_c\n",
            "3oddcoa_c\n",
            "=========\n",
            "Formula: C33H52N7O18P3S\n",
            "\n",
            "Producing Reactions\n",
            "-------------------\n",
            "Empty DataFrame\n",
            "Columns: [Percent, Flux, Reaction, Definition]\n",
            "Index: []\n",
            "\n",
            "Consuming Reactions\n",
            "-------------------\n",
            "Empty DataFrame\n",
            "Columns: [Percent, Flux, Reaction, Definition]\n",
            "Index: []\n",
            "3otdcoa_c\n",
            "3otdcoa_c\n",
            "=========\n",
            "Formula: C35H56N7O18P3S\n",
            "\n",
            "Producing Reactions\n",
            "-------------------\n",
            "Empty DataFrame\n",
            "Columns: [Percent, Flux, Reaction, Definition]\n",
            "Index: []\n",
            "\n",
            "Consuming Reactions\n",
            "-------------------\n",
            "Empty DataFrame\n",
            "Columns: [Percent, Flux, Reaction, Definition]\n",
            "Index: []\n",
            "3ohdcoa_c\n",
            "3ohdcoa_c\n",
            "=========\n",
            "Formula: C37H60N7O18P3S\n",
            "\n",
            "Producing Reactions\n",
            "-------------------\n",
            "Empty DataFrame\n",
            "Columns: [Percent, Flux, Reaction, Definition]\n",
            "Index: []\n",
            "\n",
            "Consuming Reactions\n",
            "-------------------\n",
            "Empty DataFrame\n",
            "Columns: [Percent, Flux, Reaction, Definition]\n",
            "Index: []\n"
          ]
        }
      ],
      "execution_count": 44,
      "metadata": {},
      "id": "73667047"
    },
    {
      "cell_type": "code",
      "source": [
        "li = ['3hhcoa_c','3ohcoa_c','3oocoa_c','3odcoa_c','3oddcoa_c','3otdcoa_c','3ohdcoa_c','3ohcoa_c','3hhdcoa_c','btcoa_c','hx2coa_c']\n",
        "for a in li:\n",
        "    print(a)\n",
        "    for x in mutant1.metabolites.get_by_id(a).reactions:\n",
        "        print(x.id)\n",
        "        print(x.build_reaction_string(use_metabolite_names = False))\n",
        "        print(solution[x.id])"
      ],
      "outputs": [
        {
          "output_type": "stream",
          "name": "stdout",
          "text": [
            "3hhcoa_c\n",
            "HACD2\n",
            "3ohcoa_c + h_c + nadh_c <=> 3hhcoa_c + nad_c\n",
            "0.0\n",
            "ECOAH2\n",
            "3hhcoa_c <=> h2o_c + hx2coa_c\n",
            "0.0\n",
            "HACD2i\n",
            "3hhcoa_c + nad_c --> 3ohcoa_c + h_c + nadh_c\n",
            "0.0\n",
            "3ohcoa_c\n",
            "ACACT2r\n",
            "accoa_c + btcoa_c <=> 3ohcoa_c + coa_c\n",
            "0.0\n",
            "HACD2\n",
            "3ohcoa_c + h_c + nadh_c <=> 3hhcoa_c + nad_c\n",
            "0.0\n",
            "ACACT11\n",
            "3ohcoa_c + coa_c --> accoa_c + btcoa_c\n",
            "0.0\n",
            "HACD2i\n",
            "3hhcoa_c + nad_c --> 3ohcoa_c + h_c + nadh_c\n",
            "0.0\n",
            "3oocoa_c\n",
            "ACACT3r\n",
            "accoa_c + hxcoa_c <=> 3oocoa_c + coa_c\n",
            "0.0\n",
            "HACD3i\n",
            "3hocoa_c + nad_c --> 3oocoa_c + h_c + nadh_c\n",
            "0.0\n",
            "ACACT8\n",
            "3oocoa_c + coa_c --> accoa_c + hxcoa_c\n",
            "0.0\n",
            "HACD3\n",
            "3oocoa_c + h_c + nadh_c <=> 3hocoa_c + nad_c\n",
            "0.0\n",
            "3odcoa_c\n",
            "HACD4i\n",
            "3hdcoa_c + nad_c --> 3odcoa_c + h_c + nadh_c\n",
            "0.0\n",
            "ACACT4r\n",
            "accoa_c + occoa_c <=> 3odcoa_c + coa_c\n",
            "0.0\n",
            "ACACT13\n",
            "3odcoa_c + coa_c --> accoa_c + occoa_c\n",
            "0.0\n",
            "HACD4\n",
            "3odcoa_c + h_c + nadh_c <=> 3hdcoa_c + nad_c\n",
            "0.0\n",
            "3oddcoa_c\n",
            "HACD5i\n",
            "3hddcoa_c + nad_c --> 3oddcoa_c + h_c + nadh_c\n",
            "0.0\n",
            "ACACT5r\n",
            "accoa_c + dcacoa_c <=> 3oddcoa_c + coa_c\n",
            "0.0\n",
            "HACD5\n",
            "3oddcoa_c + h_c + nadh_c <=> 3hddcoa_c + nad_c\n",
            "0.0\n",
            "ACACT10\n",
            "3oddcoa_c + coa_c --> accoa_c + dcacoa_c\n",
            "0.0\n",
            "3otdcoa_c\n",
            "HACD6\n",
            "3otdcoa_c + h_c + nadh_c <=> 3htdcoa_c + nad_c\n",
            "0.0\n",
            "HACD6i\n",
            "3htdcoa_c + nad_c --> 3otdcoa_c + h_c + nadh_c\n",
            "0.0\n",
            "ACACT9\n",
            "3otdcoa_c + coa_c --> accoa_c + ddcacoa_c\n",
            "0.0\n",
            "ACACT6r\n",
            "accoa_c + ddcacoa_c <=> 3otdcoa_c + coa_c\n",
            "0.0\n",
            "3ohdcoa_c\n",
            "ACACT12\n",
            "3ohdcoa_c + coa_c --> accoa_c + tdcoa_c\n",
            "0.0\n",
            "HACD7\n",
            "3ohdcoa_c + h_c + nadh_c <=> 3hhdcoa_c + nad_c\n",
            "0.0\n",
            "HACD7i\n",
            "3hhdcoa_c + nad_c --> 3ohdcoa_c + h_c + nadh_c\n",
            "0.0\n",
            "ACACT7r\n",
            "accoa_c + tdcoa_c <=> 3ohdcoa_c + coa_c\n",
            "0.0\n",
            "3ohcoa_c\n",
            "ACACT2r\n",
            "accoa_c + btcoa_c <=> 3ohcoa_c + coa_c\n",
            "0.0\n",
            "HACD2\n",
            "3ohcoa_c + h_c + nadh_c <=> 3hhcoa_c + nad_c\n",
            "0.0\n",
            "ACACT11\n",
            "3ohcoa_c + coa_c --> accoa_c + btcoa_c\n",
            "0.0\n",
            "HACD2i\n",
            "3hhcoa_c + nad_c --> 3ohcoa_c + h_c + nadh_c\n",
            "0.0\n",
            "3hhdcoa_c\n",
            "ECOAH7\n",
            "3hhdcoa_c <=> h2o_c + hdd2coa_c\n",
            "0.0\n",
            "HACD7i\n",
            "3hhdcoa_c + nad_c --> 3ohdcoa_c + h_c + nadh_c\n",
            "0.0\n",
            "HACD7\n",
            "3ohdcoa_c + h_c + nadh_c <=> 3hhdcoa_c + nad_c\n",
            "0.0\n",
            "btcoa_c\n",
            "ACACT2r\n",
            "accoa_c + btcoa_c <=> 3ohcoa_c + coa_c\n",
            "0.0\n",
            "BUTCT\n",
            "accoa_c + but_c --> ac_c + btcoa_c\n",
            "0.0\n",
            "FACOAL40t2pp\n",
            "atp_c + but_p + coa_c + h_p --> amp_c + btcoa_c + h_c + ppi_c\n",
            "0.0\n",
            "ACACT11\n",
            "3ohcoa_c + coa_c --> accoa_c + btcoa_c\n",
            "0.0\n",
            "ACOAD1\n",
            "b2coa_c + h_c + nadh_c --> btcoa_c + nad_c\n",
            "0.0\n",
            "ACOAD1fr\n",
            "b2coa_c + fadh2_c --> btcoa_c + fad_c\n",
            "0.0\n",
            "T2ECR\n",
            "b2coa_c + h_c + nadph_c --> btcoa_c + nadp_c\n",
            "0.0\n",
            "ACOAD1f\n",
            "btcoa_c + fad_c --> b2coa_c + fadh2_c\n",
            "0.0\n",
            "IBTMr\n",
            "btcoa_c <=> ibcoa_c\n",
            "0.0\n",
            "hx2coa_c\n",
            "ECOAH2\n",
            "3hhcoa_c <=> h2o_c + hx2coa_c\n",
            "0.0\n",
            "RECOAH2\n",
            "R_3hhcoa_c <=> h2o_c + hx2coa_c\n",
            "0.0\n",
            "ACOAD2f\n",
            "fad_c + hxcoa_c <=> fadh2_c + hx2coa_c\n",
            "0.0\n",
            "ACOAD2\n",
            "h_c + hx2coa_c + nadh_c <=> hxcoa_c + nad_c\n",
            "0.0\n"
          ]
        }
      ],
      "execution_count": 45,
      "metadata": {},
      "id": "4ad530a3"
    },
    {
      "cell_type": "code",
      "source": [
        "li = ['3hhcoa_c','3ohcoa_c','3oocoa_c','3odcoa_c','3oddcoa_c','3otdcoa_c','3ohdcoa_c','3ohcoa_c','3hhdcoa_c','btcoa_c']\n",
        "for a in li:\n",
        "    print(a)\n",
        "    print(model2.metabolites.get_by_id(a).summary())"
      ],
      "outputs": [
        {
          "output_type": "stream",
          "name": "stdout",
          "text": [
            "3hhcoa_c\n",
            "3hhcoa_c\n",
            "========\n",
            "Formula: C27H42N7O18P3S\n",
            "\n",
            "Producing Reactions\n",
            "-------------------\n",
            "Percent  Flux Reaction                    Definition\n",
            "100.00% 44.48   ECOAH2 3hhcoa_c <=> h2o_c + hx2coa_c\n",
            "\n",
            "Consuming Reactions\n",
            "-------------------\n",
            "Percent   Flux Reaction                                   Definition\n",
            "100.00% -44.48    HACD2 3ohcoa_c + h_c + nadh_c <=> 3hhcoa_c + nad_c\n",
            "3ohcoa_c\n",
            "3ohcoa_c\n",
            "========\n",
            "Formula: C27H40N7O18P3S\n",
            "\n",
            "Producing Reactions\n",
            "-------------------\n",
            "Percent  Flux Reaction                                   Definition\n",
            "100.00% 44.48    HACD2 3ohcoa_c + h_c + nadh_c <=> 3hhcoa_c + nad_c\n",
            "\n",
            "Consuming Reactions\n",
            "-------------------\n",
            "Percent   Flux Reaction                             Definition\n",
            "100.00% -44.48  ACACT2r accoa_c + btcoa_c <=> 3ohcoa_c + coa_c\n",
            "3oocoa_c\n",
            "3oocoa_c\n",
            "========\n",
            "Formula: C29H44N7O18P3S\n",
            "\n",
            "Producing Reactions\n",
            "-------------------\n",
            "Percent  Flux Reaction                                   Definition\n",
            "100.00% 44.48    HACD3 3oocoa_c + h_c + nadh_c <=> 3hocoa_c + nad_c\n",
            "\n",
            "Consuming Reactions\n",
            "-------------------\n",
            "Percent   Flux Reaction                             Definition\n",
            "100.00% -44.48  ACACT3r accoa_c + hxcoa_c <=> 3oocoa_c + coa_c\n",
            "3odcoa_c\n",
            "3odcoa_c\n",
            "========\n",
            "Formula: C31H48N7O18P3S\n",
            "\n",
            "Producing Reactions\n",
            "-------------------\n",
            "Percent  Flux Reaction                                   Definition\n",
            "100.00% 44.64    HACD4 3odcoa_c + h_c + nadh_c <=> 3hdcoa_c + nad_c\n",
            "\n",
            "Consuming Reactions\n",
            "-------------------\n",
            "Percent   Flux Reaction                             Definition\n",
            "100.00% -44.64  ACACT4r accoa_c + occoa_c <=> 3odcoa_c + coa_c\n",
            "3oddcoa_c\n",
            "3oddcoa_c\n",
            "=========\n",
            "Formula: C33H52N7O18P3S\n",
            "\n",
            "Producing Reactions\n",
            "-------------------\n",
            "Percent  Flux Reaction                                     Definition\n",
            "100.00% 44.64    HACD5 3oddcoa_c + h_c + nadh_c <=> 3hddcoa_c + nad_c\n",
            "\n",
            "Consuming Reactions\n",
            "-------------------\n",
            "Percent   Flux Reaction                               Definition\n",
            "100.00% -44.64  ACACT5r accoa_c + dcacoa_c <=> 3oddcoa_c + coa_c\n",
            "3otdcoa_c\n",
            "3otdcoa_c\n",
            "=========\n",
            "Formula: C35H56N7O18P3S\n",
            "\n",
            "Producing Reactions\n",
            "-------------------\n",
            "Percent  Flux Reaction                                     Definition\n",
            "100.00% 44.64    HACD6 3otdcoa_c + h_c + nadh_c <=> 3htdcoa_c + nad_c\n",
            "\n",
            "Consuming Reactions\n",
            "-------------------\n",
            "Percent   Flux Reaction                                Definition\n",
            "100.00% -44.64  ACACT6r accoa_c + ddcacoa_c <=> 3otdcoa_c + coa_c\n",
            "3ohdcoa_c\n",
            "3ohdcoa_c\n",
            "=========\n",
            "Formula: C37H60N7O18P3S\n",
            "\n",
            "Producing Reactions\n",
            "-------------------\n",
            "Percent  Flux Reaction                                     Definition\n",
            "100.00% 44.64    HACD7 3ohdcoa_c + h_c + nadh_c <=> 3hhdcoa_c + nad_c\n",
            "\n",
            "Consuming Reactions\n",
            "-------------------\n",
            "Percent   Flux Reaction                              Definition\n",
            "100.00% -44.64  ACACT7r accoa_c + tdcoa_c <=> 3ohdcoa_c + coa_c\n",
            "3ohcoa_c\n",
            "3ohcoa_c\n",
            "========\n",
            "Formula: C27H40N7O18P3S\n",
            "\n",
            "Producing Reactions\n",
            "-------------------\n",
            "Percent  Flux Reaction                                   Definition\n",
            "100.00% 44.48    HACD2 3ohcoa_c + h_c + nadh_c <=> 3hhcoa_c + nad_c\n",
            "\n",
            "Consuming Reactions\n",
            "-------------------\n",
            "Percent   Flux Reaction                             Definition\n",
            "100.00% -44.48  ACACT2r accoa_c + btcoa_c <=> 3ohcoa_c + coa_c\n",
            "3hhdcoa_c\n",
            "3hhdcoa_c\n",
            "=========\n",
            "Formula: C37H62N7O18P3S\n",
            "\n",
            "Producing Reactions\n",
            "-------------------\n",
            "Percent  Flux Reaction                      Definition\n",
            "100.00% 44.64   ECOAH7 3hhdcoa_c <=> h2o_c + hdd2coa_c\n",
            "\n",
            "Consuming Reactions\n",
            "-------------------\n",
            "Percent   Flux Reaction                                     Definition\n",
            "100.00% -44.64    HACD7 3ohdcoa_c + h_c + nadh_c <=> 3hhdcoa_c + nad_c\n",
            "btcoa_c\n",
            "btcoa_c\n",
            "=======\n",
            "Formula: C25H38N7O17P3S\n",
            "\n",
            "Producing Reactions\n",
            "-------------------\n",
            "Percent  Flux Reaction                             Definition\n",
            " 26.75% 44.48  ACACT2r accoa_c + btcoa_c <=> 3ohcoa_c + coa_c\n",
            " 73.25% 121.8  ACOAD1f  btcoa_c + fad_c <=> b2coa_c + fadh2_c\n",
            "\n",
            "Consuming Reactions\n",
            "-------------------\n",
            "Percent    Flux Reaction                           Definition\n",
            "  0.32% -0.5343   BCOATA ACP_c + btcoa_c <=> butACP_c + coa_c\n",
            " 99.68%  -165.8    IBTMr                  ibcoa_c <=> btcoa_c\n"
          ]
        }
      ],
      "execution_count": 46,
      "metadata": {},
      "id": "12a83baa"
    },
    {
      "cell_type": "code",
      "source": [
        "reactions_to_add = {}\n",
        "ri = ['hdca_Transp_c0']\n",
        "for x in model2_reactions:\n",
        "    if x in ri:\n",
        "        y = model2_reactions[x]\n",
        "        reactions_to_add[x] = y"
      ],
      "outputs": [],
      "execution_count": 47,
      "metadata": {},
      "id": "30e718c3"
    },
    {
      "cell_type": "code",
      "source": [
        "for x in reactions_to_add:\n",
        "    reaction = model2.reactions.get_by_id(x)\n",
        "    print(reaction)\n",
        "    mutant1.add_reactions([reaction])\n",
        "    print(mutant1.slim_optimize())"
      ],
      "outputs": [
        {
          "output_type": "stream",
          "name": "stdout",
          "text": [
            "hdca_Transp_c0: hdca_e <=> hdca_c\n",
            "12.056262558607244\n"
          ]
        }
      ],
      "execution_count": 48,
      "metadata": {},
      "id": "4490ef7c"
    },
    {
      "cell_type": "code",
      "source": [
        "mutant1.slim_optimize()"
      ],
      "outputs": [
        {
          "output_type": "execute_result",
          "execution_count": 49,
          "data": {
            "text/plain": "12.056262558606333"
          },
          "metadata": {}
        }
      ],
      "execution_count": 49,
      "metadata": {},
      "id": "7b5b617f"
    },
    {
      "cell_type": "code",
      "source": [
        "print(mutant1.metabolites.accoa_c.summary())"
      ],
      "outputs": [
        {
          "output_type": "stream",
          "name": "stdout",
          "text": [
            "accoa_c\n",
            "=======\n",
            "Formula: C23H34N7O17P3S\n",
            "\n",
            "Producing Reactions\n",
            "-------------------\n",
            "Percent  Flux Reaction                                                                      Definition\n",
            "100.00% 533.2     FAO2 atp_c + 8.0 coa_c + 7.0 fad_c + 7.0 h2o_c + hdca_c + 7.0 nad_c --> 8.0 accoa...\n",
            "\n",
            "Consuming Reactions\n",
            "-------------------\n",
            "Percent   Flux     Reaction                                         Definition\n",
            "  0.75% -4.019      ACACT1r                    2.0 accoa_c <=> aacoa_c + coa_c\n",
            " 94.72%   -505           CS    accoa_c + h2o_c + oaa_c --> cit_c + coa_c + h_c\n",
            "  2.26% -12.06         MALS accoa_c + glx_c + h2o_c --> coa_c + h_c + mal__L_c\n",
            "  2.26% -12.06 sink_accoa_c                                       accoa_c --> \n"
          ]
        }
      ],
      "execution_count": 50,
      "metadata": {},
      "id": "ffaff6c9"
    },
    {
      "cell_type": "code",
      "source": [
        "mutant1.reactions.get_by_id(\"FAO2\").build_reaction_string(use_metabolite_names = True)"
      ],
      "outputs": [
        {
          "output_type": "execute_result",
          "execution_count": 51,
          "data": {
            "text/plain": "'ATP C10H12N5O13P3 + 8.0 Coenzyme A + 7.0 Flavin adenine dinucleotide oxidized + 7.0 H2O H2O + Hexadecanoate (n-C16:0) + 7.0 Nicotinamide adenine dinucleotide --> 8.0 Acetyl-CoA + AMP C10H12N5O7P + 7.0 Flavin adenine dinucleotide reduced + 7.0 H+ + 7.0 Nicotinamide adenine dinucleotide - reduced + Diphosphate'"
          },
          "metadata": {}
        }
      ],
      "execution_count": 51,
      "metadata": {},
      "id": "d0972ee0"
    },
    {
      "cell_type": "code",
      "source": [
        "model2.reactions.get_by_id(\"MALS\").build_reaction_string(use_metabolite_names = True)"
      ],
      "outputs": [
        {
          "output_type": "execute_result",
          "execution_count": 52,
          "data": {
            "text/plain": "'Acetyl-CoA + Glyoxylate + H2O --> Coenzyme A + H+ + L-Malate'"
          },
          "metadata": {}
        }
      ],
      "execution_count": 52,
      "metadata": {},
      "id": "cb121f11"
    },
    {
      "cell_type": "code",
      "source": [
        "mutant1.objective='ATPM'"
      ],
      "outputs": [],
      "execution_count": 53,
      "metadata": {},
      "id": "7e368e62"
    },
    {
      "cell_type": "code",
      "source": [
        "mutant1.slim_optimize()"
      ],
      "outputs": [
        {
          "output_type": "execute_result",
          "execution_count": 54,
          "data": {
            "text/plain": "375.00000000000006"
          },
          "metadata": {}
        }
      ],
      "execution_count": 54,
      "metadata": {},
      "id": "8878a40f"
    },
    {
      "cell_type": "code",
      "source": [
        "print(mutant1.metabolites.accoa_c.summary())"
      ],
      "outputs": [
        {
          "output_type": "stream",
          "name": "stdout",
          "text": [
            "accoa_c\n",
            "=======\n",
            "Formula: C23H34N7O17P3S\n",
            "\n",
            "Producing Reactions\n",
            "-------------------\n",
            "Percent Flux Reaction                                                                      Definition\n",
            "100.00%  500     FAO2 atp_c + 8.0 coa_c + 7.0 fad_c + 7.0 h2o_c + hdca_c + 7.0 nad_c --> 8.0 accoa...\n",
            "\n",
            "Consuming Reactions\n",
            "-------------------\n",
            "Percent Flux Reaction                                      Definition\n",
            "100.00% -500       CS accoa_c + h2o_c + oaa_c --> cit_c + coa_c + h_c\n"
          ]
        }
      ],
      "execution_count": 55,
      "metadata": {},
      "id": "783379bf"
    },
    {
      "cell_type": "code",
      "source": [
        "mutant1.objective='ATPM'"
      ],
      "outputs": [],
      "execution_count": 57,
      "metadata": {},
      "id": "e1be66f9"
    },
    {
      "cell_type": "code",
      "source": [
        "mutant1.slim_optimize()"
      ],
      "outputs": [
        {
          "output_type": "execute_result",
          "execution_count": 58,
          "data": {
            "text/plain": "375.00000000000006"
          },
          "metadata": {}
        }
      ],
      "execution_count": 58,
      "metadata": {},
      "id": "68829e82"
    },
    {
      "cell_type": "code",
      "source": [
        "#print(model2.metabolites.accoa_c.summary())"
      ],
      "outputs": [],
      "execution_count": null,
      "metadata": {},
      "id": "814d5272"
    },
    {
      "cell_type": "raw",
      "source": [
        "Improvements to model\n",
        "\n",
        "Add ATP4sR . It is used.\n",
        "\n",
        "Lipids.\n",
        "\n",
        "Add all the 8 reactions of Fatty acid degradation pathway\n",
        "Remove FAO2 reaction\n",
        "\n",
        "what is changing between 12 and 25\n",
        "\n",
        "what is changing between 40 and 48\n"
      ],
      "metadata": {},
      "id": "384f7f3b"
    },
    {
      "cell_type": "code",
      "source": [],
      "outputs": [],
      "execution_count": null,
      "metadata": {},
      "id": "47ab35e6"
    }
  ],
  "metadata": {
    "kernelspec": {
      "display_name": "Python 3 (ipykernel)",
      "language": "python",
      "name": "python3"
    },
    "language_info": {
      "codemirror_mode": {
        "name": "ipython",
        "version": 3
      },
      "file_extension": ".py",
      "mimetype": "text/x-python",
      "name": "python",
      "nbconvert_exporter": "python",
      "pygments_lexer": "ipython3",
      "version": "3.9.13"
    },
    "nteract": {
      "version": "0.28.0"
    }
  },
  "nbformat": 4,
  "nbformat_minor": 5
}