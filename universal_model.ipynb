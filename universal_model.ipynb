{
 "cells": [
  {
   "cell_type": "markdown",
   "id": "e6c4dcb8-b4a6-4526-af40-9086cde0c1ac",
   "metadata": {},
   "source": []
  },
  {
   "cell_type": "code",
   "execution_count": 1,
   "id": "15826b1d-a308-4e84-a1bf-dd97344ec4d1",
   "metadata": {},
   "outputs": [
    {
     "data": {
      "text/plain": [
       "\"{'metabolites': [{'id': '4crsol_c', 'name': 'P-Cresol', 'compartment': '', 'notes': {'original_bigg_ids': ['4crsol', '4crsol_c', '_4crsol_c']}, 'annotation': [['KEGG Compound', 'http://identifiers.org\""
      ]
     },
     "execution_count": 1,
     "metadata": {},
     "output_type": "execute_result"
    }
   ],
   "source": [
    "import json\n",
    "import pandas as pd\n",
    "\n",
    "bigg = json.load(open(\"C:\\\\Users\\\\02700282\\\\OneDrive - Elanco\\\\universal_model.json\", \"r\"))\n",
    "str(bigg)[:200]"
   ]
  },
  {
   "cell_type": "markdown",
   "id": "d9ad7da8-7164-40fb-a87e-87e2b7b7aac2",
   "metadata": {},
   "source": [
    "Here we see that the annotation are nested lists bu those need to become dicts. So let's do the conversion."
   ]
  },
  {
   "cell_type": "code",
   "execution_count": 2,
   "id": "0f28a0c1-0c2f-4f4a-b064-1b01cbfae34c",
   "metadata": {},
   "outputs": [],
   "source": [
    "from collections import defaultdict\n",
    "\n",
    "def group_annotation(bigg_annotation : list) -> dict():\n",
    "    \"\"\"Group the BIGG annoations into a dictionary.\"\"\"\n",
    "    annotations = defaultdict(lambda: list())\n",
    "    for ann in bigg_annotation:\n",
    "        try:\n",
    "            uri = ann[1].split(\"://identifiers.org/\")[1]\n",
    "            provider, ide = uri.split(\"/\")\n",
    "        except Exception:\n",
    "            continue\n",
    "        annotations[provider].append(ide)\n",
    "    return dict(annotations)\n",
    "\n",
    "for obj in [\"metabolites\", \"reactions\", \"genes\"]:\n",
    "    for species in bigg[obj]:\n",
    "        species[\"annotation\"] = group_annotation(species[\"annotation\"])"
   ]
  },
  {
   "cell_type": "code",
   "execution_count": 3,
   "id": "7645a489-4037-4e8d-a0e5-eec1882e884f",
   "metadata": {},
   "outputs": [
    {
     "data": {
      "text/plain": [
       "{'id': '4crsol_c',\n",
       " 'name': 'P-Cresol',\n",
       " 'compartment': '',\n",
       " 'notes': {'original_bigg_ids': ['4crsol', '4crsol_c', '_4crsol_c']},\n",
       " 'annotation': {'kegg.compound': ['C01468'],\n",
       "  'chebi': ['CHEBI:11981',\n",
       "   'CHEBI:17847',\n",
       "   'CHEBI:1816',\n",
       "   'CHEBI:20352',\n",
       "   'CHEBI:44726'],\n",
       "  'hmdb': ['HMDB01858', 'HMDB13762'],\n",
       "  'inchikey': ['IWDCLRJOBJJRNH-UHFFFAOYSA-N'],\n",
       "  'biocyc': ['META:CPD-108'],\n",
       "  'metanetx.chemical': ['MNXM828'],\n",
       "  'seed.compound': ['cpd01042']}}"
      ]
     },
     "execution_count": 3,
     "metadata": {},
     "output_type": "execute_result"
    }
   ],
   "source": [
    "bigg[\"metabolites\"][0]"
   ]
  },
  {
   "cell_type": "markdown",
   "id": "d456c85f-23ff-4146-aedb-998255349155",
   "metadata": {},
   "source": [
    "This looks correct now. Let's also fix the compartments."
   ]
  },
  {
   "cell_type": "code",
   "execution_count": 4,
   "id": "b7863c4c-039e-494a-9b0d-4f239d3cac4e",
   "metadata": {},
   "outputs": [
    {
     "data": {
      "text/plain": [
       "{}"
      ]
     },
     "execution_count": 4,
     "metadata": {},
     "output_type": "execute_result"
    }
   ],
   "source": [
    "bigg[\"compartments\"]"
   ]
  },
  {
   "cell_type": "markdown",
   "id": "9bbe09ce-ed76-4ebf-8da0-2e3f4ef6751c",
   "metadata": {},
   "source": [
    "Let's have a look what is defined really."
   ]
  },
  {
   "cell_type": "code",
   "execution_count": 5,
   "id": "d9aa55d9-ffa7-4e7b-b5c5-fb3bdc2891c5",
   "metadata": {},
   "outputs": [
    {
     "data": {
      "text/plain": [
       "{'c',\n",
       " 'cm',\n",
       " 'cx',\n",
       " 'e',\n",
       " 'f',\n",
       " 'g',\n",
       " 'h',\n",
       " 'i',\n",
       " 'im',\n",
       " 'l',\n",
       " 'm',\n",
       " 'mm',\n",
       " 'n',\n",
       " 'p',\n",
       " 'r',\n",
       " 's',\n",
       " 'u',\n",
       " 'um',\n",
       " 'v',\n",
       " 'w',\n",
       " 'x',\n",
       " 'y'}"
      ]
     },
     "execution_count": 5,
     "metadata": {},
     "output_type": "execute_result"
    }
   ],
   "source": [
    "for m in bigg[\"metabolites\"]:\n",
    "    m[\"compartment\"] = m[\"id\"].split(\"_\")[-1]\n",
    "\n",
    "compartments = set(m[\"compartment\"] for m in bigg[\"metabolites\"])    \n",
    "compartments"
   ]
  },
  {
   "cell_type": "markdown",
   "id": "38188172-065d-4659-ade9-f1b7ad746a81",
   "metadata": {},
   "source": [
    "Now we try to annotate them with the default list in COBRAPY."
   ]
  },
  {
   "cell_type": "code",
   "execution_count": 6,
   "id": "c8adb85a-d33e-490b-81bd-b8cb45853ba7",
   "metadata": {},
   "outputs": [
    {
     "data": {
      "text/plain": [
       "{'u': 'thylakoid',\n",
       " 'g': 'golgi',\n",
       " 'v': 'vacuole',\n",
       " 'cm': 'unknown',\n",
       " 'c': 'cytoplasm',\n",
       " 'im': 'mitochondrial intermembrane space',\n",
       " 'f': 'flagellum',\n",
       " 'mm': 'mitochondrial membrane',\n",
       " 'x': 'peroxisome',\n",
       " 'm': 'mitochondrion',\n",
       " 'p': 'periplasm',\n",
       " 'n': 'nucleus',\n",
       " 'h': 'chloroplast',\n",
       " 's': 'eyespot',\n",
       " 'um': 'unknown',\n",
       " 'y': 'unknown',\n",
       " 'w': 'cell wall',\n",
       " 'i': 'unknown',\n",
       " 'e': 'extracellular',\n",
       " 'l': 'lysosome',\n",
       " 'r': 'unknown',\n",
       " 'cx': 'unknown'}"
      ]
     },
     "execution_count": 6,
     "metadata": {},
     "output_type": "execute_result"
    }
   ],
   "source": [
    "from cobra.medium.annotations import compartment_shortlist\n",
    "bigg[\"compartments\"] = {c: compartment_shortlist.get(c, [\"unknown\"])[0] for c in compartments}\n",
    "bigg[\"compartments\"]"
   ]
  },
  {
   "cell_type": "markdown",
   "id": "3208a9bf-1af8-41a9-b824-72bd317284af",
   "metadata": {},
   "source": [
    "Now we save the model to JSON and check whether we can read it well."
   ]
  },
  {
   "cell_type": "code",
   "execution_count": 7,
   "id": "ba5dbf59-4b86-4aef-b2c3-c1476376d82d",
   "metadata": {},
   "outputs": [],
   "source": [
    "json.dump(bigg, open(\"universal_model_cobrapy.json\", \"w\"))"
   ]
  },
  {
   "cell_type": "code",
   "execution_count": 8,
   "id": "4a0ea73e-9c22-48bb-89ba-feabe6c8e440",
   "metadata": {},
   "outputs": [],
   "source": [
    "from cobra.io import load_json_model\n",
    "model = load_json_model(\"universal_model_cobrapy.json\")"
   ]
  },
  {
   "cell_type": "code",
   "execution_count": 9,
   "id": "db7b0b55-f485-4c5e-bc43-6622d081ab23",
   "metadata": {},
   "outputs": [
    {
     "data": {
      "text/html": [
       "\n",
       "        <table>\n",
       "            <tr>\n",
       "                <td><strong>Name</strong></td>\n",
       "                <td>bigg_universal</td>\n",
       "            </tr><tr>\n",
       "                <td><strong>Memory address</strong></td>\n",
       "                <td>2bba8e3e6d0</td>\n",
       "            </tr><tr>\n",
       "                <td><strong>Number of metabolites</strong></td>\n",
       "                <td>15638</td>\n",
       "            </tr><tr>\n",
       "                <td><strong>Number of reactions</strong></td>\n",
       "                <td>28301</td>\n",
       "            </tr><tr>\n",
       "                <td><strong>Number of genes</strong></td>\n",
       "                <td>0</td>\n",
       "            </tr><tr>\n",
       "                <td><strong>Number of groups</strong></td>\n",
       "                <td>0</td>\n",
       "            </tr><tr>\n",
       "                <td><strong>Objective expression</strong></td>\n",
       "                <td>0</td>\n",
       "            </tr><tr>\n",
       "                <td><strong>Compartments</strong></td>\n",
       "                <td>cytoplasm, extracellular, periplasm, mitochondrion, peroxisome, unknown, nucleus, vacuole, golgi, thylakoid, lysosome, chloroplast, eyespot, flagellum, mitochondrial intermembrane space, unknown, unknown, unknown, unknown, mitochondrial membrane, cell wall, unknown</td>\n",
       "            </tr>\n",
       "          </table>"
      ],
      "text/plain": [
       "<Model bigg_universal at 0x2bba8e3e6d0>"
      ]
     },
     "execution_count": 9,
     "metadata": {},
     "output_type": "execute_result"
    }
   ],
   "source": [
    "model"
   ]
  },
  {
   "cell_type": "code",
   "execution_count": 10,
   "id": "4f2e85e8-3c94-4bd7-aca7-34e916bb55ca",
   "metadata": {},
   "outputs": [
    {
     "data": {
      "text/plain": [
       "{'kegg.compound': ['C01468'],\n",
       " 'chebi': ['CHEBI:11981',\n",
       "  'CHEBI:17847',\n",
       "  'CHEBI:1816',\n",
       "  'CHEBI:20352',\n",
       "  'CHEBI:44726'],\n",
       " 'hmdb': ['HMDB01858', 'HMDB13762'],\n",
       " 'inchikey': ['IWDCLRJOBJJRNH-UHFFFAOYSA-N'],\n",
       " 'biocyc': ['META:CPD-108'],\n",
       " 'metanetx.chemical': ['MNXM828'],\n",
       " 'seed.compound': ['cpd01042']}"
      ]
     },
     "execution_count": 10,
     "metadata": {},
     "output_type": "execute_result"
    }
   ],
   "source": [
    "model.metabolites[0].annotation"
   ]
  },
  {
   "cell_type": "code",
   "execution_count": 11,
   "id": "3340a9e0-e6f7-40e8-8a7b-9ffa88c3224d",
   "metadata": {},
   "outputs": [],
   "source": [
    "model.objective = model.reactions.BIOMASS_reaction"
   ]
  },
  {
   "cell_type": "markdown",
   "id": "990d25dd-7636-4004-95b8-924abfb5622a",
   "metadata": {},
   "source": [
    "Looks like everythings is good :)"
   ]
  },
  {
   "cell_type": "code",
   "execution_count": 12,
   "id": "48ad2ccf-8674-4b88-9f5d-0f92296ec2c4",
   "metadata": {},
   "outputs": [
    {
     "data": {
      "text/html": [
       "<div>\n",
       "<style scoped>\n",
       "    .dataframe tbody tr th:only-of-type {\n",
       "        vertical-align: middle;\n",
       "    }\n",
       "\n",
       "    .dataframe tbody tr th {\n",
       "        vertical-align: top;\n",
       "    }\n",
       "\n",
       "    .dataframe thead th {\n",
       "        text-align: right;\n",
       "    }\n",
       "</style>\n",
       "<table border=\"1\" class=\"dataframe\">\n",
       "  <thead>\n",
       "    <tr style=\"text-align: right;\">\n",
       "      <th></th>\n",
       "      <th>Name</th>\n",
       "      <th>Formula</th>\n",
       "      <th>Compartment</th>\n",
       "      <th>reactions</th>\n",
       "    </tr>\n",
       "  </thead>\n",
       "  <tbody>\n",
       "    <tr>\n",
       "      <th>4crsol_c</th>\n",
       "      <td>P-Cresol</td>\n",
       "      <td>None</td>\n",
       "      <td>c</td>\n",
       "      <td>CRESt2ipp,DM_4crsol_c,TYRL</td>\n",
       "    </tr>\n",
       "    <tr>\n",
       "      <th>aacald_c</th>\n",
       "      <td>Aminoacetaldehyde</td>\n",
       "      <td>None</td>\n",
       "      <td>c</td>\n",
       "      <td>FDMOtau,TAUDO,DM_aacald_c,AALDCDLsi,ALDD31</td>\n",
       "    </tr>\n",
       "    <tr>\n",
       "      <th>amob_c</th>\n",
       "      <td>S-Adenosyl-4-methylthio-2-oxobutanoate</td>\n",
       "      <td>None</td>\n",
       "      <td>c</td>\n",
       "      <td>AMAOTr,DM_amob_c</td>\n",
       "    </tr>\n",
       "    <tr>\n",
       "      <th>10fthf_c</th>\n",
       "      <td>10-Formyltetrahydrofolate</td>\n",
       "      <td>None</td>\n",
       "      <td>c</td>\n",
       "      <td>10FTHFGLULL,GARFT,BIOMASS_Gm_GS15_core_79p20M,...</td>\n",
       "    </tr>\n",
       "    <tr>\n",
       "      <th>2fe2s_c</th>\n",
       "      <td>[2Fe-2S] iron-sulfur cluster</td>\n",
       "      <td>None</td>\n",
       "      <td>c</td>\n",
       "      <td>BIOMASS_UnmeasuredSOLUTES,S2FE2ST,BIOMASS_KT24...</td>\n",
       "    </tr>\n",
       "  </tbody>\n",
       "</table>\n",
       "</div>"
      ],
      "text/plain": [
       "                                            Name Formula Compartment  \\\n",
       "4crsol_c                                P-Cresol    None           c   \n",
       "aacald_c                       Aminoacetaldehyde    None           c   \n",
       "amob_c    S-Adenosyl-4-methylthio-2-oxobutanoate    None           c   \n",
       "10fthf_c               10-Formyltetrahydrofolate    None           c   \n",
       "2fe2s_c             [2Fe-2S] iron-sulfur cluster    None           c   \n",
       "\n",
       "                                                  reactions  \n",
       "4crsol_c                         CRESt2ipp,DM_4crsol_c,TYRL  \n",
       "aacald_c         FDMOtau,TAUDO,DM_aacald_c,AALDCDLsi,ALDD31  \n",
       "amob_c                                     AMAOTr,DM_amob_c  \n",
       "10fthf_c  10FTHFGLULL,GARFT,BIOMASS_Gm_GS15_core_79p20M,...  \n",
       "2fe2s_c   BIOMASS_UnmeasuredSOLUTES,S2FE2ST,BIOMASS_KT24...  "
      ]
     },
     "execution_count": 12,
     "metadata": {},
     "output_type": "execute_result"
    }
   ],
   "source": [
    "metabolitedf=pd.DataFrame(columns=[\"Name\",\"Formula\",\"Compartment\",\"reactions\"])\n",
    "for i in model.metabolites:\n",
    "    \n",
    "    metabolitedf.loc[i.id,'Name']=i.name\n",
    "    metabolitedf.loc[i.id,'Formula']=i.formula\n",
    "    metabolitedf.loc[i.id,'Compartment']=i.compartment\n",
    "    c = []\n",
    "    for x in i.reactions:\n",
    "        c.append(x.id)\n",
    "    metabolitedf.loc[i.id,'reactions']=','.join(c)\n",
    "#    modeldf.rename_axis(\"Reactions\", axis='index', inplace=True)\n",
    "metabolitedf.head(5)\n",
    "#metabolitedf.to_excel('Metabolite_Info_Universal_model.xlsx')"
   ]
  },
  {
   "cell_type": "code",
   "execution_count": 13,
   "id": "20a70b5c",
   "metadata": {},
   "outputs": [
    {
     "data": {
      "text/html": [
       "<div>\n",
       "<style scoped>\n",
       "    .dataframe tbody tr th:only-of-type {\n",
       "        vertical-align: middle;\n",
       "    }\n",
       "\n",
       "    .dataframe tbody tr th {\n",
       "        vertical-align: top;\n",
       "    }\n",
       "\n",
       "    .dataframe thead th {\n",
       "        text-align: right;\n",
       "    }\n",
       "</style>\n",
       "<table border=\"1\" class=\"dataframe\">\n",
       "  <thead>\n",
       "    <tr style=\"text-align: right;\">\n",
       "      <th></th>\n",
       "      <th>Name</th>\n",
       "      <th>Formula</th>\n",
       "      <th>Compartment</th>\n",
       "      <th>reactions</th>\n",
       "    </tr>\n",
       "  </thead>\n",
       "  <tbody>\n",
       "    <tr>\n",
       "      <th>4crsol_c</th>\n",
       "      <td>P-Cresol</td>\n",
       "      <td>None</td>\n",
       "      <td>c</td>\n",
       "      <td>CRESt2ipp,DM_4crsol_c,TYRL</td>\n",
       "    </tr>\n",
       "    <tr>\n",
       "      <th>aacald_c</th>\n",
       "      <td>Aminoacetaldehyde</td>\n",
       "      <td>None</td>\n",
       "      <td>c</td>\n",
       "      <td>FDMOtau,TAUDO,DM_aacald_c,AALDCDLsi,ALDD31</td>\n",
       "    </tr>\n",
       "    <tr>\n",
       "      <th>amob_c</th>\n",
       "      <td>S-Adenosyl-4-methylthio-2-oxobutanoate</td>\n",
       "      <td>None</td>\n",
       "      <td>c</td>\n",
       "      <td>AMAOTr,DM_amob_c</td>\n",
       "    </tr>\n",
       "    <tr>\n",
       "      <th>10fthf_c</th>\n",
       "      <td>10-Formyltetrahydrofolate</td>\n",
       "      <td>None</td>\n",
       "      <td>c</td>\n",
       "      <td>10FTHFGLULL,GARFT,BIOMASS_Gm_GS15_core_79p20M,...</td>\n",
       "    </tr>\n",
       "    <tr>\n",
       "      <th>2fe2s_c</th>\n",
       "      <td>[2Fe-2S] iron-sulfur cluster</td>\n",
       "      <td>None</td>\n",
       "      <td>c</td>\n",
       "      <td>BIOMASS_UnmeasuredSOLUTES,S2FE2ST,BIOMASS_KT24...</td>\n",
       "    </tr>\n",
       "  </tbody>\n",
       "</table>\n",
       "</div>"
      ],
      "text/plain": [
       "                                            Name Formula Compartment  \\\n",
       "4crsol_c                                P-Cresol    None           c   \n",
       "aacald_c                       Aminoacetaldehyde    None           c   \n",
       "amob_c    S-Adenosyl-4-methylthio-2-oxobutanoate    None           c   \n",
       "10fthf_c               10-Formyltetrahydrofolate    None           c   \n",
       "2fe2s_c             [2Fe-2S] iron-sulfur cluster    None           c   \n",
       "\n",
       "                                                  reactions  \n",
       "4crsol_c                         CRESt2ipp,DM_4crsol_c,TYRL  \n",
       "aacald_c         FDMOtau,TAUDO,DM_aacald_c,AALDCDLsi,ALDD31  \n",
       "amob_c                                     AMAOTr,DM_amob_c  \n",
       "10fthf_c  10FTHFGLULL,GARFT,BIOMASS_Gm_GS15_core_79p20M,...  \n",
       "2fe2s_c   BIOMASS_UnmeasuredSOLUTES,S2FE2ST,BIOMASS_KT24...  "
      ]
     },
     "execution_count": 13,
     "metadata": {},
     "output_type": "execute_result"
    }
   ],
   "source": [
    "metabolitedf.head(5)"
   ]
  },
  {
   "cell_type": "code",
   "execution_count": 14,
   "id": "2a0b1660",
   "metadata": {},
   "outputs": [],
   "source": [
    "t = metabolitedf[metabolitedf['Name'] == ' R  Acetoin C4H8O2']"
   ]
  },
  {
   "cell_type": "code",
   "execution_count": 15,
   "id": "f5eafaad",
   "metadata": {},
   "outputs": [
    {
     "data": {
      "text/html": [
       "<div>\n",
       "<style scoped>\n",
       "    .dataframe tbody tr th:only-of-type {\n",
       "        vertical-align: middle;\n",
       "    }\n",
       "\n",
       "    .dataframe tbody tr th {\n",
       "        vertical-align: top;\n",
       "    }\n",
       "\n",
       "    .dataframe thead th {\n",
       "        text-align: right;\n",
       "    }\n",
       "</style>\n",
       "<table border=\"1\" class=\"dataframe\">\n",
       "  <thead>\n",
       "    <tr style=\"text-align: right;\">\n",
       "      <th></th>\n",
       "      <th>Name</th>\n",
       "      <th>Formula</th>\n",
       "      <th>Compartment</th>\n",
       "      <th>reactions</th>\n",
       "    </tr>\n",
       "  </thead>\n",
       "  <tbody>\n",
       "    <tr>\n",
       "      <th>actn__R_c</th>\n",
       "      <td>R  Acetoin C4H8O2</td>\n",
       "      <td>None</td>\n",
       "      <td>c</td>\n",
       "      <td>ACTD2,ACLDC,ACTD_1,ACTNabc,ACALDCD,PYRDC2,ARSR...</td>\n",
       "    </tr>\n",
       "    <tr>\n",
       "      <th>actn__R_e</th>\n",
       "      <td>R  Acetoin C4H8O2</td>\n",
       "      <td>None</td>\n",
       "      <td>e</td>\n",
       "      <td>ACTNdiff,ACTNt2r,ACTNabc1,ACTNabc,ACTNtex,EX_a...</td>\n",
       "    </tr>\n",
       "    <tr>\n",
       "      <th>actn__R_p</th>\n",
       "      <td>R  Acetoin C4H8O2</td>\n",
       "      <td>None</td>\n",
       "      <td>p</td>\n",
       "      <td>ACTNtex,ACTNtpp</td>\n",
       "    </tr>\n",
       "  </tbody>\n",
       "</table>\n",
       "</div>"
      ],
      "text/plain": [
       "                         Name Formula Compartment  \\\n",
       "actn__R_c   R  Acetoin C4H8O2    None           c   \n",
       "actn__R_e   R  Acetoin C4H8O2    None           e   \n",
       "actn__R_p   R  Acetoin C4H8O2    None           p   \n",
       "\n",
       "                                                   reactions  \n",
       "actn__R_c  ACTD2,ACLDC,ACTD_1,ACTNabc,ACALDCD,PYRDC2,ARSR...  \n",
       "actn__R_e  ACTNdiff,ACTNt2r,ACTNabc1,ACTNabc,ACTNtex,EX_a...  \n",
       "actn__R_p                                    ACTNtex,ACTNtpp  "
      ]
     },
     "execution_count": 15,
     "metadata": {},
     "output_type": "execute_result"
    }
   ],
   "source": [
    "t.head()"
   ]
  },
  {
   "cell_type": "code",
   "execution_count": 16,
   "id": "2cfacee0",
   "metadata": {},
   "outputs": [],
   "source": [
    "t1 = metabolitedf[metabolitedf['Name'] == ' R R  2 3 Butanediol C4H10O2']"
   ]
  },
  {
   "cell_type": "code",
   "execution_count": 19,
   "id": "1bf444c4",
   "metadata": {},
   "outputs": [
    {
     "data": {
      "text/html": [
       "<div>\n",
       "<style scoped>\n",
       "    .dataframe tbody tr th:only-of-type {\n",
       "        vertical-align: middle;\n",
       "    }\n",
       "\n",
       "    .dataframe tbody tr th {\n",
       "        vertical-align: top;\n",
       "    }\n",
       "\n",
       "    .dataframe thead th {\n",
       "        text-align: right;\n",
       "    }\n",
       "</style>\n",
       "<table border=\"1\" class=\"dataframe\">\n",
       "  <thead>\n",
       "    <tr style=\"text-align: right;\">\n",
       "      <th></th>\n",
       "      <th>Name</th>\n",
       "      <th>Formula</th>\n",
       "      <th>Compartment</th>\n",
       "      <th>reactions</th>\n",
       "    </tr>\n",
       "  </thead>\n",
       "  <tbody>\n",
       "    <tr>\n",
       "      <th>btd_RR_c</th>\n",
       "      <td>R R  2 3 Butanediol C4H10O2</td>\n",
       "      <td>None</td>\n",
       "      <td>c</td>\n",
       "      <td>BTDt_RR,BTDt6_RR,BTDDtpp,BTDD_RR</td>\n",
       "    </tr>\n",
       "    <tr>\n",
       "      <th>btd_RR_e</th>\n",
       "      <td>R R  2 3 Butanediol C4H10O2</td>\n",
       "      <td>None</td>\n",
       "      <td>e</td>\n",
       "      <td>EX_btd_RR_e,BTDt_RR,BTDt6_RR,BTDDtex</td>\n",
       "    </tr>\n",
       "    <tr>\n",
       "      <th>btd_RR_p</th>\n",
       "      <td>R R  2 3 Butanediol C4H10O2</td>\n",
       "      <td>None</td>\n",
       "      <td>p</td>\n",
       "      <td>BTDDtpp,BTDDtex</td>\n",
       "    </tr>\n",
       "  </tbody>\n",
       "</table>\n",
       "</div>"
      ],
      "text/plain": [
       "                                  Name Formula Compartment  \\\n",
       "btd_RR_c   R R  2 3 Butanediol C4H10O2    None           c   \n",
       "btd_RR_e   R R  2 3 Butanediol C4H10O2    None           e   \n",
       "btd_RR_p   R R  2 3 Butanediol C4H10O2    None           p   \n",
       "\n",
       "                                     reactions  \n",
       "btd_RR_c      BTDt_RR,BTDt6_RR,BTDDtpp,BTDD_RR  \n",
       "btd_RR_e  EX_btd_RR_e,BTDt_RR,BTDt6_RR,BTDDtex  \n",
       "btd_RR_p                       BTDDtpp,BTDDtex  "
      ]
     },
     "execution_count": 19,
     "metadata": {},
     "output_type": "execute_result"
    }
   ],
   "source": [
    "t1"
   ]
  },
  {
   "cell_type": "code",
   "execution_count": 17,
   "id": "cf8029ff",
   "metadata": {},
   "outputs": [
    {
     "name": "stdout",
     "output_type": "stream",
     "text": [
      "ACTD2\n",
      " R  Acetoin C4H8O2 + Coenzyme A + Nicotinamide adenine dinucleotide --> Acetaldehyde + Acetyl-CoA + H+ + Nicotinamide adenine dinucleotide - reduced\n",
      "ACLDC\n",
      "(S)-2-Acetolactate + H+ -->  R  Acetoin C4H8O2 + CO2 CO2\n",
      "ACTD_1\n",
      "Diacetyl C4H6O2 + Nicotinamide adenine dinucleotide - reduced -->  R  Acetoin C4H8O2 + Nicotinamide adenine dinucleotide\n",
      "ACTNabc\n",
      " R  Acetoin C4H8O2 + ATP C10H12N5O13P3 + H2O H2O -->  R  Acetoin C4H8O2 + ADP C10H12N5O10P2 + H+ + Phosphate\n",
      "ACALDCD\n",
      "2.0 Acetaldehyde -->  R  Acetoin C4H8O2\n",
      "PYRDC2\n",
      "Acetaldehyde + H+ + Pyruvate -->  R  Acetoin C4H8O2 + CO2 CO2\n",
      "ARSR\n",
      " R  Acetoin C4H8O2 --> S-acetoin\n",
      "ACTD\n",
      " R  Acetoin C4H8O2 + Nicotinamide adenine dinucleotide --> Diacetyl C4H6O2 + H+ + Nicotinamide adenine dinucleotide - reduced\n",
      "ACTNdiff\n",
      " R  Acetoin C4H8O2 -->  R  Acetoin C4H8O2\n",
      "ACTNtpp\n",
      " R  Acetoin C4H8O2 + H+ -->  R  Acetoin C4H8O2 + H+\n",
      "ACTNabc1\n",
      " R  Acetoin C4H8O2 + ATP C10H12N5O13P3 + H2O H2O -->  R  Acetoin C4H8O2 + ADP C10H12N5O10P2 + H+ + Phosphate\n",
      "ACTDa\n",
      " R  Acetoin C4H8O2 + Nicotinamide adenine dinucleotide phosphate --> Diacetyl C4H6O2 + H+ + Nicotinamide adenine dinucleotide phosphate - reduced\n",
      "BTDD_RR\n",
      " R R  2 3 Butanediol C4H10O2 + Nicotinamide adenine dinucleotide -->  R  Acetoin C4H8O2 + H+ + Nicotinamide adenine dinucleotide - reduced\n",
      "ACTNt2r\n",
      " R  Acetoin C4H8O2 + H+ -->  R  Acetoin C4H8O2 + H+\n",
      "ACTNdiff\n",
      " R  Acetoin C4H8O2 -->  R  Acetoin C4H8O2\n",
      "ACTNt2r\n",
      " R  Acetoin C4H8O2 + H+ -->  R  Acetoin C4H8O2 + H+\n",
      "ACTNabc1\n",
      " R  Acetoin C4H8O2 + ATP C10H12N5O13P3 + H2O H2O -->  R  Acetoin C4H8O2 + ADP C10H12N5O10P2 + H+ + Phosphate\n",
      "ACTNabc\n",
      " R  Acetoin C4H8O2 + ATP C10H12N5O13P3 + H2O H2O -->  R  Acetoin C4H8O2 + ADP C10H12N5O10P2 + H+ + Phosphate\n",
      "ACTNtex\n",
      " R  Acetoin C4H8O2 -->  R  Acetoin C4H8O2\n",
      "EX_actn__R_e\n",
      " R  Acetoin C4H8O2 --> \n",
      "ACTNtex\n",
      " R  Acetoin C4H8O2 -->  R  Acetoin C4H8O2\n",
      "ACTNtpp\n",
      " R  Acetoin C4H8O2 + H+ -->  R  Acetoin C4H8O2 + H+\n"
     ]
    }
   ],
   "source": [
    "for i in t['reactions']:\n",
    "    i1 = i.split(',')\n",
    "    for x in i1:\n",
    "        print(x)\n",
    "        print(model.reactions.get_by_id(x).build_reaction_string(use_metabolite_names = True))"
   ]
  },
  {
   "cell_type": "code",
   "execution_count": null,
   "id": "37db6c34",
   "metadata": {},
   "outputs": [],
   "source": []
  },
  {
   "cell_type": "code",
   "execution_count": 18,
   "id": "f5b5fc4a",
   "metadata": {},
   "outputs": [
    {
     "ename": "NameError",
     "evalue": "name 'ACTNt2r' is not defined",
     "output_type": "error",
     "traceback": [
      "\u001b[1;31m---------------------------------------------------------------------------\u001b[0m",
      "\u001b[1;31mNameError\u001b[0m                                 Traceback (most recent call last)",
      "\u001b[1;32m~\\AppData\\Local\\Temp\\ipykernel_13064\\1807868563.py\u001b[0m in \u001b[0;36m<module>\u001b[1;34m\u001b[0m\n\u001b[1;32m----> 1\u001b[1;33m \u001b[0mli\u001b[0m \u001b[1;33m=\u001b[0m \u001b[1;33m[\u001b[0m\u001b[0mACTNt2r\u001b[0m\u001b[1;33m,\u001b[0m\u001b[1;33m]\u001b[0m\u001b[1;33m\u001b[0m\u001b[1;33m\u001b[0m\u001b[0m\n\u001b[0m",
      "\u001b[1;31mNameError\u001b[0m: name 'ACTNt2r' is not defined"
     ]
    }
   ],
   "source": [
    "li = ['ACTNt2r','ACALDCD','EX_btd_RR_e']"
   ]
  }
 ],
 "metadata": {
  "kernelspec": {
   "display_name": "Python 3 (ipykernel)",
   "language": "python",
   "name": "python3"
  },
  "language_info": {
   "codemirror_mode": {
    "name": "ipython",
    "version": 3
   },
   "file_extension": ".py",
   "mimetype": "text/x-python",
   "name": "python",
   "nbconvert_exporter": "python",
   "pygments_lexer": "ipython3",
   "version": "3.9.13"
  },
  "nteract": {
   "version": "0.28.0"
  }
 },
 "nbformat": 4,
 "nbformat_minor": 5
}
