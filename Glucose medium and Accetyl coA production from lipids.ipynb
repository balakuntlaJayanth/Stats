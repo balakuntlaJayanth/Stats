{
 "cells": [
  {
   "cell_type": "code",
   "execution_count": 1,
   "id": "487bf4cd",
   "metadata": {},
   "outputs": [],
   "source": [
    "import pandas as pd\n",
    "import pickle\n",
    "import copy\n",
    "import cobra\n",
    "import numpy as np\n",
    "import matplotlib.pyplot as plt\n",
    "from cobra.io import read_sbml_model,write_sbml_model\n",
    "from cobra import Model, Reaction, Metabolite\n",
    "from functools import reduce \n",
    "%matplotlib inline"
   ]
  },
  {
   "cell_type": "code",
   "execution_count": 2,
   "id": "6cb5a262",
   "metadata": {},
   "outputs": [],
   "source": [
    "mutant1 = read_sbml_model('mutant1.xml')"
   ]
  },
  {
   "cell_type": "code",
   "execution_count": 3,
   "id": "817bfdd3",
   "metadata": {},
   "outputs": [
    {
     "name": "stderr",
     "output_type": "stream",
     "text": [
      "Could not identify an external compartment by name and choosing one with the most boundary reactions. That might be complete nonsense or change suddenly. Consider renaming your compartments using `Model.compartments` to fix this.\n"
     ]
    },
    {
     "data": {
      "text/plain": [
       "{'EX_ca2_e': 1000.0,\n",
       " 'EX_cit_e': 1000.0,\n",
       " 'EX_cl_e': 1000.0,\n",
       " 'EX_co2_e': 1000.0,\n",
       " 'EX_cobalt2_e': 1000.0,\n",
       " 'EX_cu2_e': 1000.0,\n",
       " 'EX_fe2_e': 1000.0,\n",
       " 'EX_h2o_e': 1000.0,\n",
       " 'EX_h_e': 1000.0,\n",
       " 'EX_hdca_e': 1000.0,\n",
       " 'EX_k_e': 1000.0,\n",
       " 'EX_met__L_e': 1000.0,\n",
       " 'EX_mg2_e': 1000.0,\n",
       " 'EX_mn2_e': 1000.0,\n",
       " 'EX_mobd_e': 1000.0,\n",
       " 'EX_nh4_e': 1000.0,\n",
       " 'EX_no3_e': 1000.0,\n",
       " 'EX_o2_e': 1000.0,\n",
       " 'EX_pi_e': 1000.0,\n",
       " 'EX_so4_e': 1000.0,\n",
       " 'EX_zn2_e': 1000.0}"
      ]
     },
     "execution_count": 3,
     "metadata": {},
     "output_type": "execute_result"
    }
   ],
   "source": [
    "mutant1.medium"
   ]
  },
  {
   "cell_type": "code",
   "execution_count": 4,
   "id": "33111b39",
   "metadata": {},
   "outputs": [],
   "source": [
    "model2 = read_sbml_model('model2.xml')"
   ]
  },
  {
   "cell_type": "code",
   "execution_count": 5,
   "id": "285f6a84",
   "metadata": {},
   "outputs": [
    {
     "data": {
      "text/plain": [
       "{'EX_ca2_e': 1000.0,\n",
       " 'EX_cit_e': 1000.0,\n",
       " 'EX_cobalt2_e': 1000.0,\n",
       " 'EX_cu2_e': 1000.0,\n",
       " 'EX_fe2_e': 1000.0,\n",
       " 'EX_h_e': 1000.0,\n",
       " 'EX_h2o_e': 1000.0,\n",
       " 'EX_k_e': 1000.0,\n",
       " 'EX_met__L_e': 1000.0,\n",
       " 'EX_mg2_e': 1000.0,\n",
       " 'EX_mn2_e': 1000.0,\n",
       " 'EX_nh4_e': 1000.0,\n",
       " 'EX_ni2_e': 1000.0,\n",
       " 'EX_no3_e': 1000.0,\n",
       " 'EX_pi_e': 1000.0,\n",
       " 'EX_so4_e': 1000.0,\n",
       " 'EX_zn2_e': 1000.0,\n",
       " 'EX_cl_e': 1000.0,\n",
       " 'EX_co2_e': 1000.0,\n",
       " 'EX_mobd_e': 1000.0,\n",
       " 'EX_o2_e': 1000.0,\n",
       " 'EX_hdca_e': 1000.0}"
      ]
     },
     "execution_count": 5,
     "metadata": {},
     "output_type": "execute_result"
    }
   ],
   "source": [
    "model2.medium"
   ]
  },
  {
   "cell_type": "code",
   "execution_count": 6,
   "id": "06947b0c",
   "metadata": {},
   "outputs": [],
   "source": [
    "mutant1_reactions = {}\n",
    "for i in mutant1.reactions:\n",
    "    x=i.id\n",
    "    y=i.build_reaction_string()\n",
    "    mutant1_reactions[x] = y"
   ]
  },
  {
   "cell_type": "code",
   "execution_count": 7,
   "id": "1a129456",
   "metadata": {},
   "outputs": [],
   "source": [
    "model2_reactions = {}\n",
    "for i in model2.reactions:\n",
    "    x=i.id\n",
    "    y=i.build_reaction_string()\n",
    "    model2_reactions[x] = y"
   ]
  },
  {
   "cell_type": "code",
   "execution_count": 8,
   "id": "afb7eecb",
   "metadata": {},
   "outputs": [],
   "source": [
    "model2_unique = {}\n",
    "for x in model2_reactions:\n",
    "    if x in mutant1_reactions: continue\n",
    "    else:\n",
    "        y = model2_reactions[x]\n",
    "        if x == 'BIOMASS_SCO': continue\n",
    "        else:\n",
    "            model2_unique[x] = y"
   ]
  },
  {
   "cell_type": "code",
   "execution_count": 9,
   "id": "ead2e199",
   "metadata": {},
   "outputs": [
    {
     "data": {
      "text/plain": [
       "14.657320838057537"
      ]
     },
     "execution_count": 9,
     "metadata": {},
     "output_type": "execute_result"
    }
   ],
   "source": [
    "model2.slim_optimize()"
   ]
  },
  {
   "cell_type": "raw",
   "id": "a62e701a",
   "metadata": {},
   "source": [
    "Add sink reaction for acetyl coA\n",
    "Set sink reaction as the objective\n",
    "optimize the model\n",
    "Ex_accoa_c <=> \n",
    "lower bounds 0\n",
    "upper bounds 1000\n",
    "check in media with Glucose\n",
    "check in media with hdca\n",
    "what is the fate of co2. which reversible reaction my be incorrect."
   ]
  },
  {
   "cell_type": "markdown",
   "id": "6a8326ea",
   "metadata": {},
   "source": [
    "### Add sink reaction for acetyl coA"
   ]
  },
  {
   "cell_type": "raw",
   "id": "f9804802",
   "metadata": {},
   "source": [
    "check existing sink reactions"
   ]
  },
  {
   "cell_type": "code",
   "execution_count": 10,
   "id": "0e36be2a",
   "metadata": {},
   "outputs": [
    {
     "name": "stderr",
     "output_type": "stream",
     "text": [
      "Could not identify an external compartment by name and choosing one with the most boundary reactions. That might be complete nonsense or change suddenly. Consider renaming your compartments using `Model.compartments` to fix this.\n",
      "Could not identify an external compartment by name and choosing one with the most boundary reactions. That might be complete nonsense or change suddenly. Consider renaming your compartments using `Model.compartments` to fix this.\n",
      "Could not identify an external compartment by name and choosing one with the most boundary reactions. That might be complete nonsense or change suddenly. Consider renaming your compartments using `Model.compartments` to fix this.\n"
     ]
    },
    {
     "name": "stdout",
     "output_type": "stream",
     "text": [
      "exchanges 343\n",
      "demands 0\n",
      "sinks 6\n"
     ]
    }
   ],
   "source": [
    "print(\"exchanges\", len(mutant1.exchanges))\n",
    "print(\"demands\", len(mutant1.demands))\n",
    "print(\"sinks\", len(mutant1.sinks))"
   ]
  },
  {
   "cell_type": "code",
   "execution_count": 11,
   "id": "7eaa77fb",
   "metadata": {},
   "outputs": [
    {
     "name": "stdout",
     "output_type": "stream",
     "text": [
      "exchanges 158\n",
      "demands 4\n",
      "sinks 0\n"
     ]
    }
   ],
   "source": [
    "print(\"exchanges\", len(model2.exchanges))\n",
    "print(\"demands\", len(model2.demands))\n",
    "print(\"sinks\", len(model2.sinks))"
   ]
  },
  {
   "cell_type": "code",
   "execution_count": 12,
   "id": "5a185e24",
   "metadata": {},
   "outputs": [
    {
     "name": "stderr",
     "output_type": "stream",
     "text": [
      "Could not identify an external compartment by name and choosing one with the most boundary reactions. That might be complete nonsense or change suddenly. Consider renaming your compartments using `Model.compartments` to fix this.\n"
     ]
    },
    {
     "name": "stdout",
     "output_type": "stream",
     "text": [
      "sinks [<Reaction sink_2ohph_c at 0x1833b070670>, <Reaction sink_4hba_c at 0x1833b0548e0>, <Reaction sink_amob_c at 0x1833b070a30>, <Reaction sink_hemeO_c at 0x1833b070c10>, <Reaction sink_lipopb_c at 0x1833b070c70>, <Reaction sink_sheme_c at 0x1833b07f7f0>]\n"
     ]
    }
   ],
   "source": [
    "print(\"sinks\", mutant1.sinks)"
   ]
  },
  {
   "cell_type": "code",
   "execution_count": 13,
   "id": "2d1f14f9",
   "metadata": {},
   "outputs": [
    {
     "data": {
      "text/html": [
       "\n",
       "        <table>\n",
       "            <tr>\n",
       "                <td><strong>Reaction identifier</strong></td><td>sink_2ohph_c</td>\n",
       "            </tr><tr>\n",
       "                <td><strong>Name</strong></td><td>R_sink_2ohph_c</td>\n",
       "            </tr><tr>\n",
       "                <td><strong>Memory address</strong></td>\n",
       "                <td>0x1833b070670</td>\n",
       "            </tr><tr>\n",
       "                <td><strong>Stoichiometry</strong></td>\n",
       "                <td>\n",
       "                    <p style='text-align:right'>2ohph_c --></p>\n",
       "                    <p style='text-align:right'>2-Octaprenyl-6-hydroxyphenol --></p>\n",
       "                </td>\n",
       "            </tr><tr>\n",
       "                <td><strong>GPR</strong></td><td></td>\n",
       "            </tr><tr>\n",
       "                <td><strong>Lower bound</strong></td><td>0.0</td>\n",
       "            </tr><tr>\n",
       "                <td><strong>Upper bound</strong></td><td>1000.0</td>\n",
       "            </tr>\n",
       "        </table>\n",
       "        "
      ],
      "text/plain": [
       "<Reaction sink_2ohph_c at 0x1833b070670>"
      ]
     },
     "execution_count": 13,
     "metadata": {},
     "output_type": "execute_result"
    }
   ],
   "source": [
    "mutant1.reactions.get_by_id('sink_2ohph_c')"
   ]
  },
  {
   "cell_type": "code",
   "execution_count": 14,
   "id": "008ae32a",
   "metadata": {},
   "outputs": [],
   "source": [
    "reaction = Reaction('sink_accoa_c')\n",
    "reaction.name = 'R_sink_accoa_c'\n",
    "reaction.subsystem = 'Metabolite'\n",
    "reaction.lower_bound = 0.  # This is the default\n",
    "reaction.upper_bound = 1000.  # This is the default\n",
    "reaction.gene_reaction_rule = ''"
   ]
  },
  {
   "cell_type": "code",
   "execution_count": 15,
   "id": "8991109e",
   "metadata": {},
   "outputs": [],
   "source": [
    "reaction.add_metabolites({mutant1.metabolites.accoa_c:-1})"
   ]
  },
  {
   "cell_type": "code",
   "execution_count": 16,
   "id": "0aaeff76",
   "metadata": {},
   "outputs": [],
   "source": [
    "mutant1.add_reactions([reaction])"
   ]
  },
  {
   "cell_type": "code",
   "execution_count": 17,
   "id": "39a93600",
   "metadata": {},
   "outputs": [
    {
     "data": {
      "text/html": [
       "\n",
       "        <table>\n",
       "            <tr>\n",
       "                <td><strong>Reaction identifier</strong></td><td>sink_accoa_c</td>\n",
       "            </tr><tr>\n",
       "                <td><strong>Name</strong></td><td>R_sink_accoa_c</td>\n",
       "            </tr><tr>\n",
       "                <td><strong>Memory address</strong></td>\n",
       "                <td>0x1833b684e50</td>\n",
       "            </tr><tr>\n",
       "                <td><strong>Stoichiometry</strong></td>\n",
       "                <td>\n",
       "                    <p style='text-align:right'>accoa_c --></p>\n",
       "                    <p style='text-align:right'>Acetyl-CoA --></p>\n",
       "                </td>\n",
       "            </tr><tr>\n",
       "                <td><strong>GPR</strong></td><td></td>\n",
       "            </tr><tr>\n",
       "                <td><strong>Lower bound</strong></td><td>0.0</td>\n",
       "            </tr><tr>\n",
       "                <td><strong>Upper bound</strong></td><td>1000.0</td>\n",
       "            </tr>\n",
       "        </table>\n",
       "        "
      ],
      "text/plain": [
       "<Reaction sink_accoa_c at 0x1833b684e50>"
      ]
     },
     "execution_count": 17,
     "metadata": {},
     "output_type": "execute_result"
    }
   ],
   "source": [
    "mutant1.reactions.get_by_id('sink_accoa_c')"
   ]
  },
  {
   "cell_type": "markdown",
   "id": "415516d6",
   "metadata": {},
   "source": [
    "### Set sink reaction as the objective"
   ]
  },
  {
   "cell_type": "code",
   "execution_count": 18,
   "id": "69ec4ae7",
   "metadata": {},
   "outputs": [],
   "source": [
    "mutant1.objective='sink_accoa_c'"
   ]
  },
  {
   "cell_type": "code",
   "execution_count": 19,
   "id": "a5648618",
   "metadata": {},
   "outputs": [],
   "source": [
    "c = cobra.flux_analysis.pfba(mutant1).to_frame()"
   ]
  },
  {
   "cell_type": "code",
   "execution_count": 20,
   "id": "a85d2c08",
   "metadata": {},
   "outputs": [],
   "source": [
    "c.to_excel('Acetyl_coa_sink_fluxes.xlsx')"
   ]
  },
  {
   "cell_type": "code",
   "execution_count": 21,
   "id": "2e43ec7f",
   "metadata": {},
   "outputs": [
    {
     "name": "stdout",
     "output_type": "stream",
     "text": [
      "accoa_c\n",
      "=======\n",
      "Formula: C23H34N7O17P3S\n",
      "\n",
      "Producing Reactions\n",
      "-------------------\n",
      "Percent  Flux Reaction                                         Definition\n",
      " 80.65% 108.2      PDH coa_c + nad_c + pyr_c --> accoa_c + co2_c + nadh_c\n",
      " 19.35% 25.97      PFL                  coa_c + pyr_c --> accoa_c + for_c\n",
      "\n",
      "Consuming Reactions\n",
      "-------------------\n",
      "Percent   Flux     Reaction                                      Definition\n",
      " 90.32% -121.2           CS accoa_c + h2o_c + oaa_c --> cit_c + coa_c + h_c\n",
      "  9.68% -12.99 sink_accoa_c                                    accoa_c --> \n"
     ]
    }
   ],
   "source": [
    "print(mutant1.metabolites.accoa_c.summary())"
   ]
  },
  {
   "cell_type": "markdown",
   "id": "e5e100f6",
   "metadata": {},
   "source": [
    "### Adding Glucose to medium"
   ]
  },
  {
   "cell_type": "code",
   "execution_count": 22,
   "id": "ec49fb4a",
   "metadata": {},
   "outputs": [
    {
     "name": "stderr",
     "output_type": "stream",
     "text": [
      "Could not identify an external compartment by name and choosing one with the most boundary reactions. That might be complete nonsense or change suddenly. Consider renaming your compartments using `Model.compartments` to fix this.\n",
      "Could not identify an external compartment by name and choosing one with the most boundary reactions. That might be complete nonsense or change suddenly. Consider renaming your compartments using `Model.compartments` to fix this.\n"
     ]
    }
   ],
   "source": [
    "medium = mutant1.medium\n",
    "medium[\"EX_cit_e\"] = 0.0\n",
    "medium['EX_glc__D_e'] = 1000\n",
    "mutant1.medium = medium"
   ]
  },
  {
   "cell_type": "code",
   "execution_count": 23,
   "id": "f11606ba",
   "metadata": {},
   "outputs": [],
   "source": [
    "solution = cobra.flux_analysis.pfba(mutant1)"
   ]
  },
  {
   "cell_type": "markdown",
   "id": "9cf8d0da",
   "metadata": {},
   "source": [
    "### Find out why cells cannot use lipids. if you only use lipids can you produce acetyl coA."
   ]
  },
  {
   "cell_type": "code",
   "execution_count": 24,
   "id": "e1705b4e",
   "metadata": {},
   "outputs": [],
   "source": [
    "mutant1.objective='ATPM'"
   ]
  },
  {
   "cell_type": "code",
   "execution_count": 25,
   "id": "0f1a3341",
   "metadata": {},
   "outputs": [],
   "source": [
    "solution = cobra.flux_analysis.pfba(mutant1)"
   ]
  },
  {
   "cell_type": "code",
   "execution_count": 26,
   "id": "e7db21c5",
   "metadata": {},
   "outputs": [],
   "source": [
    "x = solution.to_frame()"
   ]
  },
  {
   "cell_type": "code",
   "execution_count": 27,
   "id": "c59a23ef",
   "metadata": {},
   "outputs": [],
   "source": [
    "x.to_excel('T.xlsx')"
   ]
  },
  {
   "cell_type": "code",
   "execution_count": 28,
   "id": "25e572f0",
   "metadata": {},
   "outputs": [],
   "source": [
    "solution1 = cobra.flux_analysis.pfba(model2)"
   ]
  },
  {
   "cell_type": "code",
   "execution_count": 29,
   "id": "2a3916f5",
   "metadata": {},
   "outputs": [
    {
     "name": "stdout",
     "output_type": "stream",
     "text": [
      "accoa_c\n",
      "=======\n",
      "Formula: C23H34N7O17P3S\n",
      "\n",
      "Producing Reactions\n",
      "-------------------\n",
      "Percent Flux Reaction                                                     Definition\n",
      "100.00%  500    ACTD2 actn__R_c + coa_c + nad_c --> acald_c + accoa_c + h_c + nadh_c\n",
      "\n",
      "Consuming Reactions\n",
      "-------------------\n",
      "Percent Flux Reaction                           Definition\n",
      "100.00% -500    GLYAT accoa_c + gly_c <=> 2aobut_c + coa_c\n"
     ]
    }
   ],
   "source": [
    "print(mutant1.metabolites.accoa_c.summary())"
   ]
  },
  {
   "cell_type": "code",
   "execution_count": 30,
   "id": "061a284b",
   "metadata": {},
   "outputs": [
    {
     "name": "stdout",
     "output_type": "stream",
     "text": [
      "actn__R_c\n",
      "=========\n",
      "Formula: C4H8O2\n",
      "\n",
      "Producing Reactions\n",
      "-------------------\n",
      "Percent Flux Reaction                            Definition\n",
      "100.00%  500    ACLDC alac__S_c + h_c --> actn__R_c + co2_c\n",
      "\n",
      "Consuming Reactions\n",
      "-------------------\n",
      "Percent Flux Reaction                                                     Definition\n",
      "100.00% -500    ACTD2 actn__R_c + coa_c + nad_c --> acald_c + accoa_c + h_c + nadh_c\n"
     ]
    }
   ],
   "source": [
    "print(mutant1.metabolites.actn__R_c.summary())"
   ]
  },
  {
   "cell_type": "code",
   "execution_count": 31,
   "id": "d96206b6",
   "metadata": {},
   "outputs": [
    {
     "name": "stdout",
     "output_type": "stream",
     "text": [
      "alac__S_c\n",
      "=========\n",
      "Formula: C5H7O4\n",
      "\n",
      "Producing Reactions\n",
      "-------------------\n",
      "Percent Flux Reaction                            Definition\n",
      "100.00%  500     ACLS h_c + 2.0 pyr_c --> alac__S_c + co2_c\n",
      "\n",
      "Consuming Reactions\n",
      "-------------------\n",
      "Percent Flux Reaction                            Definition\n",
      "100.00% -500    ACLDC alac__S_c + h_c --> actn__R_c + co2_c\n"
     ]
    }
   ],
   "source": [
    "print(mutant1.metabolites.alac__S_c.summary())"
   ]
  },
  {
   "cell_type": "code",
   "execution_count": 67,
   "id": "e8aec95e",
   "metadata": {},
   "outputs": [
    {
     "data": {
      "text/plain": [
       "999.9999999999999"
      ]
     },
     "execution_count": 67,
     "metadata": {},
     "output_type": "execute_result"
    }
   ],
   "source": [
    "solution['ATPM']"
   ]
  },
  {
   "cell_type": "code",
   "execution_count": 66,
   "id": "1b188651",
   "metadata": {},
   "outputs": [
    {
     "name": "stdout",
     "output_type": "stream",
     "text": [
      "atp_c\n",
      "=====\n",
      "Formula: C10H12N5O13P3\n",
      "\n",
      "Producing Reactions\n",
      "-------------------\n",
      "Percent Flux Reaction                            Definition\n",
      " 66.67% 1000      PGK     3pg_c + atp_c <=> 13dpg_c + adp_c\n",
      " 33.33%  500      PYK adp_c + h_c + pep_c --> atp_c + pyr_c\n",
      "\n",
      "Consuming Reactions\n",
      "-------------------\n",
      "Percent  Flux Reaction                            Definition\n",
      " 66.67% -1000     ATPM  atp_c + h2o_c --> adp_c + h_c + pi_c\n",
      " 33.33%  -500      PFK atp_c + f6p_c --> adp_c + fdp_c + h_c\n"
     ]
    }
   ],
   "source": [
    "print(mutant1.metabolites.atp_c.summary())"
   ]
  },
  {
   "cell_type": "code",
   "execution_count": 32,
   "id": "f817cb1d",
   "metadata": {},
   "outputs": [
    {
     "data": {
      "text/plain": [
       "'Coenzyme A + Nicotinamide adenine dinucleotide + Pyruvate --> Acetyl-CoA + CO2 CO2 + Nicotinamide adenine dinucleotide - reduced'"
      ]
     },
     "execution_count": 32,
     "metadata": {},
     "output_type": "execute_result"
    }
   ],
   "source": [
    "mutant1.reactions.get_by_id(\"PDH\").build_reaction_string(use_metabolite_names = True)"
   ]
  },
  {
   "cell_type": "code",
   "execution_count": 33,
   "id": "6795638c",
   "metadata": {},
   "outputs": [
    {
     "data": {
      "text/plain": [
       "'Coenzyme A + Pyruvate --> Acetyl-CoA + Formate'"
      ]
     },
     "execution_count": 33,
     "metadata": {},
     "output_type": "execute_result"
    }
   ],
   "source": [
    "mutant1.reactions.get_by_id(\"PFL\").build_reaction_string(use_metabolite_names = True)"
   ]
  },
  {
   "cell_type": "code",
   "execution_count": 34,
   "id": "b7c34e40",
   "metadata": {},
   "outputs": [
    {
     "data": {
      "text/plain": [
       "' R  Acetoin C4H8O2 + Coenzyme A + Nicotinamide adenine dinucleotide --> Acetaldehyde + Acetyl-CoA + H+ + Nicotinamide adenine dinucleotide - reduced'"
      ]
     },
     "execution_count": 34,
     "metadata": {},
     "output_type": "execute_result"
    }
   ],
   "source": [
    "mutant1.reactions.get_by_id(\"ACTD2\").build_reaction_string(use_metabolite_names = True)"
   ]
  },
  {
   "cell_type": "code",
   "execution_count": 35,
   "id": "a89b67ba",
   "metadata": {},
   "outputs": [
    {
     "name": "stdout",
     "output_type": "stream",
     "text": [
      "accoa_c\n",
      "=======\n",
      "Formula: C23H34N7O17P3S\n",
      "\n",
      "Producing Reactions\n",
      "-------------------\n",
      "Percent    Flux Reaction                                Definition\n",
      " 16.62%   44.48  ACACT2r    accoa_c + btcoa_c <=> 3ohcoa_c + coa_c\n",
      " 16.62%   44.48  ACACT3r    accoa_c + hxcoa_c <=> 3oocoa_c + coa_c\n",
      " 16.68%   44.64  ACACT4r    accoa_c + occoa_c <=> 3odcoa_c + coa_c\n",
      " 16.68%   44.64  ACACT5r  accoa_c + dcacoa_c <=> 3oddcoa_c + coa_c\n",
      " 16.68%   44.64  ACACT6r accoa_c + ddcacoa_c <=> 3otdcoa_c + coa_c\n",
      " 16.68%   44.64  ACACT7r   accoa_c + tdcoa_c <=> 3ohdcoa_c + coa_c\n",
      "  0.03% 0.08019     PTAr         accoa_c + pi_c <=> actp_c + coa_c\n",
      "\n",
      "Consuming Reactions\n",
      "-------------------\n",
      "Percent     Flux Reaction                                                 Definition\n",
      " 91.29%   -244.3  ACACT1r                            2.0 accoa_c <=> aacoa_c + coa_c\n",
      "  5.42%   -14.49   ACCOAC accoa_c + atp_c + hco3_c --> adp_c + h_c + malcoa_c + pi_c\n",
      "  1.35%   -3.624    CITMS              accoa_c + h2o_c + pyr_c <=> citm__R_c + coa_c\n",
      "  1.91%   -5.109   G1PACT              accoa_c + gam1p_c --> acgam1p_c + coa_c + h_c\n",
      "  0.01% -0.01885    GLYAT                       accoa_c + gly_c <=> 2aobut_c + coa_c\n",
      "  0.02% -0.06134     MSHS                        accoa_c + cigam_c --> coa_c + msh_c\n"
     ]
    }
   ],
   "source": [
    "print(model2.metabolites.accoa_c.summary())"
   ]
  },
  {
   "cell_type": "code",
   "execution_count": 36,
   "id": "a3448afd",
   "metadata": {},
   "outputs": [
    {
     "data": {
      "text/html": [
       "<h3>aacoa_c</h3><p>C25H36N7O18P3S</p><h4>Producing Reactions</h4><table border=\"1\" class=\"dataframe\">\n",
       "  <thead>\n",
       "    <tr style=\"text-align: right;\">\n",
       "      <th>Percent</th>\n",
       "      <th>Flux</th>\n",
       "      <th>Reaction</th>\n",
       "      <th>Definition</th>\n",
       "    </tr>\n",
       "  </thead>\n",
       "  <tbody>\n",
       "  </tbody>\n",
       "</table><h4>Consuming Reactions</h4><table border=\"1\" class=\"dataframe\">\n",
       "  <thead>\n",
       "    <tr style=\"text-align: right;\">\n",
       "      <th>Percent</th>\n",
       "      <th>Flux</th>\n",
       "      <th>Reaction</th>\n",
       "      <th>Definition</th>\n",
       "    </tr>\n",
       "  </thead>\n",
       "  <tbody>\n",
       "  </tbody>\n",
       "</table>"
      ],
      "text/plain": [
       "<cobra.summary.metabolite_summary.MetaboliteSummary at 0x1833b8faa00>"
      ]
     },
     "execution_count": 36,
     "metadata": {},
     "output_type": "execute_result"
    }
   ],
   "source": [
    " mutant1.metabolites.get_by_id('aacoa_c').summary()"
   ]
  },
  {
   "cell_type": "code",
   "execution_count": 37,
   "id": "13d7b048",
   "metadata": {},
   "outputs": [
    {
     "data": {
      "text/html": [
       "<h3>coa_c</h3><p>C21H32N7O16P3S</p><h4>Producing Reactions</h4><table border=\"1\" class=\"dataframe\">\n",
       "  <thead>\n",
       "    <tr style=\"text-align: right;\">\n",
       "      <th>Percent</th>\n",
       "      <th>Flux</th>\n",
       "      <th>Reaction</th>\n",
       "      <th>Definition</th>\n",
       "    </tr>\n",
       "  </thead>\n",
       "  <tbody>\n",
       "    <tr>\n",
       "      <td>100.00%</td>\n",
       "      <td>500</td>\n",
       "      <td>GLYAT</td>\n",
       "      <td>accoa_c + gly_c &lt;=&gt; 2aobut_c + coa_c</td>\n",
       "    </tr>\n",
       "  </tbody>\n",
       "</table><h4>Consuming Reactions</h4><table border=\"1\" class=\"dataframe\">\n",
       "  <thead>\n",
       "    <tr style=\"text-align: right;\">\n",
       "      <th>Percent</th>\n",
       "      <th>Flux</th>\n",
       "      <th>Reaction</th>\n",
       "      <th>Definition</th>\n",
       "    </tr>\n",
       "  </thead>\n",
       "  <tbody>\n",
       "    <tr>\n",
       "      <td>100.00%</td>\n",
       "      <td>-500</td>\n",
       "      <td>ACTD2</td>\n",
       "      <td>actn__R_c + coa_c + nad_c --&gt; acald_c + accoa_c + h_c + nadh_c</td>\n",
       "    </tr>\n",
       "  </tbody>\n",
       "</table>"
      ],
      "text/plain": [
       "<cobra.summary.metabolite_summary.MetaboliteSummary at 0x1833c19cbe0>"
      ]
     },
     "execution_count": 37,
     "metadata": {},
     "output_type": "execute_result"
    }
   ],
   "source": [
    " mutant1.metabolites.get_by_id('coa_c').summary()"
   ]
  },
  {
   "cell_type": "code",
   "execution_count": 38,
   "id": "15f6da11",
   "metadata": {},
   "outputs": [
    {
     "data": {
      "text/plain": [
       "'Acetyl-CoA + Butanoyl-CoA <=> 3-Oxohexanoyl-CoA + Coenzyme A'"
      ]
     },
     "execution_count": 38,
     "metadata": {},
     "output_type": "execute_result"
    }
   ],
   "source": [
    "model2.reactions.get_by_id(\"ACACT2r\").build_reaction_string(use_metabolite_names = True)"
   ]
  },
  {
   "cell_type": "code",
   "execution_count": 39,
   "id": "5c0b7b60",
   "metadata": {},
   "outputs": [
    {
     "data": {
      "text/plain": [
       "'Acetyl-CoA + Hexanoyl-CoA (n-C6:0CoA) <=> 3-Oxooctanoyl-CoA + Coenzyme A'"
      ]
     },
     "execution_count": 39,
     "metadata": {},
     "output_type": "execute_result"
    }
   ],
   "source": [
    "model2.reactions.get_by_id(\"ACACT3r\").build_reaction_string(use_metabolite_names = True)"
   ]
  },
  {
   "cell_type": "code",
   "execution_count": 40,
   "id": "b1fe0a4a",
   "metadata": {},
   "outputs": [
    {
     "data": {
      "text/plain": [
       "'Acetyl-CoA + Octanoyl-CoA (n-C8:0CoA) <=> 3-Oxodecanoyl-CoA + Coenzyme A'"
      ]
     },
     "execution_count": 40,
     "metadata": {},
     "output_type": "execute_result"
    }
   ],
   "source": [
    "model2.reactions.get_by_id(\"ACACT4r\").build_reaction_string(use_metabolite_names = True)"
   ]
  },
  {
   "cell_type": "code",
   "execution_count": 41,
   "id": "9812b522",
   "metadata": {},
   "outputs": [
    {
     "data": {
      "text/plain": [
       "'Acetyl-CoA + Decanoyl-CoA (n-C10:0CoA) <=> 3-Oxododecanoyl-CoA + Coenzyme A'"
      ]
     },
     "execution_count": 41,
     "metadata": {},
     "output_type": "execute_result"
    }
   ],
   "source": [
    "model2.reactions.get_by_id(\"ACACT5r\").build_reaction_string(use_metabolite_names = True)"
   ]
  },
  {
   "cell_type": "code",
   "execution_count": 42,
   "id": "01f9eeb0",
   "metadata": {},
   "outputs": [
    {
     "data": {
      "text/plain": [
       "'Acetyl-CoA + Dodecanoyl-CoA (n-C12:0CoA) <=> 3-Oxotetradecanoyl-CoA + Coenzyme A'"
      ]
     },
     "execution_count": 42,
     "metadata": {},
     "output_type": "execute_result"
    }
   ],
   "source": [
    "model2.reactions.get_by_id(\"ACACT6r\").build_reaction_string(use_metabolite_names = True)"
   ]
  },
  {
   "cell_type": "code",
   "execution_count": 43,
   "id": "85e41a9d",
   "metadata": {},
   "outputs": [
    {
     "data": {
      "text/plain": [
       "'Acetyl-CoA + Tetradecanoyl-CoA (n-C14:0CoA) <=> 3-Oxohexadecanoyl-CoA + Coenzyme A'"
      ]
     },
     "execution_count": 43,
     "metadata": {},
     "output_type": "execute_result"
    }
   ],
   "source": [
    "model2.reactions.get_by_id(\"ACACT7r\").build_reaction_string(use_metabolite_names = True)"
   ]
  },
  {
   "cell_type": "code",
   "execution_count": 44,
   "id": "ec06d847",
   "metadata": {},
   "outputs": [
    {
     "data": {
      "text/plain": [
       "'Acetyl-CoA + Phosphate <=> Acetyl phosphate + Coenzyme A'"
      ]
     },
     "execution_count": 44,
     "metadata": {},
     "output_type": "execute_result"
    }
   ],
   "source": [
    "model2.reactions.get_by_id(\"PTAr\").build_reaction_string(use_metabolite_names = True)"
   ]
  },
  {
   "cell_type": "code",
   "execution_count": 45,
   "id": "40e1ecf1",
   "metadata": {},
   "outputs": [
    {
     "data": {
      "text/plain": [
       "'2.0 Acetyl-CoA <=> Acetoacetyl-CoA + Coenzyme A'"
      ]
     },
     "execution_count": 45,
     "metadata": {},
     "output_type": "execute_result"
    }
   ],
   "source": [
    "model2.reactions.get_by_id(\"ACACT1r\").build_reaction_string(use_metabolite_names = True)"
   ]
  },
  {
   "cell_type": "code",
   "execution_count": 46,
   "id": "a927f3ee",
   "metadata": {},
   "outputs": [
    {
     "data": {
      "text/plain": [
       "'Acetyl-CoA + ATP + Bicarbonate --> ADP + H+ + Malonyl-CoA + Phosphate'"
      ]
     },
     "execution_count": 46,
     "metadata": {},
     "output_type": "execute_result"
    }
   ],
   "source": [
    "model2.reactions.get_by_id(\"ACCOAC\").build_reaction_string(use_metabolite_names = True)"
   ]
  },
  {
   "cell_type": "code",
   "execution_count": 47,
   "id": "504abc0b",
   "metadata": {},
   "outputs": [
    {
     "data": {
      "text/plain": [
       "'Acetyl-CoA + H2O + Pyruvate <=> (R)-2-Methylmalate + Coenzyme A'"
      ]
     },
     "execution_count": 47,
     "metadata": {},
     "output_type": "execute_result"
    }
   ],
   "source": [
    "model2.reactions.get_by_id(\"CITMS\").build_reaction_string(use_metabolite_names = True)"
   ]
  },
  {
   "cell_type": "code",
   "execution_count": 48,
   "id": "0c5a8b3a",
   "metadata": {},
   "outputs": [
    {
     "data": {
      "text/plain": [
       "'Acetyl-CoA + Glycine <=> L-2-Amino-3-oxobutanoate + Coenzyme A'"
      ]
     },
     "execution_count": 48,
     "metadata": {},
     "output_type": "execute_result"
    }
   ],
   "source": [
    "model2.reactions.get_by_id(\"GLYAT\").build_reaction_string(use_metabolite_names = True)"
   ]
  },
  {
   "cell_type": "code",
   "execution_count": 49,
   "id": "10abcbbb",
   "metadata": {},
   "outputs": [
    {
     "data": {
      "text/plain": [
       "' R  Acetoin C4H8O2 + Coenzyme A + Nicotinamide adenine dinucleotide --> Acetaldehyde + Acetyl-CoA + H+ + Nicotinamide adenine dinucleotide - reduced'"
      ]
     },
     "execution_count": 49,
     "metadata": {},
     "output_type": "execute_result"
    }
   ],
   "source": [
    "mutant1.reactions.get_by_id(\"ACTD2\").build_reaction_string(use_metabolite_names = True)"
   ]
  },
  {
   "cell_type": "code",
   "execution_count": 50,
   "id": "bfbbeddf",
   "metadata": {},
   "outputs": [
    {
     "name": "stdout",
     "output_type": "stream",
     "text": [
      "ATHRDHr\n",
      "athr__L_c + nadp_c <=> 2aobut_c + h_c + nadph_c\n",
      "-500.0\n",
      "GLYAT\n",
      "accoa_c + gly_c <=> 2aobut_c + coa_c\n",
      "500.0\n",
      "THRD\n",
      "nad_c + thr__L_c --> 2aobut_c + h_c + nadh_c\n",
      "0.0\n"
     ]
    }
   ],
   "source": [
    "for x in mutant1.metabolites.get_by_id('2aobut_c').reactions:\n",
    "    print(x.id)\n",
    "    print(x.build_reaction_string(use_metabolite_names = False))\n",
    "    print(solution[x.id])"
   ]
  },
  {
   "cell_type": "code",
   "execution_count": 51,
   "id": "f899676f",
   "metadata": {},
   "outputs": [
    {
     "name": "stdout",
     "output_type": "stream",
     "text": [
      "3ohcoa_c\n",
      "3ohcoa_c\n",
      "========\n",
      "Formula: C27H40N7O18P3S\n",
      "\n",
      "Producing Reactions\n",
      "-------------------\n",
      "Empty DataFrame\n",
      "Columns: [Percent, Flux, Reaction, Definition]\n",
      "Index: []\n",
      "\n",
      "Consuming Reactions\n",
      "-------------------\n",
      "Empty DataFrame\n",
      "Columns: [Percent, Flux, Reaction, Definition]\n",
      "Index: []\n",
      "3oocoa_c\n",
      "3oocoa_c\n",
      "========\n",
      "Formula: C29H44N7O18P3S\n",
      "\n",
      "Producing Reactions\n",
      "-------------------\n",
      "Empty DataFrame\n",
      "Columns: [Percent, Flux, Reaction, Definition]\n",
      "Index: []\n",
      "\n",
      "Consuming Reactions\n",
      "-------------------\n",
      "Empty DataFrame\n",
      "Columns: [Percent, Flux, Reaction, Definition]\n",
      "Index: []\n",
      "3odcoa_c\n",
      "3odcoa_c\n",
      "========\n",
      "Formula: C31H48N7O18P3S\n",
      "\n",
      "Producing Reactions\n",
      "-------------------\n",
      "Empty DataFrame\n",
      "Columns: [Percent, Flux, Reaction, Definition]\n",
      "Index: []\n",
      "\n",
      "Consuming Reactions\n",
      "-------------------\n",
      "Empty DataFrame\n",
      "Columns: [Percent, Flux, Reaction, Definition]\n",
      "Index: []\n",
      "3oddcoa_c\n",
      "3oddcoa_c\n",
      "=========\n",
      "Formula: C33H52N7O18P3S\n",
      "\n",
      "Producing Reactions\n",
      "-------------------\n",
      "Empty DataFrame\n",
      "Columns: [Percent, Flux, Reaction, Definition]\n",
      "Index: []\n",
      "\n",
      "Consuming Reactions\n",
      "-------------------\n",
      "Empty DataFrame\n",
      "Columns: [Percent, Flux, Reaction, Definition]\n",
      "Index: []\n",
      "3otdcoa_c\n",
      "3otdcoa_c\n",
      "=========\n",
      "Formula: C35H56N7O18P3S\n",
      "\n",
      "Producing Reactions\n",
      "-------------------\n",
      "Empty DataFrame\n",
      "Columns: [Percent, Flux, Reaction, Definition]\n",
      "Index: []\n",
      "\n",
      "Consuming Reactions\n",
      "-------------------\n",
      "Empty DataFrame\n",
      "Columns: [Percent, Flux, Reaction, Definition]\n",
      "Index: []\n",
      "3ohdcoa_c\n",
      "3ohdcoa_c\n",
      "=========\n",
      "Formula: C37H60N7O18P3S\n",
      "\n",
      "Producing Reactions\n",
      "-------------------\n",
      "Empty DataFrame\n",
      "Columns: [Percent, Flux, Reaction, Definition]\n",
      "Index: []\n",
      "\n",
      "Consuming Reactions\n",
      "-------------------\n",
      "Empty DataFrame\n",
      "Columns: [Percent, Flux, Reaction, Definition]\n",
      "Index: []\n"
     ]
    }
   ],
   "source": [
    "li = ['3ohcoa_c','3oocoa_c','3odcoa_c','3oddcoa_c','3otdcoa_c','3ohdcoa_c']\n",
    "for a in li:\n",
    "    print(a)\n",
    "    print(mutant1.metabolites.get_by_id(a).summary())"
   ]
  },
  {
   "cell_type": "code",
   "execution_count": 52,
   "id": "3bf60b0f",
   "metadata": {},
   "outputs": [
    {
     "name": "stdout",
     "output_type": "stream",
     "text": [
      "3hhcoa_c\n",
      "HACD2i\n",
      "3hhcoa_c + nad_c --> 3ohcoa_c + h_c + nadh_c\n",
      "0.0\n",
      "ECOAH2\n",
      "3hhcoa_c <=> h2o_c + hx2coa_c\n",
      "1.2713048220173763e-14\n",
      "HACD2\n",
      "3ohcoa_c + h_c + nadh_c <=> 3hhcoa_c + nad_c\n",
      "1.2713048220173763e-14\n",
      "3ohcoa_c\n",
      "ACACT11\n",
      "3ohcoa_c + coa_c --> accoa_c + btcoa_c\n",
      "0.0\n",
      "HACD2i\n",
      "3hhcoa_c + nad_c --> 3ohcoa_c + h_c + nadh_c\n",
      "0.0\n",
      "HACD2\n",
      "3ohcoa_c + h_c + nadh_c <=> 3hhcoa_c + nad_c\n",
      "1.2713048220173763e-14\n",
      "ACACT2r\n",
      "accoa_c + btcoa_c <=> 3ohcoa_c + coa_c\n",
      "1.2713048220173764e-14\n",
      "3oocoa_c\n",
      "HACD3i\n",
      "3hocoa_c + nad_c --> 3oocoa_c + h_c + nadh_c\n",
      "0.0\n",
      "ACACT3r\n",
      "accoa_c + hxcoa_c <=> 3oocoa_c + coa_c\n",
      "1.271304822017376e-14\n",
      "ACACT8\n",
      "3oocoa_c + coa_c --> accoa_c + hxcoa_c\n",
      "0.0\n",
      "HACD3\n",
      "3oocoa_c + h_c + nadh_c <=> 3hocoa_c + nad_c\n",
      "1.2713048220173757e-14\n",
      "3odcoa_c\n",
      "HACD4i\n",
      "3hdcoa_c + nad_c --> 3odcoa_c + h_c + nadh_c\n",
      "0.0\n",
      "ACACT13\n",
      "3odcoa_c + coa_c --> accoa_c + occoa_c\n",
      "0.0\n",
      "HACD4\n",
      "3odcoa_c + h_c + nadh_c <=> 3hdcoa_c + nad_c\n",
      "1.2713048220173757e-14\n",
      "ACACT4r\n",
      "accoa_c + occoa_c <=> 3odcoa_c + coa_c\n",
      "1.2713048220173757e-14\n",
      "3oddcoa_c\n",
      "HACD5\n",
      "3oddcoa_c + h_c + nadh_c <=> 3hddcoa_c + nad_c\n",
      "1.2713048220173755e-14\n",
      "ACACT5r\n",
      "accoa_c + dcacoa_c <=> 3oddcoa_c + coa_c\n",
      "1.2713048220173757e-14\n",
      "ACACT10\n",
      "3oddcoa_c + coa_c --> accoa_c + dcacoa_c\n",
      "0.0\n",
      "HACD5i\n",
      "3hddcoa_c + nad_c --> 3oddcoa_c + h_c + nadh_c\n",
      "0.0\n",
      "3otdcoa_c\n",
      "HACD6\n",
      "3otdcoa_c + h_c + nadh_c <=> 3htdcoa_c + nad_c\n",
      "-1.1687146274672054e-14\n",
      "ACACT9\n",
      "3otdcoa_c + coa_c --> accoa_c + ddcacoa_c\n",
      "0.0\n",
      "HACD6i\n",
      "3htdcoa_c + nad_c --> 3otdcoa_c + h_c + nadh_c\n",
      "0.0\n",
      "ACACT6r\n",
      "accoa_c + ddcacoa_c <=> 3otdcoa_c + coa_c\n",
      "-1.1687146274672054e-14\n",
      "3ohdcoa_c\n",
      "HACD7\n",
      "3ohdcoa_c + h_c + nadh_c <=> 3hhdcoa_c + nad_c\n",
      "-1.168714627467205e-14\n",
      "ACACT7r\n",
      "accoa_c + tdcoa_c <=> 3ohdcoa_c + coa_c\n",
      "-1.1687146274672054e-14\n",
      "HACD7i\n",
      "3hhdcoa_c + nad_c --> 3ohdcoa_c + h_c + nadh_c\n",
      "0.0\n",
      "ACACT12\n",
      "3ohdcoa_c + coa_c --> accoa_c + tdcoa_c\n",
      "0.0\n",
      "3ohcoa_c\n",
      "ACACT11\n",
      "3ohcoa_c + coa_c --> accoa_c + btcoa_c\n",
      "0.0\n",
      "HACD2i\n",
      "3hhcoa_c + nad_c --> 3ohcoa_c + h_c + nadh_c\n",
      "0.0\n",
      "HACD2\n",
      "3ohcoa_c + h_c + nadh_c <=> 3hhcoa_c + nad_c\n",
      "1.2713048220173763e-14\n",
      "ACACT2r\n",
      "accoa_c + btcoa_c <=> 3ohcoa_c + coa_c\n",
      "1.2713048220173764e-14\n",
      "3hhdcoa_c\n",
      "HACD7\n",
      "3ohdcoa_c + h_c + nadh_c <=> 3hhdcoa_c + nad_c\n",
      "-1.168714627467205e-14\n",
      "ECOAH7\n",
      "3hhdcoa_c <=> h2o_c + hdd2coa_c\n",
      "-1.168714627467205e-14\n",
      "HACD7i\n",
      "3hhdcoa_c + nad_c --> 3ohdcoa_c + h_c + nadh_c\n",
      "0.0\n",
      "btcoa_c\n",
      "ACOAD1fr\n",
      "b2coa_c + fadh2_c --> btcoa_c + fad_c\n",
      "0.0\n",
      "IBTMr\n",
      "btcoa_c <=> ibcoa_c\n",
      "0.0\n",
      "T2ECR\n",
      "b2coa_c + h_c + nadph_c --> btcoa_c + nadp_c\n",
      "0.0\n",
      "BUTCT\n",
      "accoa_c + but_c --> ac_c + btcoa_c\n",
      "0.0\n",
      "FACOAL40t2pp\n",
      "atp_c + but_p + coa_c + h_p --> amp_c + btcoa_c + h_c + ppi_c\n",
      "0.0\n",
      "ACACT2r\n",
      "accoa_c + btcoa_c <=> 3ohcoa_c + coa_c\n",
      "1.2713048220173764e-14\n",
      "ACACT11\n",
      "3ohcoa_c + coa_c --> accoa_c + btcoa_c\n",
      "0.0\n",
      "ACOAD1f\n",
      "btcoa_c + fad_c --> b2coa_c + fadh2_c\n",
      "1.1246130025325731e-14\n",
      "ACOAD1\n",
      "b2coa_c + h_c + nadh_c --> btcoa_c + nad_c\n",
      "0.0\n",
      "hx2coa_c\n",
      "ACOAD2f\n",
      "fad_c + hxcoa_c <=> fadh2_c + hx2coa_c\n",
      "0.0\n",
      "ACOAD2\n",
      "h_c + hx2coa_c + nadh_c <=> hxcoa_c + nad_c\n",
      "1.2713048220173761e-14\n",
      "RECOAH2\n",
      "R_3hhcoa_c <=> h2o_c + hx2coa_c\n",
      "0.0\n",
      "ECOAH2\n",
      "3hhcoa_c <=> h2o_c + hx2coa_c\n",
      "1.2713048220173763e-14\n"
     ]
    }
   ],
   "source": [
    "li = ['3hhcoa_c','3ohcoa_c','3oocoa_c','3odcoa_c','3oddcoa_c','3otdcoa_c','3ohdcoa_c','3ohcoa_c','3hhdcoa_c','btcoa_c','hx2coa_c']\n",
    "for a in li:\n",
    "    print(a)\n",
    "    for x in mutant1.metabolites.get_by_id(a).reactions:\n",
    "        print(x.id)\n",
    "        print(x.build_reaction_string(use_metabolite_names = False))\n",
    "        print(solution[x.id])"
   ]
  },
  {
   "cell_type": "code",
   "execution_count": 53,
   "id": "3959c9ff",
   "metadata": {},
   "outputs": [
    {
     "name": "stdout",
     "output_type": "stream",
     "text": [
      "3hhcoa_c\n",
      "3hhcoa_c\n",
      "========\n",
      "Formula: C27H42N7O18P3S\n",
      "\n",
      "Producing Reactions\n",
      "-------------------\n",
      "Percent  Flux Reaction                    Definition\n",
      "100.00% 44.48   ECOAH2 3hhcoa_c <=> h2o_c + hx2coa_c\n",
      "\n",
      "Consuming Reactions\n",
      "-------------------\n",
      "Percent   Flux Reaction                                   Definition\n",
      "100.00% -44.48    HACD2 3ohcoa_c + h_c + nadh_c <=> 3hhcoa_c + nad_c\n",
      "3ohcoa_c\n",
      "3ohcoa_c\n",
      "========\n",
      "Formula: C27H40N7O18P3S\n",
      "\n",
      "Producing Reactions\n",
      "-------------------\n",
      "Percent  Flux Reaction                                   Definition\n",
      "100.00% 44.48    HACD2 3ohcoa_c + h_c + nadh_c <=> 3hhcoa_c + nad_c\n",
      "\n",
      "Consuming Reactions\n",
      "-------------------\n",
      "Percent   Flux Reaction                             Definition\n",
      "100.00% -44.48  ACACT2r accoa_c + btcoa_c <=> 3ohcoa_c + coa_c\n",
      "3oocoa_c\n",
      "3oocoa_c\n",
      "========\n",
      "Formula: C29H44N7O18P3S\n",
      "\n",
      "Producing Reactions\n",
      "-------------------\n",
      "Percent  Flux Reaction                                   Definition\n",
      "100.00% 44.48    HACD3 3oocoa_c + h_c + nadh_c <=> 3hocoa_c + nad_c\n",
      "\n",
      "Consuming Reactions\n",
      "-------------------\n",
      "Percent   Flux Reaction                             Definition\n",
      "100.00% -44.48  ACACT3r accoa_c + hxcoa_c <=> 3oocoa_c + coa_c\n",
      "3odcoa_c\n",
      "3odcoa_c\n",
      "========\n",
      "Formula: C31H48N7O18P3S\n",
      "\n",
      "Producing Reactions\n",
      "-------------------\n",
      "Percent  Flux Reaction                                   Definition\n",
      "100.00% 44.64    HACD4 3odcoa_c + h_c + nadh_c <=> 3hdcoa_c + nad_c\n",
      "\n",
      "Consuming Reactions\n",
      "-------------------\n",
      "Percent   Flux Reaction                             Definition\n",
      "100.00% -44.64  ACACT4r accoa_c + occoa_c <=> 3odcoa_c + coa_c\n",
      "3oddcoa_c\n",
      "3oddcoa_c\n",
      "=========\n",
      "Formula: C33H52N7O18P3S\n",
      "\n",
      "Producing Reactions\n",
      "-------------------\n",
      "Percent  Flux Reaction                                     Definition\n",
      "100.00% 44.64    HACD5 3oddcoa_c + h_c + nadh_c <=> 3hddcoa_c + nad_c\n",
      "\n",
      "Consuming Reactions\n",
      "-------------------\n",
      "Percent   Flux Reaction                               Definition\n",
      "100.00% -44.64  ACACT5r accoa_c + dcacoa_c <=> 3oddcoa_c + coa_c\n",
      "3otdcoa_c\n",
      "3otdcoa_c\n",
      "=========\n",
      "Formula: C35H56N7O18P3S\n",
      "\n",
      "Producing Reactions\n",
      "-------------------\n",
      "Percent  Flux Reaction                                     Definition\n",
      "100.00% 44.64    HACD6 3otdcoa_c + h_c + nadh_c <=> 3htdcoa_c + nad_c\n",
      "\n",
      "Consuming Reactions\n",
      "-------------------\n",
      "Percent   Flux Reaction                                Definition\n",
      "100.00% -44.64  ACACT6r accoa_c + ddcacoa_c <=> 3otdcoa_c + coa_c\n",
      "3ohdcoa_c\n",
      "3ohdcoa_c\n",
      "=========\n",
      "Formula: C37H60N7O18P3S\n",
      "\n",
      "Producing Reactions\n",
      "-------------------\n",
      "Percent  Flux Reaction                                     Definition\n",
      "100.00% 44.64    HACD7 3ohdcoa_c + h_c + nadh_c <=> 3hhdcoa_c + nad_c\n",
      "\n",
      "Consuming Reactions\n",
      "-------------------\n",
      "Percent   Flux Reaction                              Definition\n",
      "100.00% -44.64  ACACT7r accoa_c + tdcoa_c <=> 3ohdcoa_c + coa_c\n",
      "3ohcoa_c\n",
      "3ohcoa_c\n",
      "========\n",
      "Formula: C27H40N7O18P3S\n",
      "\n",
      "Producing Reactions\n",
      "-------------------\n",
      "Percent  Flux Reaction                                   Definition\n",
      "100.00% 44.48    HACD2 3ohcoa_c + h_c + nadh_c <=> 3hhcoa_c + nad_c\n",
      "\n",
      "Consuming Reactions\n",
      "-------------------\n",
      "Percent   Flux Reaction                             Definition\n",
      "100.00% -44.48  ACACT2r accoa_c + btcoa_c <=> 3ohcoa_c + coa_c\n",
      "3hhdcoa_c\n",
      "3hhdcoa_c\n",
      "=========\n",
      "Formula: C37H62N7O18P3S\n",
      "\n",
      "Producing Reactions\n",
      "-------------------\n",
      "Percent  Flux Reaction                      Definition\n",
      "100.00% 44.64   ECOAH7 3hhdcoa_c <=> h2o_c + hdd2coa_c\n",
      "\n",
      "Consuming Reactions\n",
      "-------------------\n",
      "Percent   Flux Reaction                                     Definition\n",
      "100.00% -44.64    HACD7 3ohdcoa_c + h_c + nadh_c <=> 3hhdcoa_c + nad_c\n",
      "btcoa_c\n",
      "btcoa_c\n",
      "=======\n",
      "Formula: C25H38N7O17P3S\n",
      "\n",
      "Producing Reactions\n",
      "-------------------\n",
      "Percent  Flux Reaction                             Definition\n",
      " 26.75% 44.48  ACACT2r accoa_c + btcoa_c <=> 3ohcoa_c + coa_c\n",
      " 73.25% 121.8  ACOAD1f  btcoa_c + fad_c <=> b2coa_c + fadh2_c\n",
      "\n",
      "Consuming Reactions\n",
      "-------------------\n",
      "Percent    Flux Reaction                           Definition\n",
      "  0.32% -0.5343   BCOATA ACP_c + btcoa_c <=> butACP_c + coa_c\n",
      " 99.68%  -165.8    IBTMr                  ibcoa_c <=> btcoa_c\n"
     ]
    }
   ],
   "source": [
    "li = ['3hhcoa_c','3ohcoa_c','3oocoa_c','3odcoa_c','3oddcoa_c','3otdcoa_c','3ohdcoa_c','3ohcoa_c','3hhdcoa_c','btcoa_c']\n",
    "for a in li:\n",
    "    print(a)\n",
    "    print(model2.metabolites.get_by_id(a).summary())"
   ]
  },
  {
   "cell_type": "code",
   "execution_count": 54,
   "id": "1e6161dc",
   "metadata": {},
   "outputs": [],
   "source": [
    "reactions_to_add = {}\n",
    "ri = ['CITMS','BCOATA', 'hdca_Transp_c0']\n",
    "for x in model2_reactions:\n",
    "    if x in ri:\n",
    "        y = model2_reactions[x]\n",
    "        reactions_to_add[x] = y"
   ]
  },
  {
   "cell_type": "code",
   "execution_count": 55,
   "id": "21deca65",
   "metadata": {},
   "outputs": [
    {
     "name": "stdout",
     "output_type": "stream",
     "text": [
      "CITMS: accoa_c + h2o_c + pyr_c <=> citm__R_c + coa_c\n",
      "1000.0\n",
      "BCOATA: ACP_c + btcoa_c <=> butACP_c + coa_c\n",
      "1000.0\n",
      "hdca_Transp_c0: hdca_e <=> hdca_c\n",
      "1000.0\n"
     ]
    }
   ],
   "source": [
    "for x in reactions_to_add:\n",
    "    reaction = model2.reactions.get_by_id(x)\n",
    "    print(reaction)\n",
    "    mutant1.add_reactions([reaction])\n",
    "    print(mutant1.slim_optimize())"
   ]
  },
  {
   "cell_type": "code",
   "execution_count": 56,
   "id": "7c09f866",
   "metadata": {},
   "outputs": [
    {
     "data": {
      "text/plain": [
       "'Acetyl-CoA + H2O H2O + Pyruvate <=> (R)-2-Methylmalate + Coenzyme A'"
      ]
     },
     "execution_count": 56,
     "metadata": {},
     "output_type": "execute_result"
    }
   ],
   "source": [
    "model2.reactions.get_by_id(\"CITMS\").build_reaction_string(use_metabolite_names = True)"
   ]
  },
  {
   "cell_type": "code",
   "execution_count": 57,
   "id": "23264843",
   "metadata": {},
   "outputs": [
    {
     "data": {
      "text/plain": [
       "'Acyl carrier protein + Butanoyl-CoA <=> Butyryl-ACP (n-C4:0ACP) + Coenzyme A'"
      ]
     },
     "execution_count": 57,
     "metadata": {},
     "output_type": "execute_result"
    }
   ],
   "source": [
    "model2.reactions.get_by_id(\"BCOATA\").build_reaction_string(use_metabolite_names = True)"
   ]
  },
  {
   "cell_type": "markdown",
   "id": "fcfe0eb6",
   "metadata": {},
   "source": [
    "https://www.genome.jp/pathway/rn01212+R04429"
   ]
  },
  {
   "cell_type": "code",
   "execution_count": 58,
   "id": "e4be7db5",
   "metadata": {},
   "outputs": [
    {
     "data": {
      "text/plain": [
       "1000.0"
      ]
     },
     "execution_count": 58,
     "metadata": {},
     "output_type": "execute_result"
    }
   ],
   "source": [
    "mutant1.slim_optimize()"
   ]
  },
  {
   "cell_type": "code",
   "execution_count": 59,
   "id": "85ce0fe7",
   "metadata": {},
   "outputs": [
    {
     "name": "stdout",
     "output_type": "stream",
     "text": [
      "accoa_c\n",
      "=======\n",
      "Formula: C23H34N7O17P3S\n",
      "\n",
      "Producing Reactions\n",
      "-------------------\n",
      "Percent Flux Reaction                                                     Definition\n",
      "100.00%  500    ACTD2 actn__R_c + coa_c + nad_c --> acald_c + accoa_c + h_c + nadh_c\n",
      "\n",
      "Consuming Reactions\n",
      "-------------------\n",
      "Percent  Flux Reaction                                Definition\n",
      " 25.00%  -125  ACACT1r           2.0 accoa_c <=> aacoa_c + coa_c\n",
      " 12.50% -62.5  ACACT2r    accoa_c + btcoa_c <=> 3ohcoa_c + coa_c\n",
      " 12.50% -62.5  ACACT3r    accoa_c + hxcoa_c <=> 3oocoa_c + coa_c\n",
      " 12.50% -62.5  ACACT4r    accoa_c + occoa_c <=> 3odcoa_c + coa_c\n",
      " 12.50% -62.5  ACACT5r  accoa_c + dcacoa_c <=> 3oddcoa_c + coa_c\n",
      " 12.50% -62.5  ACACT6r accoa_c + ddcacoa_c <=> 3otdcoa_c + coa_c\n",
      " 12.50% -62.5  ACACT7r   accoa_c + tdcoa_c <=> 3ohdcoa_c + coa_c\n"
     ]
    }
   ],
   "source": [
    "print(mutant1.metabolites.accoa_c.summary())"
   ]
  },
  {
   "cell_type": "code",
   "execution_count": 60,
   "id": "95d06ddb",
   "metadata": {},
   "outputs": [],
   "source": [
    "mutant1.objective='ATPM'"
   ]
  },
  {
   "cell_type": "code",
   "execution_count": 61,
   "id": "875089c5",
   "metadata": {},
   "outputs": [
    {
     "data": {
      "text/plain": [
       "1000.0000000000007"
      ]
     },
     "execution_count": 61,
     "metadata": {},
     "output_type": "execute_result"
    }
   ],
   "source": [
    "mutant1.slim_optimize()"
   ]
  },
  {
   "cell_type": "code",
   "execution_count": 62,
   "id": "177a6242",
   "metadata": {},
   "outputs": [
    {
     "name": "stdout",
     "output_type": "stream",
     "text": [
      "accoa_c\n",
      "=======\n",
      "Formula: C23H34N7O17P3S\n",
      "\n",
      "Producing Reactions\n",
      "-------------------\n",
      "Percent Flux Reaction                                                     Definition\n",
      "100.00%  500    ACTD2 actn__R_c + coa_c + nad_c --> acald_c + accoa_c + h_c + nadh_c\n",
      "\n",
      "Consuming Reactions\n",
      "-------------------\n",
      "Percent  Flux Reaction                                Definition\n",
      " 25.00%  -125  ACACT1r           2.0 accoa_c <=> aacoa_c + coa_c\n",
      " 12.50% -62.5  ACACT2r    accoa_c + btcoa_c <=> 3ohcoa_c + coa_c\n",
      " 12.50% -62.5  ACACT3r    accoa_c + hxcoa_c <=> 3oocoa_c + coa_c\n",
      " 12.50% -62.5  ACACT4r    accoa_c + occoa_c <=> 3odcoa_c + coa_c\n",
      " 12.50% -62.5  ACACT5r  accoa_c + dcacoa_c <=> 3oddcoa_c + coa_c\n",
      " 12.50% -62.5  ACACT6r accoa_c + ddcacoa_c <=> 3otdcoa_c + coa_c\n",
      " 12.50% -62.5  ACACT7r   accoa_c + tdcoa_c <=> 3ohdcoa_c + coa_c\n"
     ]
    }
   ],
   "source": [
    "print(mutant1.metabolites.accoa_c.summary())"
   ]
  },
  {
   "cell_type": "code",
   "execution_count": 63,
   "id": "1785cd33",
   "metadata": {},
   "outputs": [],
   "source": [
    "model2.objective='ATPM'"
   ]
  },
  {
   "cell_type": "code",
   "execution_count": 64,
   "id": "6ddb8934",
   "metadata": {},
   "outputs": [
    {
     "data": {
      "text/plain": [
       "1000.0"
      ]
     },
     "execution_count": 64,
     "metadata": {},
     "output_type": "execute_result"
    }
   ],
   "source": [
    "model2.slim_optimize()"
   ]
  },
  {
   "cell_type": "code",
   "execution_count": 65,
   "id": "8e19b36c",
   "metadata": {},
   "outputs": [],
   "source": [
    "#print(model2.metabolites.accoa_c.summary())"
   ]
  },
  {
   "cell_type": "code",
   "execution_count": null,
   "id": "b38f7b4c",
   "metadata": {},
   "outputs": [],
   "source": []
  }
 ],
 "metadata": {
  "kernelspec": {
   "display_name": "Python 3 (ipykernel)",
   "language": "python",
   "name": "python3"
  },
  "language_info": {
   "codemirror_mode": {
    "name": "ipython",
    "version": 3
   },
   "file_extension": ".py",
   "mimetype": "text/x-python",
   "name": "python",
   "nbconvert_exporter": "python",
   "pygments_lexer": "ipython3",
   "version": "3.9.13"
  }
 },
 "nbformat": 4,
 "nbformat_minor": 5
}
