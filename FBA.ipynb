{
 "cells": [
  {
   "cell_type": "code",
   "execution_count": 1,
   "id": "f6614a94",
   "metadata": {},
   "outputs": [],
   "source": [
    "import pandas as pd\n",
    "import pickle\n",
    "import copy\n",
    "import cobra\n",
    "import matplotlib.pyplot as plt\n",
    "from cobra.io import read_sbml_model,write_sbml_model\n",
    "from functools import reduce \n",
    "%matplotlib inline"
   ]
  },
  {
   "cell_type": "code",
   "execution_count": 2,
   "id": "7a8714e6",
   "metadata": {},
   "outputs": [],
   "source": [
    "mutant1 = read_sbml_model('mutant1.xml')"
   ]
  },
  {
   "cell_type": "code",
   "execution_count": 3,
   "id": "0cafcb4d",
   "metadata": {},
   "outputs": [],
   "source": []
  },
  {
   "cell_type": "raw",
   "id": "3d663fc9",
   "metadata": {},
   "source": [
    "How to interprete the results.Take mutant1 and model2 and run this block of code Adding contraint ATPM only if time greater than 25hrs.\n",
    "For each model save the fluxes . when you run the fluxes. instead of using otimize use cobra.flux_analysis.pfba.\n",
    "Add column to table reaction with metabolites and metabolite id for mutant1 and model2\n",
    "How this differ in the fluxes.\n",
    "\n",
    "Time strain 20 and 0 at time 90 hrs compare the solutions for these 2 models (mutant1 and model2).\n",
    "\n",
    "#For each model save the fluxes . when you run the fluxes. instead of using otimize use cobra.flux_analysis.pfba."
   ]
  },
  {
   "cell_type": "code",
   "execution_count": 4,
   "id": "c51247e0",
   "metadata": {},
   "outputs": [],
   "source": [
    "data=pd.read_excel('C:\\\\Users\\\\02700282\\\\OneDrive - Elanco\\\\Mycomputer\\\\German_handover\\\\FinalReport\\\\FinalReport\\\\Data\\\\ExperimentalConstraints.xlsx')"
   ]
  },
  {
   "cell_type": "code",
   "execution_count": 5,
   "id": "a0ebd433",
   "metadata": {},
   "outputs": [
    {
     "data": {
      "text/html": [
       "<div>\n",
       "<style scoped>\n",
       "    .dataframe tbody tr th:only-of-type {\n",
       "        vertical-align: middle;\n",
       "    }\n",
       "\n",
       "    .dataframe tbody tr th {\n",
       "        vertical-align: top;\n",
       "    }\n",
       "\n",
       "    .dataframe thead th {\n",
       "        text-align: right;\n",
       "    }\n",
       "</style>\n",
       "<table border=\"1\" class=\"dataframe\">\n",
       "  <thead>\n",
       "    <tr style=\"text-align: right;\">\n",
       "      <th></th>\n",
       "      <th>Strain</th>\n",
       "      <th>Time</th>\n",
       "      <th>Glucose uptake</th>\n",
       "      <th>Lipid uptake (mmol palmitate/L/h)</th>\n",
       "      <th>O2 uptake (mmol/L/h)</th>\n",
       "      <th>CE (mmol/L/h)</th>\n",
       "      <th>Potency (mmol/L/h)</th>\n",
       "      <th>NH3 (mmol/L/h)</th>\n",
       "      <th>MonensinA</th>\n",
       "      <th>MonensinB</th>\n",
       "    </tr>\n",
       "  </thead>\n",
       "  <tbody>\n",
       "    <tr>\n",
       "      <th>0</th>\n",
       "      <td>730_0</td>\n",
       "      <td>14</td>\n",
       "      <td>8.920047</td>\n",
       "      <td>0.000000</td>\n",
       "      <td>34.8</td>\n",
       "      <td>37.8</td>\n",
       "      <td>0.008539</td>\n",
       "      <td>0.071763</td>\n",
       "      <td>0.012120</td>\n",
       "      <td>0.000000</td>\n",
       "    </tr>\n",
       "    <tr>\n",
       "      <th>1</th>\n",
       "      <td>730_7</td>\n",
       "      <td>14</td>\n",
       "      <td>7.389152</td>\n",
       "      <td>0.000000</td>\n",
       "      <td>29.4</td>\n",
       "      <td>31.8</td>\n",
       "      <td>0.003516</td>\n",
       "      <td>0.072902</td>\n",
       "      <td>0.001170</td>\n",
       "      <td>0.002346</td>\n",
       "    </tr>\n",
       "    <tr>\n",
       "      <th>2</th>\n",
       "      <td>730_12</td>\n",
       "      <td>14</td>\n",
       "      <td>9.622771</td>\n",
       "      <td>0.000000</td>\n",
       "      <td>35.4</td>\n",
       "      <td>39.0</td>\n",
       "      <td>0.005609</td>\n",
       "      <td>0.053197</td>\n",
       "      <td>0.002761</td>\n",
       "      <td>0.002847</td>\n",
       "    </tr>\n",
       "    <tr>\n",
       "      <th>3</th>\n",
       "      <td>730_20</td>\n",
       "      <td>14</td>\n",
       "      <td>9.231999</td>\n",
       "      <td>0.000000</td>\n",
       "      <td>33.6</td>\n",
       "      <td>37.8</td>\n",
       "      <td>0.002728</td>\n",
       "      <td>0.098197</td>\n",
       "      <td>0.001082</td>\n",
       "      <td>0.001646</td>\n",
       "    </tr>\n",
       "    <tr>\n",
       "      <th>4</th>\n",
       "      <td>730_0</td>\n",
       "      <td>25</td>\n",
       "      <td>8.920047</td>\n",
       "      <td>0.000000</td>\n",
       "      <td>36.0</td>\n",
       "      <td>37.8</td>\n",
       "      <td>0.001601</td>\n",
       "      <td>0.071763</td>\n",
       "      <td>0.000000</td>\n",
       "      <td>0.001601</td>\n",
       "    </tr>\n",
       "    <tr>\n",
       "      <th>5</th>\n",
       "      <td>730_7</td>\n",
       "      <td>25</td>\n",
       "      <td>7.389152</td>\n",
       "      <td>0.000000</td>\n",
       "      <td>31.2</td>\n",
       "      <td>32.4</td>\n",
       "      <td>0.013034</td>\n",
       "      <td>0.072902</td>\n",
       "      <td>0.007481</td>\n",
       "      <td>0.005553</td>\n",
       "    </tr>\n",
       "    <tr>\n",
       "      <th>6</th>\n",
       "      <td>730_12</td>\n",
       "      <td>25</td>\n",
       "      <td>9.622771</td>\n",
       "      <td>0.000000</td>\n",
       "      <td>30.6</td>\n",
       "      <td>30.6</td>\n",
       "      <td>0.009110</td>\n",
       "      <td>0.053197</td>\n",
       "      <td>0.004954</td>\n",
       "      <td>0.004157</td>\n",
       "    </tr>\n",
       "    <tr>\n",
       "      <th>7</th>\n",
       "      <td>730_20</td>\n",
       "      <td>25</td>\n",
       "      <td>9.231999</td>\n",
       "      <td>0.000000</td>\n",
       "      <td>39.0</td>\n",
       "      <td>41.4</td>\n",
       "      <td>0.009700</td>\n",
       "      <td>0.098197</td>\n",
       "      <td>0.006140</td>\n",
       "      <td>0.003560</td>\n",
       "    </tr>\n",
       "    <tr>\n",
       "      <th>8</th>\n",
       "      <td>730_0</td>\n",
       "      <td>38</td>\n",
       "      <td>3.193813</td>\n",
       "      <td>0.726009</td>\n",
       "      <td>28.2</td>\n",
       "      <td>21.6</td>\n",
       "      <td>0.017141</td>\n",
       "      <td>-0.035546</td>\n",
       "      <td>0.016756</td>\n",
       "      <td>0.000384</td>\n",
       "    </tr>\n",
       "    <tr>\n",
       "      <th>9</th>\n",
       "      <td>730_7</td>\n",
       "      <td>38</td>\n",
       "      <td>6.376952</td>\n",
       "      <td>0.334304</td>\n",
       "      <td>25.2</td>\n",
       "      <td>23.4</td>\n",
       "      <td>0.048988</td>\n",
       "      <td>-0.002145</td>\n",
       "      <td>0.043588</td>\n",
       "      <td>0.005399</td>\n",
       "    </tr>\n",
       "    <tr>\n",
       "      <th>10</th>\n",
       "      <td>730_12</td>\n",
       "      <td>38</td>\n",
       "      <td>1.368472</td>\n",
       "      <td>0.645714</td>\n",
       "      <td>26.4</td>\n",
       "      <td>21.0</td>\n",
       "      <td>0.084133</td>\n",
       "      <td>-0.580999</td>\n",
       "      <td>0.082280</td>\n",
       "      <td>0.001853</td>\n",
       "    </tr>\n",
       "    <tr>\n",
       "      <th>11</th>\n",
       "      <td>730_20</td>\n",
       "      <td>38</td>\n",
       "      <td>1.769834</td>\n",
       "      <td>0.436238</td>\n",
       "      <td>27.6</td>\n",
       "      <td>21.6</td>\n",
       "      <td>0.078688</td>\n",
       "      <td>-0.536714</td>\n",
       "      <td>0.076585</td>\n",
       "      <td>0.002103</td>\n",
       "    </tr>\n",
       "    <tr>\n",
       "      <th>12</th>\n",
       "      <td>730_0</td>\n",
       "      <td>49</td>\n",
       "      <td>-0.054397</td>\n",
       "      <td>2.551272</td>\n",
       "      <td>31.2</td>\n",
       "      <td>22.2</td>\n",
       "      <td>0.060438</td>\n",
       "      <td>0.006806</td>\n",
       "      <td>0.059386</td>\n",
       "      <td>0.001052</td>\n",
       "    </tr>\n",
       "    <tr>\n",
       "      <th>13</th>\n",
       "      <td>730_7</td>\n",
       "      <td>49</td>\n",
       "      <td>-0.042186</td>\n",
       "      <td>2.602552</td>\n",
       "      <td>27.0</td>\n",
       "      <td>18.6</td>\n",
       "      <td>0.159740</td>\n",
       "      <td>-0.025462</td>\n",
       "      <td>0.155878</td>\n",
       "      <td>0.003863</td>\n",
       "    </tr>\n",
       "    <tr>\n",
       "      <th>14</th>\n",
       "      <td>730_12</td>\n",
       "      <td>49</td>\n",
       "      <td>-0.032194</td>\n",
       "      <td>2.930923</td>\n",
       "      <td>26.4</td>\n",
       "      <td>19.2</td>\n",
       "      <td>0.167013</td>\n",
       "      <td>-0.602297</td>\n",
       "      <td>0.163530</td>\n",
       "      <td>0.003483</td>\n",
       "    </tr>\n",
       "    <tr>\n",
       "      <th>15</th>\n",
       "      <td>730_20</td>\n",
       "      <td>49</td>\n",
       "      <td>-0.056618</td>\n",
       "      <td>2.775196</td>\n",
       "      <td>28.2</td>\n",
       "      <td>19.8</td>\n",
       "      <td>0.189506</td>\n",
       "      <td>-0.442989</td>\n",
       "      <td>0.185193</td>\n",
       "      <td>0.004313</td>\n",
       "    </tr>\n",
       "    <tr>\n",
       "      <th>16</th>\n",
       "      <td>730_0</td>\n",
       "      <td>90</td>\n",
       "      <td>0.054397</td>\n",
       "      <td>2.551272</td>\n",
       "      <td>30.6</td>\n",
       "      <td>20.4</td>\n",
       "      <td>0.056199</td>\n",
       "      <td>0.529445</td>\n",
       "      <td>0.053566</td>\n",
       "      <td>0.002633</td>\n",
       "    </tr>\n",
       "    <tr>\n",
       "      <th>17</th>\n",
       "      <td>730_7</td>\n",
       "      <td>90</td>\n",
       "      <td>0.042186</td>\n",
       "      <td>2.602552</td>\n",
       "      <td>31.2</td>\n",
       "      <td>21.6</td>\n",
       "      <td>0.198851</td>\n",
       "      <td>0.527547</td>\n",
       "      <td>0.189629</td>\n",
       "      <td>0.009222</td>\n",
       "    </tr>\n",
       "    <tr>\n",
       "      <th>18</th>\n",
       "      <td>730_12</td>\n",
       "      <td>90</td>\n",
       "      <td>0.028864</td>\n",
       "      <td>2.930923</td>\n",
       "      <td>36.0</td>\n",
       "      <td>23.4</td>\n",
       "      <td>0.368820</td>\n",
       "      <td>0.863914</td>\n",
       "      <td>0.341679</td>\n",
       "      <td>0.027141</td>\n",
       "    </tr>\n",
       "    <tr>\n",
       "      <th>19</th>\n",
       "      <td>730_20</td>\n",
       "      <td>90</td>\n",
       "      <td>0.049957</td>\n",
       "      <td>2.775196</td>\n",
       "      <td>36.0</td>\n",
       "      <td>22.8</td>\n",
       "      <td>0.369807</td>\n",
       "      <td>0.742650</td>\n",
       "      <td>0.348130</td>\n",
       "      <td>0.021677</td>\n",
       "    </tr>\n",
       "  </tbody>\n",
       "</table>\n",
       "</div>"
      ],
      "text/plain": [
       "    Strain  Time  Glucose uptake  Lipid uptake (mmol palmitate/L/h)  \\\n",
       "0    730_0    14        8.920047                           0.000000   \n",
       "1    730_7    14        7.389152                           0.000000   \n",
       "2   730_12    14        9.622771                           0.000000   \n",
       "3   730_20    14        9.231999                           0.000000   \n",
       "4    730_0    25        8.920047                           0.000000   \n",
       "5    730_7    25        7.389152                           0.000000   \n",
       "6   730_12    25        9.622771                           0.000000   \n",
       "7   730_20    25        9.231999                           0.000000   \n",
       "8    730_0    38        3.193813                           0.726009   \n",
       "9    730_7    38        6.376952                           0.334304   \n",
       "10  730_12    38        1.368472                           0.645714   \n",
       "11  730_20    38        1.769834                           0.436238   \n",
       "12   730_0    49       -0.054397                           2.551272   \n",
       "13   730_7    49       -0.042186                           2.602552   \n",
       "14  730_12    49       -0.032194                           2.930923   \n",
       "15  730_20    49       -0.056618                           2.775196   \n",
       "16   730_0    90        0.054397                           2.551272   \n",
       "17   730_7    90        0.042186                           2.602552   \n",
       "18  730_12    90        0.028864                           2.930923   \n",
       "19  730_20    90        0.049957                           2.775196   \n",
       "\n",
       "    O2 uptake (mmol/L/h)  CE (mmol/L/h)  Potency (mmol/L/h)  NH3 (mmol/L/h)  \\\n",
       "0                   34.8           37.8            0.008539        0.071763   \n",
       "1                   29.4           31.8            0.003516        0.072902   \n",
       "2                   35.4           39.0            0.005609        0.053197   \n",
       "3                   33.6           37.8            0.002728        0.098197   \n",
       "4                   36.0           37.8            0.001601        0.071763   \n",
       "5                   31.2           32.4            0.013034        0.072902   \n",
       "6                   30.6           30.6            0.009110        0.053197   \n",
       "7                   39.0           41.4            0.009700        0.098197   \n",
       "8                   28.2           21.6            0.017141       -0.035546   \n",
       "9                   25.2           23.4            0.048988       -0.002145   \n",
       "10                  26.4           21.0            0.084133       -0.580999   \n",
       "11                  27.6           21.6            0.078688       -0.536714   \n",
       "12                  31.2           22.2            0.060438        0.006806   \n",
       "13                  27.0           18.6            0.159740       -0.025462   \n",
       "14                  26.4           19.2            0.167013       -0.602297   \n",
       "15                  28.2           19.8            0.189506       -0.442989   \n",
       "16                  30.6           20.4            0.056199        0.529445   \n",
       "17                  31.2           21.6            0.198851        0.527547   \n",
       "18                  36.0           23.4            0.368820        0.863914   \n",
       "19                  36.0           22.8            0.369807        0.742650   \n",
       "\n",
       "    MonensinA  MonensinB  \n",
       "0    0.012120   0.000000  \n",
       "1    0.001170   0.002346  \n",
       "2    0.002761   0.002847  \n",
       "3    0.001082   0.001646  \n",
       "4    0.000000   0.001601  \n",
       "5    0.007481   0.005553  \n",
       "6    0.004954   0.004157  \n",
       "7    0.006140   0.003560  \n",
       "8    0.016756   0.000384  \n",
       "9    0.043588   0.005399  \n",
       "10   0.082280   0.001853  \n",
       "11   0.076585   0.002103  \n",
       "12   0.059386   0.001052  \n",
       "13   0.155878   0.003863  \n",
       "14   0.163530   0.003483  \n",
       "15   0.185193   0.004313  \n",
       "16   0.053566   0.002633  \n",
       "17   0.189629   0.009222  \n",
       "18   0.341679   0.027141  \n",
       "19   0.348130   0.021677  "
      ]
     },
     "execution_count": 5,
     "metadata": {},
     "output_type": "execute_result"
    }
   ],
   "source": [
    "data"
   ]
  },
  {
   "cell_type": "code",
   "execution_count": 6,
   "id": "88715726",
   "metadata": {},
   "outputs": [],
   "source": [
    "mutant1_models = {}"
   ]
  },
  {
   "cell_type": "code",
   "execution_count": 7,
   "id": "18f004d2",
   "metadata": {},
   "outputs": [],
   "source": [
    "for s in data.index:\n",
    "    x = data.loc[s,'Time']\n",
    "    name='C'+data.loc[s,'Strain']+\"-\"+str(data.loc[s,'Time'])\n",
    "    strain=copy.deepcopy(mutant1)\n",
    "    if x >= 25:\n",
    "        strain.objective='ATPM'\n",
    "        strain.reactions.Growth.lower_bound=0.01\n",
    "        strain.reactions.EX_MonensinA_e0.lower_bound=float(data.loc[s,'MonensinA'])\n",
    "        strain.reactions.EX_MonensinB_e0.lower_bound=float(data.loc[s,'MonensinB'])\n",
    "        strain.reactions.EX_hdca_e.lower_bound=float(-data.loc[s,'Lipid uptake (mmol palmitate/L/h)'])\n",
    "        strain.reactions.EX_o2_e.lower_bound=float(-data.loc[s,'O2 uptake (mmol/L/h)'])\n",
    "        strain.reactions.EX_co2_e.upper_bound=data.loc[s,'CE (mmol/L/h)']\n",
    "        strain.reactions.EX_nh4_e.lower_bound=float(-data.loc[s,'NH3 (mmol/L/h)'])\n",
    "        strain.reactions.EX_glc__D_e.lower_bound=float(min(0,-data.loc[s,'Glucose uptake']))\n",
    "        mutant1_models[name]=strain\n",
    "    else:\n",
    "        strain.reactions.Growth.lower_bound=0.01\n",
    "        strain.reactions.EX_MonensinA_e0.lower_bound=float(data.loc[s,'MonensinA'])\n",
    "        strain.reactions.EX_MonensinB_e0.lower_bound=float(data.loc[s,'MonensinB'])\n",
    "        strain.reactions.EX_hdca_e.lower_bound=float(-data.loc[s,'Lipid uptake (mmol palmitate/L/h)'])\n",
    "        strain.reactions.EX_o2_e.lower_bound=float(-data.loc[s,'O2 uptake (mmol/L/h)'])\n",
    "        strain.reactions.EX_co2_e.upper_bound=data.loc[s,'CE (mmol/L/h)']\n",
    "        strain.reactions.EX_nh4_e.lower_bound=float(-data.loc[s,'NH3 (mmol/L/h)'])\n",
    "        strain.reactions.EX_glc__D_e.lower_bound=float(min(0,-data.loc[s,'Glucose uptake']))\n",
    "        mutant1_models[name]=strain"
   ]
  },
  {
   "cell_type": "code",
   "execution_count": 8,
   "id": "f984240a",
   "metadata": {},
   "outputs": [
    {
     "name": "stdout",
     "output_type": "stream",
     "text": [
      "{'C730_0-14': <Model SC73020_CarveMe at 0x1a7d48fbf40>, 'C730_7-14': <Model SC73020_CarveMe at 0x1a7d636d6a0>, 'C730_12-14': <Model SC73020_CarveMe at 0x1a7d6ebedf0>, 'C730_20-14': <Model SC73020_CarveMe at 0x1a7d76efd30>, 'C730_0-25': <Model SC73020_CarveMe at 0x1a7d784ba00>, 'C730_7-25': <Model SC73020_CarveMe at 0x1a7db19b730>, 'C730_12-25': <Model SC73020_CarveMe at 0x1a7d7711370>, 'C730_20-25': <Model SC73020_CarveMe at 0x1a7dd8bdd90>, 'C730_0-38': <Model SC73020_CarveMe at 0x1a7dec418e0>, 'C730_7-38': <Model SC73020_CarveMe at 0x1a7dffebd90>, 'C730_12-38': <Model SC73020_CarveMe at 0x1a7e138c730>, 'C730_20-38': <Model SC73020_CarveMe at 0x1a7e2722ac0>, 'C730_0-49': <Model SC73020_CarveMe at 0x1a7e3ac2460>, 'C730_7-49': <Model SC73020_CarveMe at 0x1a7e4e39d00>, 'C730_12-49': <Model SC73020_CarveMe at 0x1a7e61e0f10>, 'C730_20-49': <Model SC73020_CarveMe at 0x1a7e7586ee0>, 'C730_0-90': <Model SC73020_CarveMe at 0x1a7e890e6d0>, 'C730_7-90': <Model SC73020_CarveMe at 0x1a7e9cbcd60>, 'C730_12-90': <Model SC73020_CarveMe at 0x1a7eb05b5e0>, 'C730_20-90': <Model SC73020_CarveMe at 0x1a7ec3e9fd0>}\n"
     ]
    }
   ],
   "source": [
    "print(mutant1_models)"
   ]
  },
  {
   "cell_type": "code",
   "execution_count": 9,
   "id": "9a1578f8",
   "metadata": {},
   "outputs": [],
   "source": [
    "model2_models = {}"
   ]
  },
  {
   "cell_type": "code",
   "execution_count": 10,
   "id": "2193748f",
   "metadata": {},
   "outputs": [],
   "source": [
    "for s in data.index:\n",
    "    x = data.loc[s,'Time']\n",
    "    name='C'+data.loc[s,'Strain']+\"-\"+str(data.loc[s,'Time'])\n",
    "    strain=copy.deepcopy(model2)\n",
    "    if x >= 25:\n",
    "        strain.objective='ATPM'\n",
    "        strain.reactions.BIOMASS_SCO.lower_bound=0.01\n",
    "        strain.reactions.EX_MonensinA_e0.lower_bound=float(data.loc[s,'MonensinA'])\n",
    "        strain.reactions.EX_MonensinB_e0.lower_bound=float(data.loc[s,'MonensinB'])\n",
    "        strain.reactions.EX_hdca_e.lower_bound=float(-data.loc[s,'Lipid uptake (mmol palmitate/L/h)'])\n",
    "        strain.reactions.EX_o2_e.lower_bound=float(-data.loc[s,'O2 uptake (mmol/L/h)'])\n",
    "        strain.reactions.EX_co2_e.upper_bound=data.loc[s,'CE (mmol/L/h)']\n",
    "        strain.reactions.EX_nh4_e.lower_bound=float(-data.loc[s,'NH3 (mmol/L/h)'])\n",
    "        strain.reactions.EX_glc__D_e.lower_bound=float(min(0,-data.loc[s,'Glucose uptake']))\n",
    "        model2_models[name]=strain\n",
    "    else:\n",
    "        strain.reactions.BIOMASS_SCO.lower_bound=0.01\n",
    "        strain.reactions.EX_MonensinA_e0.lower_bound=float(data.loc[s,'MonensinA'])\n",
    "        strain.reactions.EX_MonensinB_e0.lower_bound=float(data.loc[s,'MonensinB'])\n",
    "        strain.reactions.EX_hdca_e.lower_bound=float(-data.loc[s,'Lipid uptake (mmol palmitate/L/h)'])\n",
    "        strain.reactions.EX_o2_e.lower_bound=float(-data.loc[s,'O2 uptake (mmol/L/h)'])\n",
    "        strain.reactions.EX_co2_e.upper_bound=data.loc[s,'CE (mmol/L/h)']\n",
    "        strain.reactions.EX_nh4_e.lower_bound=float(-data.loc[s,'NH3 (mmol/L/h)'])\n",
    "        strain.reactions.EX_glc__D_e.lower_bound=float(min(0,-data.loc[s,'Glucose uptake']))\n",
    "        model2_models[name]=strain"
   ]
  },
  {
   "cell_type": "code",
   "execution_count": 11,
   "id": "9f6466fb",
   "metadata": {},
   "outputs": [
    {
     "name": "stdout",
     "output_type": "stream",
     "text": [
      "{'C730_0-14': <Model SC73030_From_SCO at 0x1a7d498a0a0>, 'C730_7-14': <Model SC73030_From_SCO at 0x1a7eda0dd30>, 'C730_12-14': <Model SC73030_From_SCO at 0x1a7edeaf820>, 'C730_20-14': <Model SC73030_From_SCO at 0x1a7ee8bc940>, 'C730_0-25': <Model SC73030_From_SCO at 0x1a7ef2ef9d0>, 'C730_7-25': <Model SC73030_From_SCO at 0x1a7f0753c70>, 'C730_12-25': <Model SC73030_From_SCO at 0x1a7f075d340>, 'C730_20-25': <Model SC73030_From_SCO at 0x1a7f1ba7820>, 'C730_0-38': <Model SC73030_From_SCO at 0x1a7f25e7a00>, 'C730_7-38': <Model SC73030_From_SCO at 0x1a7f301ab50>, 'C730_12-38': <Model SC73030_From_SCO at 0x1a7f3a4cdf0>, 'C730_20-38': <Model SC73030_From_SCO at 0x1a7f447fa00>, 'C730_0-49': <Model SC73030_From_SCO at 0x1a7f4eb1ee0>, 'C730_7-49': <Model SC73030_From_SCO at 0x1a7f58e4d30>, 'C730_12-49': <Model SC73030_From_SCO at 0x1a7f63214f0>, 'C730_20-49': <Model SC73030_From_SCO at 0x1a7f6d53100>, 'C730_0-90': <Model SC73030_From_SCO at 0x1a7f7783850>, 'C730_7-90': <Model SC73030_From_SCO at 0x1a7f81b6af0>, 'C730_12-90': <Model SC73030_From_SCO at 0x1a7f8be9b50>, 'C730_20-90': <Model SC73030_From_SCO at 0x1a7f961cdc0>}\n"
     ]
    }
   ],
   "source": [
    "print(model2_models)"
   ]
  },
  {
   "cell_type": "code",
   "execution_count": 12,
   "id": "2aee9f19",
   "metadata": {},
   "outputs": [],
   "source": [
    "mutant1_dfs = []"
   ]
  },
  {
   "cell_type": "code",
   "execution_count": 13,
   "id": "426d1425",
   "metadata": {},
   "outputs": [
    {
     "name": "stdout",
     "output_type": "stream",
     "text": [
      "Infeasible C730_12-90\n",
      "Infeasible C730_20-90\n"
     ]
    }
   ],
   "source": [
    "for i, model_id in enumerate(mutant1_models):\n",
    "    model = mutant1_models[model_id]\n",
    "    y = 'mutant1'+'_'+model_id+'.'\n",
    "    x = 'solution'+str(i)\n",
    "    try:\n",
    "        x = cobra.flux_analysis.pfba(model).to_frame()\n",
    "        x = x.add_prefix(y)\n",
    "        x = x.reset_index()\n",
    "        mutant1_dfs.append(x)\n",
    "    except:\n",
    "        print(\"Infeasible\",model_id)"
   ]
  },
  {
   "cell_type": "code",
   "execution_count": 14,
   "id": "e06a8d81",
   "metadata": {},
   "outputs": [],
   "source": [
    "model2_dfs = []"
   ]
  },
  {
   "cell_type": "code",
   "execution_count": 15,
   "id": "7dcec5f7",
   "metadata": {},
   "outputs": [],
   "source": [
    "for i, model_id in enumerate(model2_models):\n",
    "    model = model2_models[model_id]\n",
    "    y = 'model2'+'_'+model_id+'.'\n",
    "    x = 'solution'+str(i)\n",
    "    try:\n",
    "        x = cobra.flux_analysis.pfba(model).to_frame()\n",
    "        x = x.add_prefix(y)\n",
    "        x = x.reset_index()\n",
    "        model2_dfs.append(x)\n",
    "    except:\n",
    "        print(\"Infeasible\",model_id)"
   ]
  },
  {
   "cell_type": "code",
   "execution_count": 16,
   "id": "9337da8c",
   "metadata": {},
   "outputs": [],
   "source": [
    "mutant1_results = reduce(lambda x,y: pd.merge(x,y,how='outer',on='index'),mutant1_dfs)"
   ]
  },
  {
   "cell_type": "code",
   "execution_count": 17,
   "id": "3a5b5b4d",
   "metadata": {},
   "outputs": [],
   "source": [
    "model2_results = reduce(lambda x,y: pd.merge(x,y,how='outer',on='index'),model2_dfs)"
   ]
  },
  {
   "cell_type": "code",
   "execution_count": 18,
   "id": "c0ce23f0",
   "metadata": {},
   "outputs": [],
   "source": [
    "mutant1_results.fillna('Absent',inplace=True)"
   ]
  },
  {
   "cell_type": "code",
   "execution_count": 19,
   "id": "7b4ae6f5",
   "metadata": {},
   "outputs": [],
   "source": [
    "model2_results.fillna('Absent',inplace=True)"
   ]
  },
  {
   "cell_type": "code",
   "execution_count": 20,
   "id": "ac2128da",
   "metadata": {},
   "outputs": [
    {
     "data": {
      "text/html": [
       "<div>\n",
       "<style scoped>\n",
       "    .dataframe tbody tr th:only-of-type {\n",
       "        vertical-align: middle;\n",
       "    }\n",
       "\n",
       "    .dataframe tbody tr th {\n",
       "        vertical-align: top;\n",
       "    }\n",
       "\n",
       "    .dataframe thead th {\n",
       "        text-align: right;\n",
       "    }\n",
       "</style>\n",
       "<table border=\"1\" class=\"dataframe\">\n",
       "  <thead>\n",
       "    <tr style=\"text-align: right;\">\n",
       "      <th></th>\n",
       "      <th>index</th>\n",
       "      <th>mutant1_C730_0-14.fluxes</th>\n",
       "      <th>mutant1_C730_0-14.reduced_costs</th>\n",
       "      <th>mutant1_C730_7-14.fluxes</th>\n",
       "      <th>mutant1_C730_7-14.reduced_costs</th>\n",
       "      <th>mutant1_C730_12-14.fluxes</th>\n",
       "      <th>mutant1_C730_12-14.reduced_costs</th>\n",
       "      <th>mutant1_C730_20-14.fluxes</th>\n",
       "      <th>mutant1_C730_20-14.reduced_costs</th>\n",
       "      <th>mutant1_C730_0-25.fluxes</th>\n",
       "      <th>...</th>\n",
       "      <th>mutant1_C730_7-49.fluxes</th>\n",
       "      <th>mutant1_C730_7-49.reduced_costs</th>\n",
       "      <th>mutant1_C730_12-49.fluxes</th>\n",
       "      <th>mutant1_C730_12-49.reduced_costs</th>\n",
       "      <th>mutant1_C730_20-49.fluxes</th>\n",
       "      <th>mutant1_C730_20-49.reduced_costs</th>\n",
       "      <th>mutant1_C730_0-90.fluxes</th>\n",
       "      <th>mutant1_C730_0-90.reduced_costs</th>\n",
       "      <th>mutant1_C730_7-90.fluxes</th>\n",
       "      <th>mutant1_C730_7-90.reduced_costs</th>\n",
       "    </tr>\n",
       "  </thead>\n",
       "  <tbody>\n",
       "    <tr>\n",
       "      <th>0</th>\n",
       "      <td>12DGR120tipp</td>\n",
       "      <td>0.0</td>\n",
       "      <td>156.0</td>\n",
       "      <td>0.0</td>\n",
       "      <td>-2.0</td>\n",
       "      <td>0.0</td>\n",
       "      <td>-2.0</td>\n",
       "      <td>0.0</td>\n",
       "      <td>-2.0</td>\n",
       "      <td>0.0</td>\n",
       "      <td>...</td>\n",
       "      <td>0.0</td>\n",
       "      <td>-2.0</td>\n",
       "      <td>0.0</td>\n",
       "      <td>-2.0</td>\n",
       "      <td>0.0</td>\n",
       "      <td>-2.0</td>\n",
       "      <td>0.0</td>\n",
       "      <td>-2.0</td>\n",
       "      <td>0.0</td>\n",
       "      <td>-2.0</td>\n",
       "    </tr>\n",
       "    <tr>\n",
       "      <th>1</th>\n",
       "      <td>12DGR140tipp</td>\n",
       "      <td>0.0</td>\n",
       "      <td>-2.0</td>\n",
       "      <td>0.0</td>\n",
       "      <td>-2.0</td>\n",
       "      <td>0.0</td>\n",
       "      <td>172.0</td>\n",
       "      <td>0.0</td>\n",
       "      <td>148.0</td>\n",
       "      <td>0.0</td>\n",
       "      <td>...</td>\n",
       "      <td>0.0</td>\n",
       "      <td>-2.0</td>\n",
       "      <td>0.0</td>\n",
       "      <td>-2.0</td>\n",
       "      <td>0.0</td>\n",
       "      <td>-2.0</td>\n",
       "      <td>0.0</td>\n",
       "      <td>-2.0</td>\n",
       "      <td>0.0</td>\n",
       "      <td>-2.0</td>\n",
       "    </tr>\n",
       "    <tr>\n",
       "      <th>2</th>\n",
       "      <td>12DGR141tipp</td>\n",
       "      <td>0.0</td>\n",
       "      <td>-2.0</td>\n",
       "      <td>0.0</td>\n",
       "      <td>-2.0</td>\n",
       "      <td>0.0</td>\n",
       "      <td>-2.0</td>\n",
       "      <td>0.0</td>\n",
       "      <td>-2.0</td>\n",
       "      <td>0.0</td>\n",
       "      <td>...</td>\n",
       "      <td>0.0</td>\n",
       "      <td>-2.0</td>\n",
       "      <td>0.0</td>\n",
       "      <td>-2.0</td>\n",
       "      <td>0.0</td>\n",
       "      <td>142.5</td>\n",
       "      <td>0.0</td>\n",
       "      <td>-2.0</td>\n",
       "      <td>0.0</td>\n",
       "      <td>-2.0</td>\n",
       "    </tr>\n",
       "    <tr>\n",
       "      <th>3</th>\n",
       "      <td>12DGR160tipp</td>\n",
       "      <td>0.0</td>\n",
       "      <td>-2.0</td>\n",
       "      <td>0.0</td>\n",
       "      <td>-2.0</td>\n",
       "      <td>0.0</td>\n",
       "      <td>-2.0</td>\n",
       "      <td>0.0</td>\n",
       "      <td>-2.0</td>\n",
       "      <td>0.0</td>\n",
       "      <td>...</td>\n",
       "      <td>0.0</td>\n",
       "      <td>-2.0</td>\n",
       "      <td>0.0</td>\n",
       "      <td>-2.0</td>\n",
       "      <td>0.0</td>\n",
       "      <td>-2.0</td>\n",
       "      <td>0.0</td>\n",
       "      <td>-2.0</td>\n",
       "      <td>0.0</td>\n",
       "      <td>-2.0</td>\n",
       "    </tr>\n",
       "    <tr>\n",
       "      <th>4</th>\n",
       "      <td>12DGR161tipp</td>\n",
       "      <td>0.0</td>\n",
       "      <td>-2.0</td>\n",
       "      <td>0.0</td>\n",
       "      <td>-2.0</td>\n",
       "      <td>0.0</td>\n",
       "      <td>-2.0</td>\n",
       "      <td>0.0</td>\n",
       "      <td>-2.0</td>\n",
       "      <td>0.0</td>\n",
       "      <td>...</td>\n",
       "      <td>0.0</td>\n",
       "      <td>-2.0</td>\n",
       "      <td>0.0</td>\n",
       "      <td>-2.0</td>\n",
       "      <td>0.0</td>\n",
       "      <td>-2.0</td>\n",
       "      <td>0.0</td>\n",
       "      <td>-2.0</td>\n",
       "      <td>0.0</td>\n",
       "      <td>-2.0</td>\n",
       "    </tr>\n",
       "  </tbody>\n",
       "</table>\n",
       "<p>5 rows × 37 columns</p>\n",
       "</div>"
      ],
      "text/plain": [
       "          index  mutant1_C730_0-14.fluxes  mutant1_C730_0-14.reduced_costs  \\\n",
       "0  12DGR120tipp                       0.0                            156.0   \n",
       "1  12DGR140tipp                       0.0                             -2.0   \n",
       "2  12DGR141tipp                       0.0                             -2.0   \n",
       "3  12DGR160tipp                       0.0                             -2.0   \n",
       "4  12DGR161tipp                       0.0                             -2.0   \n",
       "\n",
       "   mutant1_C730_7-14.fluxes  mutant1_C730_7-14.reduced_costs  \\\n",
       "0                       0.0                             -2.0   \n",
       "1                       0.0                             -2.0   \n",
       "2                       0.0                             -2.0   \n",
       "3                       0.0                             -2.0   \n",
       "4                       0.0                             -2.0   \n",
       "\n",
       "   mutant1_C730_12-14.fluxes  mutant1_C730_12-14.reduced_costs  \\\n",
       "0                        0.0                              -2.0   \n",
       "1                        0.0                             172.0   \n",
       "2                        0.0                              -2.0   \n",
       "3                        0.0                              -2.0   \n",
       "4                        0.0                              -2.0   \n",
       "\n",
       "   mutant1_C730_20-14.fluxes  mutant1_C730_20-14.reduced_costs  \\\n",
       "0                        0.0                              -2.0   \n",
       "1                        0.0                             148.0   \n",
       "2                        0.0                              -2.0   \n",
       "3                        0.0                              -2.0   \n",
       "4                        0.0                              -2.0   \n",
       "\n",
       "   mutant1_C730_0-25.fluxes  ...  mutant1_C730_7-49.fluxes  \\\n",
       "0                       0.0  ...                       0.0   \n",
       "1                       0.0  ...                       0.0   \n",
       "2                       0.0  ...                       0.0   \n",
       "3                       0.0  ...                       0.0   \n",
       "4                       0.0  ...                       0.0   \n",
       "\n",
       "   mutant1_C730_7-49.reduced_costs  mutant1_C730_12-49.fluxes  \\\n",
       "0                             -2.0                        0.0   \n",
       "1                             -2.0                        0.0   \n",
       "2                             -2.0                        0.0   \n",
       "3                             -2.0                        0.0   \n",
       "4                             -2.0                        0.0   \n",
       "\n",
       "   mutant1_C730_12-49.reduced_costs  mutant1_C730_20-49.fluxes  \\\n",
       "0                              -2.0                        0.0   \n",
       "1                              -2.0                        0.0   \n",
       "2                              -2.0                        0.0   \n",
       "3                              -2.0                        0.0   \n",
       "4                              -2.0                        0.0   \n",
       "\n",
       "   mutant1_C730_20-49.reduced_costs  mutant1_C730_0-90.fluxes  \\\n",
       "0                              -2.0                       0.0   \n",
       "1                              -2.0                       0.0   \n",
       "2                             142.5                       0.0   \n",
       "3                              -2.0                       0.0   \n",
       "4                              -2.0                       0.0   \n",
       "\n",
       "   mutant1_C730_0-90.reduced_costs  mutant1_C730_7-90.fluxes  \\\n",
       "0                             -2.0                       0.0   \n",
       "1                             -2.0                       0.0   \n",
       "2                             -2.0                       0.0   \n",
       "3                             -2.0                       0.0   \n",
       "4                             -2.0                       0.0   \n",
       "\n",
       "   mutant1_C730_7-90.reduced_costs  \n",
       "0                             -2.0  \n",
       "1                             -2.0  \n",
       "2                             -2.0  \n",
       "3                             -2.0  \n",
       "4                             -2.0  \n",
       "\n",
       "[5 rows x 37 columns]"
      ]
     },
     "execution_count": 20,
     "metadata": {},
     "output_type": "execute_result"
    }
   ],
   "source": [
    "mutant1_results.head()"
   ]
  },
  {
   "cell_type": "code",
   "execution_count": 21,
   "id": "a969d1e7",
   "metadata": {},
   "outputs": [
    {
     "data": {
      "text/html": [
       "<div>\n",
       "<style scoped>\n",
       "    .dataframe tbody tr th:only-of-type {\n",
       "        vertical-align: middle;\n",
       "    }\n",
       "\n",
       "    .dataframe tbody tr th {\n",
       "        vertical-align: top;\n",
       "    }\n",
       "\n",
       "    .dataframe thead th {\n",
       "        text-align: right;\n",
       "    }\n",
       "</style>\n",
       "<table border=\"1\" class=\"dataframe\">\n",
       "  <thead>\n",
       "    <tr style=\"text-align: right;\">\n",
       "      <th></th>\n",
       "      <th>index</th>\n",
       "      <th>model2_C730_0-14.fluxes</th>\n",
       "      <th>model2_C730_0-14.reduced_costs</th>\n",
       "      <th>model2_C730_7-14.fluxes</th>\n",
       "      <th>model2_C730_7-14.reduced_costs</th>\n",
       "      <th>model2_C730_12-14.fluxes</th>\n",
       "      <th>model2_C730_12-14.reduced_costs</th>\n",
       "      <th>model2_C730_20-14.fluxes</th>\n",
       "      <th>model2_C730_20-14.reduced_costs</th>\n",
       "      <th>model2_C730_0-25.fluxes</th>\n",
       "      <th>...</th>\n",
       "      <th>model2_C730_20-49.fluxes</th>\n",
       "      <th>model2_C730_20-49.reduced_costs</th>\n",
       "      <th>model2_C730_0-90.fluxes</th>\n",
       "      <th>model2_C730_0-90.reduced_costs</th>\n",
       "      <th>model2_C730_7-90.fluxes</th>\n",
       "      <th>model2_C730_7-90.reduced_costs</th>\n",
       "      <th>model2_C730_12-90.fluxes</th>\n",
       "      <th>model2_C730_12-90.reduced_costs</th>\n",
       "      <th>model2_C730_20-90.fluxes</th>\n",
       "      <th>model2_C730_20-90.reduced_costs</th>\n",
       "    </tr>\n",
       "  </thead>\n",
       "  <tbody>\n",
       "    <tr>\n",
       "      <th>0</th>\n",
       "      <td>ACTS1</td>\n",
       "      <td>0.0</td>\n",
       "      <td>2.0</td>\n",
       "      <td>0.0</td>\n",
       "      <td>-2.0</td>\n",
       "      <td>0.0</td>\n",
       "      <td>2.0</td>\n",
       "      <td>0.0</td>\n",
       "      <td>-2.0</td>\n",
       "      <td>0.0</td>\n",
       "      <td>...</td>\n",
       "      <td>0.0</td>\n",
       "      <td>-2.0</td>\n",
       "      <td>0.0</td>\n",
       "      <td>2.0</td>\n",
       "      <td>0.0</td>\n",
       "      <td>2.000000</td>\n",
       "      <td>0.0</td>\n",
       "      <td>2.000000</td>\n",
       "      <td>0.0</td>\n",
       "      <td>2.000000</td>\n",
       "    </tr>\n",
       "    <tr>\n",
       "      <th>1</th>\n",
       "      <td>ACTS10</td>\n",
       "      <td>0.0</td>\n",
       "      <td>432.0</td>\n",
       "      <td>0.0</td>\n",
       "      <td>-2.0</td>\n",
       "      <td>0.0</td>\n",
       "      <td>432.0</td>\n",
       "      <td>0.0</td>\n",
       "      <td>442.0</td>\n",
       "      <td>0.0</td>\n",
       "      <td>...</td>\n",
       "      <td>0.0</td>\n",
       "      <td>87.0</td>\n",
       "      <td>0.0</td>\n",
       "      <td>-2.0</td>\n",
       "      <td>0.0</td>\n",
       "      <td>31.757576</td>\n",
       "      <td>0.0</td>\n",
       "      <td>31.757576</td>\n",
       "      <td>0.0</td>\n",
       "      <td>210.666667</td>\n",
       "    </tr>\n",
       "    <tr>\n",
       "      <th>2</th>\n",
       "      <td>ACTS11</td>\n",
       "      <td>0.0</td>\n",
       "      <td>8.0</td>\n",
       "      <td>0.0</td>\n",
       "      <td>-2.0</td>\n",
       "      <td>0.0</td>\n",
       "      <td>8.0</td>\n",
       "      <td>0.0</td>\n",
       "      <td>-2.0</td>\n",
       "      <td>0.0</td>\n",
       "      <td>...</td>\n",
       "      <td>0.0</td>\n",
       "      <td>-2.0</td>\n",
       "      <td>0.0</td>\n",
       "      <td>8.0</td>\n",
       "      <td>0.0</td>\n",
       "      <td>8.000000</td>\n",
       "      <td>0.0</td>\n",
       "      <td>8.000000</td>\n",
       "      <td>0.0</td>\n",
       "      <td>8.000000</td>\n",
       "    </tr>\n",
       "    <tr>\n",
       "      <th>3</th>\n",
       "      <td>ACTS12</td>\n",
       "      <td>0.0</td>\n",
       "      <td>4.0</td>\n",
       "      <td>0.0</td>\n",
       "      <td>4.0</td>\n",
       "      <td>0.0</td>\n",
       "      <td>4.0</td>\n",
       "      <td>0.0</td>\n",
       "      <td>4.0</td>\n",
       "      <td>0.0</td>\n",
       "      <td>...</td>\n",
       "      <td>0.0</td>\n",
       "      <td>-2.0</td>\n",
       "      <td>0.0</td>\n",
       "      <td>4.0</td>\n",
       "      <td>0.0</td>\n",
       "      <td>4.000000</td>\n",
       "      <td>0.0</td>\n",
       "      <td>4.000000</td>\n",
       "      <td>0.0</td>\n",
       "      <td>4.000000</td>\n",
       "    </tr>\n",
       "    <tr>\n",
       "      <th>4</th>\n",
       "      <td>ACTS15</td>\n",
       "      <td>0.0</td>\n",
       "      <td>432.0</td>\n",
       "      <td>0.0</td>\n",
       "      <td>-2.0</td>\n",
       "      <td>0.0</td>\n",
       "      <td>432.0</td>\n",
       "      <td>0.0</td>\n",
       "      <td>432.0</td>\n",
       "      <td>0.0</td>\n",
       "      <td>...</td>\n",
       "      <td>0.0</td>\n",
       "      <td>71.0</td>\n",
       "      <td>0.0</td>\n",
       "      <td>-2.0</td>\n",
       "      <td>0.0</td>\n",
       "      <td>31.757576</td>\n",
       "      <td>0.0</td>\n",
       "      <td>31.757576</td>\n",
       "      <td>0.0</td>\n",
       "      <td>210.666667</td>\n",
       "    </tr>\n",
       "  </tbody>\n",
       "</table>\n",
       "<p>5 rows × 41 columns</p>\n",
       "</div>"
      ],
      "text/plain": [
       "    index  model2_C730_0-14.fluxes  model2_C730_0-14.reduced_costs  \\\n",
       "0   ACTS1                      0.0                             2.0   \n",
       "1  ACTS10                      0.0                           432.0   \n",
       "2  ACTS11                      0.0                             8.0   \n",
       "3  ACTS12                      0.0                             4.0   \n",
       "4  ACTS15                      0.0                           432.0   \n",
       "\n",
       "   model2_C730_7-14.fluxes  model2_C730_7-14.reduced_costs  \\\n",
       "0                      0.0                            -2.0   \n",
       "1                      0.0                            -2.0   \n",
       "2                      0.0                            -2.0   \n",
       "3                      0.0                             4.0   \n",
       "4                      0.0                            -2.0   \n",
       "\n",
       "   model2_C730_12-14.fluxes  model2_C730_12-14.reduced_costs  \\\n",
       "0                       0.0                              2.0   \n",
       "1                       0.0                            432.0   \n",
       "2                       0.0                              8.0   \n",
       "3                       0.0                              4.0   \n",
       "4                       0.0                            432.0   \n",
       "\n",
       "   model2_C730_20-14.fluxes  model2_C730_20-14.reduced_costs  \\\n",
       "0                       0.0                             -2.0   \n",
       "1                       0.0                            442.0   \n",
       "2                       0.0                             -2.0   \n",
       "3                       0.0                              4.0   \n",
       "4                       0.0                            432.0   \n",
       "\n",
       "   model2_C730_0-25.fluxes  ...  model2_C730_20-49.fluxes  \\\n",
       "0                      0.0  ...                       0.0   \n",
       "1                      0.0  ...                       0.0   \n",
       "2                      0.0  ...                       0.0   \n",
       "3                      0.0  ...                       0.0   \n",
       "4                      0.0  ...                       0.0   \n",
       "\n",
       "   model2_C730_20-49.reduced_costs  model2_C730_0-90.fluxes  \\\n",
       "0                             -2.0                      0.0   \n",
       "1                             87.0                      0.0   \n",
       "2                             -2.0                      0.0   \n",
       "3                             -2.0                      0.0   \n",
       "4                             71.0                      0.0   \n",
       "\n",
       "   model2_C730_0-90.reduced_costs  model2_C730_7-90.fluxes  \\\n",
       "0                             2.0                      0.0   \n",
       "1                            -2.0                      0.0   \n",
       "2                             8.0                      0.0   \n",
       "3                             4.0                      0.0   \n",
       "4                            -2.0                      0.0   \n",
       "\n",
       "   model2_C730_7-90.reduced_costs  model2_C730_12-90.fluxes  \\\n",
       "0                        2.000000                       0.0   \n",
       "1                       31.757576                       0.0   \n",
       "2                        8.000000                       0.0   \n",
       "3                        4.000000                       0.0   \n",
       "4                       31.757576                       0.0   \n",
       "\n",
       "   model2_C730_12-90.reduced_costs  model2_C730_20-90.fluxes  \\\n",
       "0                         2.000000                       0.0   \n",
       "1                        31.757576                       0.0   \n",
       "2                         8.000000                       0.0   \n",
       "3                         4.000000                       0.0   \n",
       "4                        31.757576                       0.0   \n",
       "\n",
       "   model2_C730_20-90.reduced_costs  \n",
       "0                         2.000000  \n",
       "1                       210.666667  \n",
       "2                         8.000000  \n",
       "3                         4.000000  \n",
       "4                       210.666667  \n",
       "\n",
       "[5 rows x 41 columns]"
      ]
     },
     "execution_count": 21,
     "metadata": {},
     "output_type": "execute_result"
    }
   ],
   "source": [
    "model2_results.head()"
   ]
  },
  {
   "cell_type": "code",
   "execution_count": 22,
   "id": "95f8f1fb",
   "metadata": {},
   "outputs": [
    {
     "data": {
      "text/plain": [
       "'1,2-Diacyl-sn-glycerol (didodecanoyl, n-C12:0) --> 1,2-Diacyl-sn-glycerol (didodecanoyl, n-C12:0)'"
      ]
     },
     "execution_count": 22,
     "metadata": {},
     "output_type": "execute_result"
    }
   ],
   "source": [
    "mutant1.reactions.get_by_id('12DGR120tipp').build_reaction_string(use_metabolite_names = True)"
   ]
  },
  {
   "cell_type": "code",
   "execution_count": 23,
   "id": "647dcd2e",
   "metadata": {},
   "outputs": [
    {
     "data": {
      "text/plain": [
       "'acyl carrier protein (specific to actinorhodin PKS) + Malonyl-CoA <=> Coenzyme A + Malonyl-[acyl-carrier protein] (specific to actinorhodin PKS)'"
      ]
     },
     "execution_count": 23,
     "metadata": {},
     "output_type": "execute_result"
    }
   ],
   "source": [
    "model2.reactions.get_by_id('ACTS1').build_reaction_string(use_metabolite_names = True)"
   ]
  },
  {
   "cell_type": "code",
   "execution_count": 24,
   "id": "3e28a171",
   "metadata": {},
   "outputs": [],
   "source": [
    "mutant1_reactions = {}"
   ]
  },
  {
   "cell_type": "code",
   "execution_count": 25,
   "id": "348763d4",
   "metadata": {},
   "outputs": [],
   "source": [
    "for i in mutant1_results.index:\n",
    "    x = mutant1_results.loc[i,'index']\n",
    "    x_rea = mutant1.reactions.get_by_id(x).build_reaction_string(use_metabolite_names = False)\n",
    "    mutant1_reactions[x] = x_rea"
   ]
  },
  {
   "cell_type": "code",
   "execution_count": 26,
   "id": "745a7f06",
   "metadata": {},
   "outputs": [],
   "source": [
    "model2_reactions = {}"
   ]
  },
  {
   "cell_type": "code",
   "execution_count": 27,
   "id": "b4f3f986",
   "metadata": {},
   "outputs": [],
   "source": [
    "for i in model2_results.index:\n",
    "    x = model2_results.loc[i,'index']\n",
    "    x_rea = model2.reactions.get_by_id(x).build_reaction_string(use_metabolite_names = False)\n",
    "    model2_reactions[x] = x_rea"
   ]
  },
  {
   "cell_type": "code",
   "execution_count": 28,
   "id": "813d3cd1",
   "metadata": {},
   "outputs": [],
   "source": [
    "mutant1_reactions_df = pd.DataFrame(mutant1_reactions.items(), columns=['index', 'Reaction with RID'])"
   ]
  },
  {
   "cell_type": "code",
   "execution_count": 29,
   "id": "56f8a931",
   "metadata": {},
   "outputs": [],
   "source": [
    "model2_reactions_df = pd.DataFrame(model2_reactions.items(), columns=['index', 'Reaction with RID'])"
   ]
  },
  {
   "cell_type": "code",
   "execution_count": 30,
   "id": "11223eab",
   "metadata": {},
   "outputs": [],
   "source": [
    "mutant1_reactions1 = {}"
   ]
  },
  {
   "cell_type": "code",
   "execution_count": 31,
   "id": "9903a5e7",
   "metadata": {},
   "outputs": [],
   "source": [
    "for i in mutant1_results.index:\n",
    "    x = mutant1_results.loc[i,'index']\n",
    "    x_rea = mutant1.reactions.get_by_id(x).build_reaction_string(use_metabolite_names = True)\n",
    "    mutant1_reactions1[x] = x_rea"
   ]
  },
  {
   "cell_type": "code",
   "execution_count": 32,
   "id": "950803ed",
   "metadata": {},
   "outputs": [],
   "source": [
    "model2_reactions1 = {}"
   ]
  },
  {
   "cell_type": "code",
   "execution_count": 33,
   "id": "709eb833",
   "metadata": {},
   "outputs": [],
   "source": [
    "for i in model2_results.index:\n",
    "    x = model2_results.loc[i,'index']\n",
    "    x_rea = model2.reactions.get_by_id(x).build_reaction_string(use_metabolite_names = True)\n",
    "    model2_reactions1[x] = x_rea"
   ]
  },
  {
   "cell_type": "code",
   "execution_count": 34,
   "id": "4c6a5c35",
   "metadata": {},
   "outputs": [],
   "source": [
    "mutant1_reactions1_df = pd.DataFrame(mutant1_reactions1.items(), columns=['index', 'Reaction with Rname'])"
   ]
  },
  {
   "cell_type": "code",
   "execution_count": 35,
   "id": "3b3892bd",
   "metadata": {},
   "outputs": [],
   "source": [
    "model2_reactions1_df = pd.DataFrame(model2_reactions1.items(), columns=['index', 'Reaction with Rname'])"
   ]
  },
  {
   "cell_type": "code",
   "execution_count": 36,
   "id": "cd48e128",
   "metadata": {},
   "outputs": [
    {
     "data": {
      "text/html": [
       "<div>\n",
       "<style scoped>\n",
       "    .dataframe tbody tr th:only-of-type {\n",
       "        vertical-align: middle;\n",
       "    }\n",
       "\n",
       "    .dataframe tbody tr th {\n",
       "        vertical-align: top;\n",
       "    }\n",
       "\n",
       "    .dataframe thead th {\n",
       "        text-align: right;\n",
       "    }\n",
       "</style>\n",
       "<table border=\"1\" class=\"dataframe\">\n",
       "  <thead>\n",
       "    <tr style=\"text-align: right;\">\n",
       "      <th></th>\n",
       "      <th>index</th>\n",
       "      <th>Reaction with Rname</th>\n",
       "    </tr>\n",
       "  </thead>\n",
       "  <tbody>\n",
       "    <tr>\n",
       "      <th>0</th>\n",
       "      <td>12DGR120tipp</td>\n",
       "      <td>1,2-Diacyl-sn-glycerol (didodecanoyl, n-C12:0)...</td>\n",
       "    </tr>\n",
       "    <tr>\n",
       "      <th>1</th>\n",
       "      <td>12DGR140tipp</td>\n",
       "      <td>1,2-Diacyl-sn-glycerol (ditetradecanoyl, n-C14...</td>\n",
       "    </tr>\n",
       "    <tr>\n",
       "      <th>2</th>\n",
       "      <td>12DGR141tipp</td>\n",
       "      <td>1,2-Diacyl-sn-glycerol (ditetradec-7-enoyl, n-...</td>\n",
       "    </tr>\n",
       "    <tr>\n",
       "      <th>3</th>\n",
       "      <td>12DGR160tipp</td>\n",
       "      <td>1,2-Diacyl-sn-glycerol (dihexadecanoyl, n-C16:...</td>\n",
       "    </tr>\n",
       "    <tr>\n",
       "      <th>4</th>\n",
       "      <td>12DGR161tipp</td>\n",
       "      <td>1,2-Diacyl-sn-glycerol (dihexadec-9-enoyl, n-C...</td>\n",
       "    </tr>\n",
       "  </tbody>\n",
       "</table>\n",
       "</div>"
      ],
      "text/plain": [
       "          index                                Reaction with Rname\n",
       "0  12DGR120tipp  1,2-Diacyl-sn-glycerol (didodecanoyl, n-C12:0)...\n",
       "1  12DGR140tipp  1,2-Diacyl-sn-glycerol (ditetradecanoyl, n-C14...\n",
       "2  12DGR141tipp  1,2-Diacyl-sn-glycerol (ditetradec-7-enoyl, n-...\n",
       "3  12DGR160tipp  1,2-Diacyl-sn-glycerol (dihexadecanoyl, n-C16:...\n",
       "4  12DGR161tipp  1,2-Diacyl-sn-glycerol (dihexadec-9-enoyl, n-C..."
      ]
     },
     "execution_count": 36,
     "metadata": {},
     "output_type": "execute_result"
    }
   ],
   "source": [
    "mutant1_reactions1_df.head()"
   ]
  },
  {
   "cell_type": "code",
   "execution_count": 37,
   "id": "a275b208",
   "metadata": {},
   "outputs": [
    {
     "data": {
      "text/html": [
       "<div>\n",
       "<style scoped>\n",
       "    .dataframe tbody tr th:only-of-type {\n",
       "        vertical-align: middle;\n",
       "    }\n",
       "\n",
       "    .dataframe tbody tr th {\n",
       "        vertical-align: top;\n",
       "    }\n",
       "\n",
       "    .dataframe thead th {\n",
       "        text-align: right;\n",
       "    }\n",
       "</style>\n",
       "<table border=\"1\" class=\"dataframe\">\n",
       "  <thead>\n",
       "    <tr style=\"text-align: right;\">\n",
       "      <th></th>\n",
       "      <th>index</th>\n",
       "      <th>Reaction with Rname</th>\n",
       "    </tr>\n",
       "  </thead>\n",
       "  <tbody>\n",
       "    <tr>\n",
       "      <th>0</th>\n",
       "      <td>ACTS1</td>\n",
       "      <td>acyl carrier protein (specific to actinorhodin...</td>\n",
       "    </tr>\n",
       "    <tr>\n",
       "      <th>1</th>\n",
       "      <td>ACTS10</td>\n",
       "      <td>7,9,12-Octaketide intermediate 1 + H+ + Nicoti...</td>\n",
       "    </tr>\n",
       "    <tr>\n",
       "      <th>2</th>\n",
       "      <td>ACTS11</td>\n",
       "      <td>7,9,12-Octaketide intermediate 2 --&gt; 7,9,12-Oc...</td>\n",
       "    </tr>\n",
       "    <tr>\n",
       "      <th>3</th>\n",
       "      <td>ACTS12</td>\n",
       "      <td>7,9,12-Octaketide intermediate 3 --&gt; Octaketid...</td>\n",
       "    </tr>\n",
       "    <tr>\n",
       "      <th>4</th>\n",
       "      <td>ACTS15</td>\n",
       "      <td>(S)-DNPA + H+ + Nicotinamide adenine dinucleot...</td>\n",
       "    </tr>\n",
       "  </tbody>\n",
       "</table>\n",
       "</div>"
      ],
      "text/plain": [
       "    index                                Reaction with Rname\n",
       "0   ACTS1  acyl carrier protein (specific to actinorhodin...\n",
       "1  ACTS10  7,9,12-Octaketide intermediate 1 + H+ + Nicoti...\n",
       "2  ACTS11  7,9,12-Octaketide intermediate 2 --> 7,9,12-Oc...\n",
       "3  ACTS12  7,9,12-Octaketide intermediate 3 --> Octaketid...\n",
       "4  ACTS15  (S)-DNPA + H+ + Nicotinamide adenine dinucleot..."
      ]
     },
     "execution_count": 37,
     "metadata": {},
     "output_type": "execute_result"
    }
   ],
   "source": [
    "model2_reactions1_df.head()"
   ]
  },
  {
   "cell_type": "code",
   "execution_count": 38,
   "id": "fc189826",
   "metadata": {},
   "outputs": [],
   "source": [
    "temp = pd.merge(mutant1_results,mutant1_reactions_df, how='outer',on='index')\n",
    "temp1 = pd.merge(temp,mutant1_reactions1_df,how='outer',on='index')"
   ]
  },
  {
   "cell_type": "code",
   "execution_count": 39,
   "id": "4a1f5b5c",
   "metadata": {},
   "outputs": [],
   "source": [
    "mutant1_results = temp1"
   ]
  },
  {
   "cell_type": "code",
   "execution_count": 40,
   "id": "40104319",
   "metadata": {},
   "outputs": [],
   "source": [
    "#mutant1_results.to_excel('Mutant1_Fluxes.xlsx')"
   ]
  },
  {
   "cell_type": "code",
   "execution_count": 41,
   "id": "4d5ac7b5",
   "metadata": {},
   "outputs": [],
   "source": [
    "temp = pd.merge(model2_results,model2_reactions_df, how='outer',on='index')\n",
    "temp1 = pd.merge(temp,model2_reactions1_df,how='outer',on='index')"
   ]
  },
  {
   "cell_type": "code",
   "execution_count": 42,
   "id": "4fcbf298",
   "metadata": {},
   "outputs": [],
   "source": [
    "model2_results = temp1"
   ]
  },
  {
   "cell_type": "code",
   "execution_count": 43,
   "id": "78906ccc",
   "metadata": {},
   "outputs": [],
   "source": [
    "model2_results.to_excel('Model2_Fluxes.xlsx')"
   ]
  },
  {
   "cell_type": "code",
   "execution_count": 44,
   "id": "e98e20f2",
   "metadata": {},
   "outputs": [
    {
     "data": {
      "text/html": [
       "<div>\n",
       "<style scoped>\n",
       "    .dataframe tbody tr th:only-of-type {\n",
       "        vertical-align: middle;\n",
       "    }\n",
       "\n",
       "    .dataframe tbody tr th {\n",
       "        vertical-align: top;\n",
       "    }\n",
       "\n",
       "    .dataframe thead th {\n",
       "        text-align: right;\n",
       "    }\n",
       "</style>\n",
       "<table border=\"1\" class=\"dataframe\">\n",
       "  <thead>\n",
       "    <tr style=\"text-align: right;\">\n",
       "      <th></th>\n",
       "      <th>index</th>\n",
       "      <th>model2_C730_0-14.fluxes</th>\n",
       "      <th>model2_C730_0-14.reduced_costs</th>\n",
       "      <th>model2_C730_7-14.fluxes</th>\n",
       "      <th>model2_C730_7-14.reduced_costs</th>\n",
       "      <th>model2_C730_12-14.fluxes</th>\n",
       "      <th>model2_C730_12-14.reduced_costs</th>\n",
       "      <th>model2_C730_20-14.fluxes</th>\n",
       "      <th>model2_C730_20-14.reduced_costs</th>\n",
       "      <th>model2_C730_0-25.fluxes</th>\n",
       "      <th>...</th>\n",
       "      <th>model2_C730_0-90.fluxes</th>\n",
       "      <th>model2_C730_0-90.reduced_costs</th>\n",
       "      <th>model2_C730_7-90.fluxes</th>\n",
       "      <th>model2_C730_7-90.reduced_costs</th>\n",
       "      <th>model2_C730_12-90.fluxes</th>\n",
       "      <th>model2_C730_12-90.reduced_costs</th>\n",
       "      <th>model2_C730_20-90.fluxes</th>\n",
       "      <th>model2_C730_20-90.reduced_costs</th>\n",
       "      <th>Reaction with RID</th>\n",
       "      <th>Reaction with Rname</th>\n",
       "    </tr>\n",
       "  </thead>\n",
       "  <tbody>\n",
       "    <tr>\n",
       "      <th>0</th>\n",
       "      <td>ACTS1</td>\n",
       "      <td>0.0</td>\n",
       "      <td>2.0</td>\n",
       "      <td>0.0</td>\n",
       "      <td>-2.0</td>\n",
       "      <td>0.0</td>\n",
       "      <td>2.0</td>\n",
       "      <td>0.0</td>\n",
       "      <td>-2.0</td>\n",
       "      <td>0.0</td>\n",
       "      <td>...</td>\n",
       "      <td>0.0</td>\n",
       "      <td>2.0</td>\n",
       "      <td>0.0</td>\n",
       "      <td>2.000000</td>\n",
       "      <td>0.0</td>\n",
       "      <td>2.000000</td>\n",
       "      <td>0.0</td>\n",
       "      <td>2.000000</td>\n",
       "      <td>ACPact_c + malcoa_c &lt;=&gt; coa_c + malACPact_c</td>\n",
       "      <td>acyl carrier protein (specific to actinorhodin...</td>\n",
       "    </tr>\n",
       "    <tr>\n",
       "      <th>1</th>\n",
       "      <td>ACTS10</td>\n",
       "      <td>0.0</td>\n",
       "      <td>432.0</td>\n",
       "      <td>0.0</td>\n",
       "      <td>-2.0</td>\n",
       "      <td>0.0</td>\n",
       "      <td>432.0</td>\n",
       "      <td>0.0</td>\n",
       "      <td>442.0</td>\n",
       "      <td>0.0</td>\n",
       "      <td>...</td>\n",
       "      <td>0.0</td>\n",
       "      <td>-2.0</td>\n",
       "      <td>0.0</td>\n",
       "      <td>31.757576</td>\n",
       "      <td>0.0</td>\n",
       "      <td>31.757576</td>\n",
       "      <td>0.0</td>\n",
       "      <td>210.666667</td>\n",
       "      <td>actint1ACPact_c + h_c + nadph_c --&gt; actint2ACP...</td>\n",
       "      <td>7,9,12-Octaketide intermediate 1 + H+ + Nicoti...</td>\n",
       "    </tr>\n",
       "    <tr>\n",
       "      <th>2</th>\n",
       "      <td>ACTS11</td>\n",
       "      <td>0.0</td>\n",
       "      <td>8.0</td>\n",
       "      <td>0.0</td>\n",
       "      <td>-2.0</td>\n",
       "      <td>0.0</td>\n",
       "      <td>8.0</td>\n",
       "      <td>0.0</td>\n",
       "      <td>-2.0</td>\n",
       "      <td>0.0</td>\n",
       "      <td>...</td>\n",
       "      <td>0.0</td>\n",
       "      <td>8.0</td>\n",
       "      <td>0.0</td>\n",
       "      <td>8.000000</td>\n",
       "      <td>0.0</td>\n",
       "      <td>8.000000</td>\n",
       "      <td>0.0</td>\n",
       "      <td>8.000000</td>\n",
       "      <td>actint2ACPact_c --&gt; actint3ACPact_c + 2.0 h2o_c</td>\n",
       "      <td>7,9,12-Octaketide intermediate 2 --&gt; 7,9,12-Oc...</td>\n",
       "    </tr>\n",
       "    <tr>\n",
       "      <th>3</th>\n",
       "      <td>ACTS12</td>\n",
       "      <td>0.0</td>\n",
       "      <td>4.0</td>\n",
       "      <td>0.0</td>\n",
       "      <td>4.0</td>\n",
       "      <td>0.0</td>\n",
       "      <td>4.0</td>\n",
       "      <td>0.0</td>\n",
       "      <td>4.0</td>\n",
       "      <td>0.0</td>\n",
       "      <td>...</td>\n",
       "      <td>0.0</td>\n",
       "      <td>4.0</td>\n",
       "      <td>0.0</td>\n",
       "      <td>4.000000</td>\n",
       "      <td>0.0</td>\n",
       "      <td>4.000000</td>\n",
       "      <td>0.0</td>\n",
       "      <td>4.000000</td>\n",
       "      <td>actint3ACPact_c --&gt; actint4ACPact_c + h2o_c</td>\n",
       "      <td>7,9,12-Octaketide intermediate 3 --&gt; Octaketid...</td>\n",
       "    </tr>\n",
       "    <tr>\n",
       "      <th>4</th>\n",
       "      <td>ACTS15</td>\n",
       "      <td>0.0</td>\n",
       "      <td>432.0</td>\n",
       "      <td>0.0</td>\n",
       "      <td>-2.0</td>\n",
       "      <td>0.0</td>\n",
       "      <td>432.0</td>\n",
       "      <td>0.0</td>\n",
       "      <td>432.0</td>\n",
       "      <td>0.0</td>\n",
       "      <td>...</td>\n",
       "      <td>0.0</td>\n",
       "      <td>-2.0</td>\n",
       "      <td>0.0</td>\n",
       "      <td>31.757576</td>\n",
       "      <td>0.0</td>\n",
       "      <td>31.757576</td>\n",
       "      <td>0.0</td>\n",
       "      <td>210.666667</td>\n",
       "      <td>dnpaACPact_c + h_c + nadph_c --&gt; ddhkACPact_c ...</td>\n",
       "      <td>(S)-DNPA + H+ + Nicotinamide adenine dinucleot...</td>\n",
       "    </tr>\n",
       "  </tbody>\n",
       "</table>\n",
       "<p>5 rows × 43 columns</p>\n",
       "</div>"
      ],
      "text/plain": [
       "    index  model2_C730_0-14.fluxes  model2_C730_0-14.reduced_costs  \\\n",
       "0   ACTS1                      0.0                             2.0   \n",
       "1  ACTS10                      0.0                           432.0   \n",
       "2  ACTS11                      0.0                             8.0   \n",
       "3  ACTS12                      0.0                             4.0   \n",
       "4  ACTS15                      0.0                           432.0   \n",
       "\n",
       "   model2_C730_7-14.fluxes  model2_C730_7-14.reduced_costs  \\\n",
       "0                      0.0                            -2.0   \n",
       "1                      0.0                            -2.0   \n",
       "2                      0.0                            -2.0   \n",
       "3                      0.0                             4.0   \n",
       "4                      0.0                            -2.0   \n",
       "\n",
       "   model2_C730_12-14.fluxes  model2_C730_12-14.reduced_costs  \\\n",
       "0                       0.0                              2.0   \n",
       "1                       0.0                            432.0   \n",
       "2                       0.0                              8.0   \n",
       "3                       0.0                              4.0   \n",
       "4                       0.0                            432.0   \n",
       "\n",
       "   model2_C730_20-14.fluxes  model2_C730_20-14.reduced_costs  \\\n",
       "0                       0.0                             -2.0   \n",
       "1                       0.0                            442.0   \n",
       "2                       0.0                             -2.0   \n",
       "3                       0.0                              4.0   \n",
       "4                       0.0                            432.0   \n",
       "\n",
       "   model2_C730_0-25.fluxes  ...  model2_C730_0-90.fluxes  \\\n",
       "0                      0.0  ...                      0.0   \n",
       "1                      0.0  ...                      0.0   \n",
       "2                      0.0  ...                      0.0   \n",
       "3                      0.0  ...                      0.0   \n",
       "4                      0.0  ...                      0.0   \n",
       "\n",
       "   model2_C730_0-90.reduced_costs  model2_C730_7-90.fluxes  \\\n",
       "0                             2.0                      0.0   \n",
       "1                            -2.0                      0.0   \n",
       "2                             8.0                      0.0   \n",
       "3                             4.0                      0.0   \n",
       "4                            -2.0                      0.0   \n",
       "\n",
       "   model2_C730_7-90.reduced_costs  model2_C730_12-90.fluxes  \\\n",
       "0                        2.000000                       0.0   \n",
       "1                       31.757576                       0.0   \n",
       "2                        8.000000                       0.0   \n",
       "3                        4.000000                       0.0   \n",
       "4                       31.757576                       0.0   \n",
       "\n",
       "   model2_C730_12-90.reduced_costs  model2_C730_20-90.fluxes  \\\n",
       "0                         2.000000                       0.0   \n",
       "1                        31.757576                       0.0   \n",
       "2                         8.000000                       0.0   \n",
       "3                         4.000000                       0.0   \n",
       "4                        31.757576                       0.0   \n",
       "\n",
       "   model2_C730_20-90.reduced_costs  \\\n",
       "0                         2.000000   \n",
       "1                       210.666667   \n",
       "2                         8.000000   \n",
       "3                         4.000000   \n",
       "4                       210.666667   \n",
       "\n",
       "                                   Reaction with RID  \\\n",
       "0        ACPact_c + malcoa_c <=> coa_c + malACPact_c   \n",
       "1  actint1ACPact_c + h_c + nadph_c --> actint2ACP...   \n",
       "2    actint2ACPact_c --> actint3ACPact_c + 2.0 h2o_c   \n",
       "3        actint3ACPact_c --> actint4ACPact_c + h2o_c   \n",
       "4  dnpaACPact_c + h_c + nadph_c --> ddhkACPact_c ...   \n",
       "\n",
       "                                 Reaction with Rname  \n",
       "0  acyl carrier protein (specific to actinorhodin...  \n",
       "1  7,9,12-Octaketide intermediate 1 + H+ + Nicoti...  \n",
       "2  7,9,12-Octaketide intermediate 2 --> 7,9,12-Oc...  \n",
       "3  7,9,12-Octaketide intermediate 3 --> Octaketid...  \n",
       "4  (S)-DNPA + H+ + Nicotinamide adenine dinucleot...  \n",
       "\n",
       "[5 rows x 43 columns]"
      ]
     },
     "execution_count": 44,
     "metadata": {},
     "output_type": "execute_result"
    }
   ],
   "source": [
    "model2_results.head()"
   ]
  },
  {
   "cell_type": "code",
   "execution_count": 45,
   "id": "5d5b44e7",
   "metadata": {},
   "outputs": [
    {
     "data": {
      "image/png": "[encoded data removed]",
      "text/plain": [
       "<Figure size 500x500 with 1 Axes>"
      ]
     },
     "metadata": {},
     "output_type": "display_data"
    }
   ],
   "source": [
    "plt1 = mutant1_results.boxplot(column=['mutant1_C730_0-90.fluxes', 'mutant1_C730_7-90.fluxes'],figsize = (5,5), rot = 90, fontsize= '8', grid = False)"
   ]
  },
  {
   "cell_type": "code",
   "execution_count": 46,
   "id": "4188c0df",
   "metadata": {},
   "outputs": [
    {
     "data": {
      "text/plain": [
       "<AxesSubplot:ylabel='Density'>"
      ]
     },
     "execution_count": 46,
     "metadata": {},
     "output_type": "execute_result"
    },
    {
     "data": {
      "image/png": "[encoded data removed]",
      "text/plain": [
       "<Figure size 640x480 with 1 Axes>"
      ]
     },
     "metadata": {},
     "output_type": "display_data"
    }
   ],
   "source": [
    "model2_results['model2_C730_0-90.fluxes'].plot.kde()"
   ]
  },
  {
   "cell_type": "code",
   "execution_count": 47,
   "id": "7bd4fc10",
   "metadata": {},
   "outputs": [
    {
     "data": {
      "image/png": "[encoded data removed]",
      "text/plain": [
       "<Figure size 500x500 with 1 Axes>"
      ]
     },
     "metadata": {},
     "output_type": "display_data"
    }
   ],
   "source": [
    "plt2 = model2_results.boxplot(column=['model2_C730_0-90.fluxes'],figsize = (5,5), rot = 90, fontsize= '8', grid = False)"
   ]
  },
  {
   "cell_type": "code",
   "execution_count": 48,
   "id": "bdb7c690",
   "metadata": {},
   "outputs": [
    {
     "data": {
      "text/plain": [
       "<AxesSubplot:ylabel='Density'>"
      ]
     },
     "execution_count": 48,
     "metadata": {},
     "output_type": "execute_result"
    },
    {
     "data": {
      "image/png": "[encoded data removed]",
      "text/plain": [
       "<Figure size 640x480 with 1 Axes>"
      ]
     },
     "metadata": {},
     "output_type": "display_data"
    }
   ],
   "source": [
    "mutant1_results['mutant1_C730_0-90.fluxes'].plot.kde()"
   ]
  },
  {
   "cell_type": "code",
   "execution_count": 49,
   "id": "56510c41",
   "metadata": {},
   "outputs": [
    {
     "data": {
      "text/plain": [
       "<AxesSubplot:>"
      ]
     },
     "execution_count": 49,
     "metadata": {},
     "output_type": "execute_result"
    }
   ],
   "source": [
    "plt2"
   ]
  },
  {
   "cell_type": "code",
   "execution_count": 50,
   "id": "d075abb5",
   "metadata": {},
   "outputs": [],
   "source": [
    "model2_results_90_high_flux = model2_results.loc[(model2_results['model2_C730_0-90.fluxes'] >= 0.0039) | (model2_results['model2_C730_7-90.fluxes'] >= 0.0046) |  (model2_results['model2_C730_12-90.fluxes'] >= 0.0046) | (model2_results['model2_C730_20-90.fluxes'] >= 0.0046) ] "
   ]
  },
  {
   "cell_type": "code",
   "execution_count": 51,
   "id": "67e13690",
   "metadata": {},
   "outputs": [],
   "source": [
    "model2_results_90_high_flux.to_excel('model2_results_90_high_flux.xlsx')"
   ]
  },
  {
   "cell_type": "code",
   "execution_count": 52,
   "id": "e1e6dbaf",
   "metadata": {},
   "outputs": [],
   "source": [
    "q1 = model2_results['model2_C730_0-90.fluxes'].quantile(0.95)"
   ]
  },
  {
   "cell_type": "code",
   "execution_count": 53,
   "id": "5525e3b4",
   "metadata": {},
   "outputs": [
    {
     "data": {
      "text/plain": [
       "0.003919420000002402"
      ]
     },
     "execution_count": 53,
     "metadata": {},
     "output_type": "execute_result"
    }
   ],
   "source": [
    "q1"
   ]
  },
  {
   "cell_type": "code",
   "execution_count": 54,
   "id": "4cfceeee",
   "metadata": {},
   "outputs": [
    {
     "data": {
      "text/plain": [
       "0.00466456"
      ]
     },
     "execution_count": 54,
     "metadata": {},
     "output_type": "execute_result"
    }
   ],
   "source": [
    " model2_results['model2_C730_7-90.fluxes'].quantile(0.95)"
   ]
  },
  {
   "cell_type": "code",
   "execution_count": 55,
   "id": "5e3eeb8e",
   "metadata": {},
   "outputs": [
    {
     "data": {
      "text/plain": [
       "0.004691310000000001"
      ]
     },
     "execution_count": 55,
     "metadata": {},
     "output_type": "execute_result"
    }
   ],
   "source": [
    " model2_results['model2_C730_12-90.fluxes'].quantile(0.95)"
   ]
  },
  {
   "cell_type": "code",
   "execution_count": 56,
   "id": "d78835aa",
   "metadata": {},
   "outputs": [
    {
     "data": {
      "text/plain": [
       "0.004691310000000001"
      ]
     },
     "execution_count": 56,
     "metadata": {},
     "output_type": "execute_result"
    }
   ],
   "source": [
    " model2_results['model2_C730_20-90.fluxes'].quantile(0.95)"
   ]
  },
  {
   "cell_type": "code",
   "execution_count": 57,
   "id": "6716fee0",
   "metadata": {},
   "outputs": [],
   "source": [
    "q1 = mutant1_results['mutant1_C730_7-90.fluxes'].quantile(0.95)"
   ]
  },
  {
   "cell_type": "code",
   "execution_count": 58,
   "id": "d7ff8e00",
   "metadata": {},
   "outputs": [
    {
     "data": {
      "text/plain": [
       "0.0009473799999999998"
      ]
     },
     "execution_count": 58,
     "metadata": {},
     "output_type": "execute_result"
    }
   ],
   "source": [
    "q1"
   ]
  },
  {
   "cell_type": "code",
   "execution_count": 59,
   "id": "3510da18",
   "metadata": {},
   "outputs": [
    {
     "data": {
      "text/plain": [
       "0.0009473799999999999"
      ]
     },
     "execution_count": 59,
     "metadata": {},
     "output_type": "execute_result"
    }
   ],
   "source": [
    "mutant1_results['mutant1_C730_0-90.fluxes'].quantile(0.95)"
   ]
  },
  {
   "cell_type": "code",
   "execution_count": 60,
   "id": "5acd8d8d",
   "metadata": {},
   "outputs": [],
   "source": [
    "mutant1_results_90_high_flux = mutant1_results.loc[(mutant1_results['mutant1_C730_0-90.fluxes'] >= 0.00094) | (mutant1_results['mutant1_C730_7-90.fluxes'] >= 0.00094) ] "
   ]
  },
  {
   "cell_type": "code",
   "execution_count": 61,
   "id": "1fef5111",
   "metadata": {},
   "outputs": [],
   "source": [
    "mutant1_results_90_high_flux.to_excel('mutant1_results_90_high_flux.xlsx')"
   ]
  },
  {
   "cell_type": "code",
   "execution_count": 62,
   "id": "2c8386b3",
   "metadata": {},
   "outputs": [
    {
     "data": {
      "text/plain": [
       "Index(['index', 'mutant1_C730_0-14.fluxes', 'mutant1_C730_0-14.reduced_costs',\n",
       "       'mutant1_C730_7-14.fluxes', 'mutant1_C730_7-14.reduced_costs',\n",
       "       'mutant1_C730_12-14.fluxes', 'mutant1_C730_12-14.reduced_costs',\n",
       "       'mutant1_C730_20-14.fluxes', 'mutant1_C730_20-14.reduced_costs',\n",
       "       'mutant1_C730_0-25.fluxes', 'mutant1_C730_0-25.reduced_costs',\n",
       "       'mutant1_C730_7-25.fluxes', 'mutant1_C730_7-25.reduced_costs',\n",
       "       'mutant1_C730_12-25.fluxes', 'mutant1_C730_12-25.reduced_costs',\n",
       "       'mutant1_C730_20-25.fluxes', 'mutant1_C730_20-25.reduced_costs',\n",
       "       'mutant1_C730_0-38.fluxes', 'mutant1_C730_0-38.reduced_costs',\n",
       "       'mutant1_C730_7-38.fluxes', 'mutant1_C730_7-38.reduced_costs',\n",
       "       'mutant1_C730_12-38.fluxes', 'mutant1_C730_12-38.reduced_costs',\n",
       "       'mutant1_C730_20-38.fluxes', 'mutant1_C730_20-38.reduced_costs',\n",
       "       'mutant1_C730_0-49.fluxes', 'mutant1_C730_0-49.reduced_costs',\n",
       "       'mutant1_C730_7-49.fluxes', 'mutant1_C730_7-49.reduced_costs',\n",
       "       'mutant1_C730_12-49.fluxes', 'mutant1_C730_12-49.reduced_costs',\n",
       "       'mutant1_C730_20-49.fluxes', 'mutant1_C730_20-49.reduced_costs',\n",
       "       'mutant1_C730_0-90.fluxes', 'mutant1_C730_0-90.reduced_costs',\n",
       "       'mutant1_C730_7-90.fluxes', 'mutant1_C730_7-90.reduced_costs',\n",
       "       'Reaction with RID', 'Reaction with Rname'],\n",
       "      dtype='object')"
      ]
     },
     "execution_count": 62,
     "metadata": {},
     "output_type": "execute_result"
    }
   ],
   "source": [
    "mutant1_results.columns"
   ]
  },
  {
   "cell_type": "code",
   "execution_count": 63,
   "id": "2f0a100a",
   "metadata": {},
   "outputs": [],
   "source": [
    "import seaborn as sns"
   ]
  },
  {
   "cell_type": "code",
   "execution_count": 64,
   "id": "65621acc",
   "metadata": {},
   "outputs": [
    {
     "data": {
      "text/plain": [
       "<AxesSubplot:xlabel='mutant1_C730_7-90.fluxes', ylabel='mutant1_C730_0-90.fluxes'>"
      ]
     },
     "execution_count": 64,
     "metadata": {},
     "output_type": "execute_result"
    },
    {
     "data": {
      "image/png": "[encoded data removed]",
      "text/plain": [
       "<Figure size 640x480 with 1 Axes>"
      ]
     },
     "metadata": {},
     "output_type": "display_data"
    }
   ],
   "source": [
    "sns.scatterplot(x='mutant1_C730_7-90.fluxes',y='mutant1_C730_0-90.fluxes', data=mutant1_results)"
   ]
  },
  {
   "cell_type": "code",
   "execution_count": 65,
   "id": "9076da71",
   "metadata": {},
   "outputs": [],
   "source": [
    "df_com = pd.merge(model2_results,mutant1_results, how='inner',on='index')"
   ]
  },
  {
   "cell_type": "code",
   "execution_count": 66,
   "id": "ada73658",
   "metadata": {},
   "outputs": [],
   "source": [
    "#df_com.fillna('Absent', inplace=True)"
   ]
  },
  {
   "cell_type": "code",
   "execution_count": 67,
   "id": "4249fd86",
   "metadata": {},
   "outputs": [
    {
     "data": {
      "text/html": [
       "<div>\n",
       "<style scoped>\n",
       "    .dataframe tbody tr th:only-of-type {\n",
       "        vertical-align: middle;\n",
       "    }\n",
       "\n",
       "    .dataframe tbody tr th {\n",
       "        vertical-align: top;\n",
       "    }\n",
       "\n",
       "    .dataframe thead th {\n",
       "        text-align: right;\n",
       "    }\n",
       "</style>\n",
       "<table border=\"1\" class=\"dataframe\">\n",
       "  <thead>\n",
       "    <tr style=\"text-align: right;\">\n",
       "      <th></th>\n",
       "      <th>index</th>\n",
       "      <th>model2_C730_0-14.fluxes</th>\n",
       "      <th>model2_C730_0-14.reduced_costs</th>\n",
       "      <th>model2_C730_7-14.fluxes</th>\n",
       "      <th>model2_C730_7-14.reduced_costs</th>\n",
       "      <th>model2_C730_12-14.fluxes</th>\n",
       "      <th>model2_C730_12-14.reduced_costs</th>\n",
       "      <th>model2_C730_20-14.fluxes</th>\n",
       "      <th>model2_C730_20-14.reduced_costs</th>\n",
       "      <th>model2_C730_0-25.fluxes</th>\n",
       "      <th>...</th>\n",
       "      <th>mutant1_C730_12-49.fluxes</th>\n",
       "      <th>mutant1_C730_12-49.reduced_costs</th>\n",
       "      <th>mutant1_C730_20-49.fluxes</th>\n",
       "      <th>mutant1_C730_20-49.reduced_costs</th>\n",
       "      <th>mutant1_C730_0-90.fluxes</th>\n",
       "      <th>mutant1_C730_0-90.reduced_costs</th>\n",
       "      <th>mutant1_C730_7-90.fluxes</th>\n",
       "      <th>mutant1_C730_7-90.reduced_costs</th>\n",
       "      <th>Reaction with RID_y</th>\n",
       "      <th>Reaction with Rname_y</th>\n",
       "    </tr>\n",
       "  </thead>\n",
       "  <tbody>\n",
       "    <tr>\n",
       "      <th>0</th>\n",
       "      <td>ALAD_L</td>\n",
       "      <td>0.000000</td>\n",
       "      <td>4.0</td>\n",
       "      <td>0.000000</td>\n",
       "      <td>4.0</td>\n",
       "      <td>0.000000</td>\n",
       "      <td>4.0</td>\n",
       "      <td>0.000000</td>\n",
       "      <td>4.0</td>\n",
       "      <td>0.000000</td>\n",
       "      <td>...</td>\n",
       "      <td>0.00000</td>\n",
       "      <td>4.0</td>\n",
       "      <td>0.0</td>\n",
       "      <td>4.00</td>\n",
       "      <td>0.00000</td>\n",
       "      <td>4.0</td>\n",
       "      <td>0.000000</td>\n",
       "      <td>4.00</td>\n",
       "      <td>ala__L_c + h2o_c + nad_c --&gt; h_c + nadh_c + nh...</td>\n",
       "      <td>L-Alanine + H2O H2O + Nicotinamide adenine din...</td>\n",
       "    </tr>\n",
       "    <tr>\n",
       "      <th>1</th>\n",
       "      <td>ALAR</td>\n",
       "      <td>0.213507</td>\n",
       "      <td>-2.0</td>\n",
       "      <td>0.178901</td>\n",
       "      <td>-2.0</td>\n",
       "      <td>0.225202</td>\n",
       "      <td>-2.0</td>\n",
       "      <td>0.217881</td>\n",
       "      <td>-2.0</td>\n",
       "      <td>0.002084</td>\n",
       "      <td>...</td>\n",
       "      <td>0.00185</td>\n",
       "      <td>-2.0</td>\n",
       "      <td>0.0</td>\n",
       "      <td>-2.00</td>\n",
       "      <td>0.00185</td>\n",
       "      <td>-2.0</td>\n",
       "      <td>0.000000</td>\n",
       "      <td>-2.00</td>\n",
       "      <td>ala__L_c &lt;=&gt; ala__D_c</td>\n",
       "      <td>L-Alanine &lt;=&gt; D-Alanine</td>\n",
       "    </tr>\n",
       "    <tr>\n",
       "      <th>2</th>\n",
       "      <td>ALATA_L</td>\n",
       "      <td>-0.876238</td>\n",
       "      <td>2.0</td>\n",
       "      <td>-0.734213</td>\n",
       "      <td>2.0</td>\n",
       "      <td>-0.924232</td>\n",
       "      <td>2.0</td>\n",
       "      <td>-0.894185</td>\n",
       "      <td>2.0</td>\n",
       "      <td>-0.008551</td>\n",
       "      <td>...</td>\n",
       "      <td>0.00000</td>\n",
       "      <td>2.0</td>\n",
       "      <td>0.0</td>\n",
       "      <td>2.00</td>\n",
       "      <td>0.00000</td>\n",
       "      <td>2.0</td>\n",
       "      <td>-0.005235</td>\n",
       "      <td>2.00</td>\n",
       "      <td>akg_c + ala__L_c &lt;=&gt; glu__L_c + pyr_c</td>\n",
       "      <td>2-Oxoglutarate + L-Alanine &lt;=&gt; L-Glutamate + P...</td>\n",
       "    </tr>\n",
       "    <tr>\n",
       "      <th>3</th>\n",
       "      <td>ASNS1</td>\n",
       "      <td>0.187969</td>\n",
       "      <td>-2.0</td>\n",
       "      <td>0.157502</td>\n",
       "      <td>-2.0</td>\n",
       "      <td>0.198264</td>\n",
       "      <td>-2.0</td>\n",
       "      <td>0.191819</td>\n",
       "      <td>-2.0</td>\n",
       "      <td>0.001834</td>\n",
       "      <td>...</td>\n",
       "      <td>0.00000</td>\n",
       "      <td>89.0</td>\n",
       "      <td>0.0</td>\n",
       "      <td>67.25</td>\n",
       "      <td>0.00000</td>\n",
       "      <td>69.0</td>\n",
       "      <td>0.000000</td>\n",
       "      <td>67.25</td>\n",
       "      <td>asp__L_c + atp_c + gln__L_c + h2o_c --&gt; amp_c ...</td>\n",
       "      <td>L-Aspartate + ATP C10H12N5O13P3 + L-Glutamine ...</td>\n",
       "    </tr>\n",
       "    <tr>\n",
       "      <th>4</th>\n",
       "      <td>ASPO1</td>\n",
       "      <td>0.000000</td>\n",
       "      <td>439.0</td>\n",
       "      <td>0.000000</td>\n",
       "      <td>439.0</td>\n",
       "      <td>0.000000</td>\n",
       "      <td>439.0</td>\n",
       "      <td>0.000000</td>\n",
       "      <td>439.0</td>\n",
       "      <td>0.000000</td>\n",
       "      <td>...</td>\n",
       "      <td>0.00000</td>\n",
       "      <td>2.0</td>\n",
       "      <td>0.0</td>\n",
       "      <td>2.00</td>\n",
       "      <td>0.00000</td>\n",
       "      <td>2.0</td>\n",
       "      <td>0.000000</td>\n",
       "      <td>2.00</td>\n",
       "      <td>asp__L_c + h2o_c + o2_c --&gt; h2o2_c + nh4_c + o...</td>\n",
       "      <td>L-Aspartate + H2O H2O + O2 O2 --&gt; Hydrogen per...</td>\n",
       "    </tr>\n",
       "  </tbody>\n",
       "</table>\n",
       "<p>5 rows × 81 columns</p>\n",
       "</div>"
      ],
      "text/plain": [
       "     index  model2_C730_0-14.fluxes  model2_C730_0-14.reduced_costs  \\\n",
       "0   ALAD_L                 0.000000                             4.0   \n",
       "1     ALAR                 0.213507                            -2.0   \n",
       "2  ALATA_L                -0.876238                             2.0   \n",
       "3    ASNS1                 0.187969                            -2.0   \n",
       "4    ASPO1                 0.000000                           439.0   \n",
       "\n",
       "   model2_C730_7-14.fluxes  model2_C730_7-14.reduced_costs  \\\n",
       "0                 0.000000                             4.0   \n",
       "1                 0.178901                            -2.0   \n",
       "2                -0.734213                             2.0   \n",
       "3                 0.157502                            -2.0   \n",
       "4                 0.000000                           439.0   \n",
       "\n",
       "   model2_C730_12-14.fluxes  model2_C730_12-14.reduced_costs  \\\n",
       "0                  0.000000                              4.0   \n",
       "1                  0.225202                             -2.0   \n",
       "2                 -0.924232                              2.0   \n",
       "3                  0.198264                             -2.0   \n",
       "4                  0.000000                            439.0   \n",
       "\n",
       "   model2_C730_20-14.fluxes  model2_C730_20-14.reduced_costs  \\\n",
       "0                  0.000000                              4.0   \n",
       "1                  0.217881                             -2.0   \n",
       "2                 -0.894185                              2.0   \n",
       "3                  0.191819                             -2.0   \n",
       "4                  0.000000                            439.0   \n",
       "\n",
       "   model2_C730_0-25.fluxes  ...  mutant1_C730_12-49.fluxes  \\\n",
       "0                 0.000000  ...                    0.00000   \n",
       "1                 0.002084  ...                    0.00185   \n",
       "2                -0.008551  ...                    0.00000   \n",
       "3                 0.001834  ...                    0.00000   \n",
       "4                 0.000000  ...                    0.00000   \n",
       "\n",
       "   mutant1_C730_12-49.reduced_costs  mutant1_C730_20-49.fluxes  \\\n",
       "0                               4.0                        0.0   \n",
       "1                              -2.0                        0.0   \n",
       "2                               2.0                        0.0   \n",
       "3                              89.0                        0.0   \n",
       "4                               2.0                        0.0   \n",
       "\n",
       "   mutant1_C730_20-49.reduced_costs  mutant1_C730_0-90.fluxes  \\\n",
       "0                              4.00                   0.00000   \n",
       "1                             -2.00                   0.00185   \n",
       "2                              2.00                   0.00000   \n",
       "3                             67.25                   0.00000   \n",
       "4                              2.00                   0.00000   \n",
       "\n",
       "   mutant1_C730_0-90.reduced_costs  mutant1_C730_7-90.fluxes  \\\n",
       "0                              4.0                  0.000000   \n",
       "1                             -2.0                  0.000000   \n",
       "2                              2.0                 -0.005235   \n",
       "3                             69.0                  0.000000   \n",
       "4                              2.0                  0.000000   \n",
       "\n",
       "   mutant1_C730_7-90.reduced_costs  \\\n",
       "0                             4.00   \n",
       "1                            -2.00   \n",
       "2                             2.00   \n",
       "3                            67.25   \n",
       "4                             2.00   \n",
       "\n",
       "                                 Reaction with RID_y  \\\n",
       "0  ala__L_c + h2o_c + nad_c --> h_c + nadh_c + nh...   \n",
       "1                              ala__L_c <=> ala__D_c   \n",
       "2              akg_c + ala__L_c <=> glu__L_c + pyr_c   \n",
       "3  asp__L_c + atp_c + gln__L_c + h2o_c --> amp_c ...   \n",
       "4  asp__L_c + h2o_c + o2_c --> h2o2_c + nh4_c + o...   \n",
       "\n",
       "                               Reaction with Rname_y  \n",
       "0  L-Alanine + H2O H2O + Nicotinamide adenine din...  \n",
       "1                            L-Alanine <=> D-Alanine  \n",
       "2  2-Oxoglutarate + L-Alanine <=> L-Glutamate + P...  \n",
       "3  L-Aspartate + ATP C10H12N5O13P3 + L-Glutamine ...  \n",
       "4  L-Aspartate + H2O H2O + O2 O2 --> Hydrogen per...  \n",
       "\n",
       "[5 rows x 81 columns]"
      ]
     },
     "execution_count": 67,
     "metadata": {},
     "output_type": "execute_result"
    }
   ],
   "source": [
    "df_com.head()"
   ]
  },
  {
   "cell_type": "code",
   "execution_count": 68,
   "id": "e096b1c9",
   "metadata": {},
   "outputs": [
    {
     "data": {
      "text/plain": [
       "Index(['index', 'model2_C730_0-14.fluxes', 'model2_C730_0-14.reduced_costs',\n",
       "       'model2_C730_7-14.fluxes', 'model2_C730_7-14.reduced_costs',\n",
       "       'model2_C730_12-14.fluxes', 'model2_C730_12-14.reduced_costs',\n",
       "       'model2_C730_20-14.fluxes', 'model2_C730_20-14.reduced_costs',\n",
       "       'model2_C730_0-25.fluxes', 'model2_C730_0-25.reduced_costs',\n",
       "       'model2_C730_7-25.fluxes', 'model2_C730_7-25.reduced_costs',\n",
       "       'model2_C730_12-25.fluxes', 'model2_C730_12-25.reduced_costs',\n",
       "       'model2_C730_20-25.fluxes', 'model2_C730_20-25.reduced_costs',\n",
       "       'model2_C730_0-38.fluxes', 'model2_C730_0-38.reduced_costs',\n",
       "       'model2_C730_7-38.fluxes', 'model2_C730_7-38.reduced_costs',\n",
       "       'model2_C730_12-38.fluxes', 'model2_C730_12-38.reduced_costs',\n",
       "       'model2_C730_20-38.fluxes', 'model2_C730_20-38.reduced_costs',\n",
       "       'model2_C730_0-49.fluxes', 'model2_C730_0-49.reduced_costs',\n",
       "       'model2_C730_7-49.fluxes', 'model2_C730_7-49.reduced_costs',\n",
       "       'model2_C730_12-49.fluxes', 'model2_C730_12-49.reduced_costs',\n",
       "       'model2_C730_20-49.fluxes', 'model2_C730_20-49.reduced_costs',\n",
       "       'model2_C730_0-90.fluxes', 'model2_C730_0-90.reduced_costs',\n",
       "       'model2_C730_7-90.fluxes', 'model2_C730_7-90.reduced_costs',\n",
       "       'model2_C730_12-90.fluxes', 'model2_C730_12-90.reduced_costs',\n",
       "       'model2_C730_20-90.fluxes', 'model2_C730_20-90.reduced_costs',\n",
       "       'Reaction with RID_x', 'Reaction with Rname_x',\n",
       "       'mutant1_C730_0-14.fluxes', 'mutant1_C730_0-14.reduced_costs',\n",
       "       'mutant1_C730_7-14.fluxes', 'mutant1_C730_7-14.reduced_costs',\n",
       "       'mutant1_C730_12-14.fluxes', 'mutant1_C730_12-14.reduced_costs',\n",
       "       'mutant1_C730_20-14.fluxes', 'mutant1_C730_20-14.reduced_costs',\n",
       "       'mutant1_C730_0-25.fluxes', 'mutant1_C730_0-25.reduced_costs',\n",
       "       'mutant1_C730_7-25.fluxes', 'mutant1_C730_7-25.reduced_costs',\n",
       "       'mutant1_C730_12-25.fluxes', 'mutant1_C730_12-25.reduced_costs',\n",
       "       'mutant1_C730_20-25.fluxes', 'mutant1_C730_20-25.reduced_costs',\n",
       "       'mutant1_C730_0-38.fluxes', 'mutant1_C730_0-38.reduced_costs',\n",
       "       'mutant1_C730_7-38.fluxes', 'mutant1_C730_7-38.reduced_costs',\n",
       "       'mutant1_C730_12-38.fluxes', 'mutant1_C730_12-38.reduced_costs',\n",
       "       'mutant1_C730_20-38.fluxes', 'mutant1_C730_20-38.reduced_costs',\n",
       "       'mutant1_C730_0-49.fluxes', 'mutant1_C730_0-49.reduced_costs',\n",
       "       'mutant1_C730_7-49.fluxes', 'mutant1_C730_7-49.reduced_costs',\n",
       "       'mutant1_C730_12-49.fluxes', 'mutant1_C730_12-49.reduced_costs',\n",
       "       'mutant1_C730_20-49.fluxes', 'mutant1_C730_20-49.reduced_costs',\n",
       "       'mutant1_C730_0-90.fluxes', 'mutant1_C730_0-90.reduced_costs',\n",
       "       'mutant1_C730_7-90.fluxes', 'mutant1_C730_7-90.reduced_costs',\n",
       "       'Reaction with RID_y', 'Reaction with Rname_y'],\n",
       "      dtype='object')"
      ]
     },
     "execution_count": 68,
     "metadata": {},
     "output_type": "execute_result"
    }
   ],
   "source": [
    "df_com.columns"
   ]
  },
  {
   "cell_type": "code",
   "execution_count": 69,
   "id": "4564bbb6",
   "metadata": {},
   "outputs": [
    {
     "data": {
      "text/plain": [
       "<AxesSubplot:xlabel='model2_C730_7-90.fluxes', ylabel='mutant1_C730_7-90.fluxes'>"
      ]
     },
     "execution_count": 69,
     "metadata": {},
     "output_type": "execute_result"
    },
    {
     "data": {
      "image/png": "[encoded data removed]",
      "text/plain": [
       "<Figure size 640x480 with 1 Axes>"
      ]
     },
     "metadata": {},
     "output_type": "display_data"
    }
   ],
   "source": [
    "sns.scatterplot(data=df_com, x='model2_C730_7-90.fluxes',y='mutant1_C730_7-90.fluxes' )"
   ]
  },
  {
   "cell_type": "code",
   "execution_count": 70,
   "id": "0af5acf3",
   "metadata": {},
   "outputs": [],
   "source": [
    "mutant1.objective = 'EX_MonensinA_e0'"
   ]
  },
  {
   "cell_type": "code",
   "execution_count": 71,
   "id": "4beee833",
   "metadata": {},
   "outputs": [
    {
     "data": {
      "text/html": [
       "<strong><em>Optimal</em> solution with objective value 6180.946</strong><br><div>\n",
       "<style scoped>\n",
       "    .dataframe tbody tr th:only-of-type {\n",
       "        vertical-align: middle;\n",
       "    }\n",
       "\n",
       "    .dataframe tbody tr th {\n",
       "        vertical-align: top;\n",
       "    }\n",
       "\n",
       "    .dataframe thead th {\n",
       "        text-align: right;\n",
       "    }\n",
       "</style>\n",
       "<table border=\"1\" class=\"dataframe\">\n",
       "  <thead>\n",
       "    <tr style=\"text-align: right;\">\n",
       "      <th></th>\n",
       "      <th>fluxes</th>\n",
       "      <th>reduced_costs</th>\n",
       "    </tr>\n",
       "  </thead>\n",
       "  <tbody>\n",
       "    <tr>\n",
       "      <th>12DGR120tipp</th>\n",
       "      <td>0.00000</td>\n",
       "      <td>-2.000000</td>\n",
       "    </tr>\n",
       "    <tr>\n",
       "      <th>12DGR140tipp</th>\n",
       "      <td>0.00000</td>\n",
       "      <td>-2.000000</td>\n",
       "    </tr>\n",
       "    <tr>\n",
       "      <th>12DGR141tipp</th>\n",
       "      <td>0.00000</td>\n",
       "      <td>-2.000000</td>\n",
       "    </tr>\n",
       "    <tr>\n",
       "      <th>12DGR160tipp</th>\n",
       "      <td>0.00000</td>\n",
       "      <td>-2.000000</td>\n",
       "    </tr>\n",
       "    <tr>\n",
       "      <th>12DGR161tipp</th>\n",
       "      <td>0.00000</td>\n",
       "      <td>-2.000000</td>\n",
       "    </tr>\n",
       "    <tr>\n",
       "      <th>...</th>\n",
       "      <td>...</td>\n",
       "      <td>...</td>\n",
       "    </tr>\n",
       "    <tr>\n",
       "      <th>MonA_Transp_c0</th>\n",
       "      <td>21.73913</td>\n",
       "      <td>-2.000000</td>\n",
       "    </tr>\n",
       "    <tr>\n",
       "      <th>MonB_Synth_c0</th>\n",
       "      <td>0.00000</td>\n",
       "      <td>493.117647</td>\n",
       "    </tr>\n",
       "    <tr>\n",
       "      <th>MonB_Transp_c0</th>\n",
       "      <td>0.00000</td>\n",
       "      <td>-2.000000</td>\n",
       "    </tr>\n",
       "    <tr>\n",
       "      <th>EX_MonensinA_e0</th>\n",
       "      <td>21.73913</td>\n",
       "      <td>-2.000000</td>\n",
       "    </tr>\n",
       "    <tr>\n",
       "      <th>EX_MonensinB_e0</th>\n",
       "      <td>0.00000</td>\n",
       "      <td>0.000000</td>\n",
       "    </tr>\n",
       "  </tbody>\n",
       "</table>\n",
       "<p>2975 rows × 2 columns</p>\n",
       "</div>"
      ],
      "text/plain": [
       "<Solution 6180.946 at 0x1a7fd054670>"
      ]
     },
     "execution_count": 71,
     "metadata": {},
     "output_type": "execute_result"
    }
   ],
   "source": [
    "cobra.flux_analysis.pfba(mutant1)"
   ]
  },
  {
   "cell_type": "code",
   "execution_count": 72,
   "id": "f93d2278",
   "metadata": {},
   "outputs": [],
   "source": [
    "df = mutant1.optimize().to_frame()"
   ]
  },
  {
   "cell_type": "code",
   "execution_count": 73,
   "id": "7f89c843",
   "metadata": {},
   "outputs": [],
   "source": [
    "df.to_excel('Monensin_optimize.xlsx')"
   ]
  },
  {
   "cell_type": "code",
   "execution_count": 74,
   "id": "d9787e27",
   "metadata": {},
   "outputs": [],
   "source": [
    "mutant1.objective='ATPM'"
   ]
  },
  {
   "cell_type": "code",
   "execution_count": 75,
   "id": "b5f63e40",
   "metadata": {},
   "outputs": [
    {
     "name": "stderr",
     "output_type": "stream",
     "text": [
      "Could not identify an external compartment by name and choosing one with the most boundary reactions. That might be complete nonsense or change suddenly. Consider renaming your compartments using `Model.compartments` to fix this.\n",
      "Could not identify an external compartment by name and choosing one with the most boundary reactions. That might be complete nonsense or change suddenly. Consider renaming your compartments using `Model.compartments` to fix this.\n"
     ]
    }
   ],
   "source": [
    "medium = mutant1.medium\n",
    "medium[\"EX_cit_e\"] = 1000\n",
    "#medium['EX_h_e'] = 0.0\n",
    "mutant1.medium = medium"
   ]
  },
  {
   "cell_type": "raw",
   "id": "3c694554",
   "metadata": {},
   "source": [
    "Calculate the maximum monensinA Production Rate for both the models mutant1 and\n",
    "why citrate essential for growth. How can you make model not require citrate.\n",
    "can you repeat the Monensin production using experimental bounds."
   ]
  },
  {
   "cell_type": "code",
   "execution_count": 76,
   "id": "4a9b685f",
   "metadata": {},
   "outputs": [],
   "source": [
    "li = ['CS','ACS','ACONT','ACONTb','ICDHyr','PPS','ASNS1']"
   ]
  },
  {
   "cell_type": "code",
   "execution_count": 77,
   "id": "fd47f87f",
   "metadata": {},
   "outputs": [
    {
     "data": {
      "text/plain": [
       "['index',\n",
       " 'mutant1_C730_0-14.fluxes',\n",
       " 'mutant1_C730_0-14.reduced_costs',\n",
       " 'mutant1_C730_7-14.fluxes',\n",
       " 'mutant1_C730_7-14.reduced_costs',\n",
       " 'mutant1_C730_12-14.fluxes',\n",
       " 'mutant1_C730_12-14.reduced_costs',\n",
       " 'mutant1_C730_20-14.fluxes',\n",
       " 'mutant1_C730_20-14.reduced_costs',\n",
       " 'mutant1_C730_0-25.fluxes',\n",
       " 'mutant1_C730_0-25.reduced_costs',\n",
       " 'mutant1_C730_7-25.fluxes',\n",
       " 'mutant1_C730_7-25.reduced_costs',\n",
       " 'mutant1_C730_12-25.fluxes',\n",
       " 'mutant1_C730_12-25.reduced_costs',\n",
       " 'mutant1_C730_20-25.fluxes',\n",
       " 'mutant1_C730_20-25.reduced_costs',\n",
       " 'mutant1_C730_0-38.fluxes',\n",
       " 'mutant1_C730_0-38.reduced_costs',\n",
       " 'mutant1_C730_7-38.fluxes',\n",
       " 'mutant1_C730_7-38.reduced_costs',\n",
       " 'mutant1_C730_12-38.fluxes',\n",
       " 'mutant1_C730_12-38.reduced_costs',\n",
       " 'mutant1_C730_20-38.fluxes',\n",
       " 'mutant1_C730_20-38.reduced_costs',\n",
       " 'mutant1_C730_0-49.fluxes',\n",
       " 'mutant1_C730_0-49.reduced_costs',\n",
       " 'mutant1_C730_7-49.fluxes',\n",
       " 'mutant1_C730_7-49.reduced_costs',\n",
       " 'mutant1_C730_12-49.fluxes',\n",
       " 'mutant1_C730_12-49.reduced_costs',\n",
       " 'mutant1_C730_20-49.fluxes',\n",
       " 'mutant1_C730_20-49.reduced_costs',\n",
       " 'mutant1_C730_0-90.fluxes',\n",
       " 'mutant1_C730_0-90.reduced_costs',\n",
       " 'mutant1_C730_7-90.fluxes',\n",
       " 'mutant1_C730_7-90.reduced_costs',\n",
       " 'Reaction with RID',\n",
       " 'Reaction with Rname']"
      ]
     },
     "execution_count": 77,
     "metadata": {},
     "output_type": "execute_result"
    }
   ],
   "source": [
    "list(mutant1_results)"
   ]
  },
  {
   "cell_type": "code",
   "execution_count": 78,
   "id": "9f29e283",
   "metadata": {},
   "outputs": [
    {
     "name": "stdout",
     "output_type": "stream",
     "text": [
      "['Acetyl-CoA + H2O H2O + Oxaloacetate --> Citrate + Coenzyme A + H+']\n",
      "['Acetate + ATP C10H12N5O13P3 + Coenzyme A --> Acetyl-CoA + AMP C10H12N5O7P + Diphosphate']\n",
      "['Citrate <=> Isocitrate']\n",
      "['Cis-Aconitate + H2O H2O <=> Isocitrate']\n",
      "['Isocitrate + Nicotinamide adenine dinucleotide phosphate <=> 2-Oxoglutarate + CO2 CO2 + Nicotinamide adenine dinucleotide phosphate - reduced']\n",
      "['ATP C10H12N5O13P3 + H2O H2O + Pyruvate --> AMP C10H12N5O7P + 2.0 H+ + Phosphoenolpyruvate + Phosphate']\n",
      "['L-Aspartate + ATP C10H12N5O13P3 + L-Glutamine + H2O H2O --> AMP C10H12N5O7P + L-Asparagine + L-Glutamate + H+ + Diphosphate']\n"
     ]
    }
   ],
   "source": [
    "for i in li:\n",
    "    i1 = mutant1_results[mutant1_results['index'] == i]\n",
    "    print(i1['Reaction with Rname'].values)"
   ]
  },
  {
   "cell_type": "code",
   "execution_count": 79,
   "id": "c1b0127d",
   "metadata": {},
   "outputs": [],
   "source": [
    "solution = cobra.flux_analysis.pfba(mutant1)"
   ]
  },
  {
   "cell_type": "code",
   "execution_count": 80,
   "id": "975cab5d",
   "metadata": {},
   "outputs": [
    {
     "data": {
      "text/plain": [
       "333.3333333333334"
      ]
     },
     "execution_count": 80,
     "metadata": {},
     "output_type": "execute_result"
    }
   ],
   "source": [
    "mutant1.slim_optimize()"
   ]
  },
  {
   "cell_type": "code",
   "execution_count": 81,
   "id": "5585d6d1",
   "metadata": {},
   "outputs": [
    {
     "name": "stdout",
     "output_type": "stream",
     "text": [
      "EX_cit_e\n",
      "cit_e <=> \n",
      "-166.66666666666632\n",
      "CITtex\n",
      "cit_e <=> cit_p\n",
      "0.0\n",
      "FEDCabc\n",
      "atp_c + 2.0 cit_e + fe3_e + h2o_c --> adp_c + 2.0 cit_c + fe3_c + h_c + pi_c\n",
      "0.0\n",
      "CITt14\n",
      "ca2_e + cit_e + h_e --> ca2_c + cit_c + h_c\n",
      "166.66666666666634\n"
     ]
    }
   ],
   "source": [
    "for x in mutant1.metabolites.get_by_id('cit_e').reactions:\n",
    "    print(x.id)\n",
    "    print(x.build_reaction_string(use_metabolite_names = False))\n",
    "    print(solution[x.id])"
   ]
  },
  {
   "cell_type": "raw",
   "id": "673f79ce",
   "metadata": {},
   "source": [
    "_p periplasm , c cytoplasm , e extracellular"
   ]
  },
  {
   "cell_type": "code",
   "execution_count": 82,
   "id": "e3ced0f5",
   "metadata": {},
   "outputs": [],
   "source": [
    "for x in mutant1.metabolites.get_by_id('cit_p').reactions:\n",
    "    if abs(solution[x.id]) > 0.0:\n",
    "        print(x.id)\n",
    "        print(x.build_reaction_string(use_metabolite_names = False))\n",
    "        print(solution[x.id])"
   ]
  },
  {
   "cell_type": "code",
   "execution_count": 83,
   "id": "8696ffb3",
   "metadata": {},
   "outputs": [
    {
     "name": "stdout",
     "output_type": "stream",
     "text": [
      "CS\n",
      "accoa_c + h2o_c + oaa_c --> cit_c + coa_c + h_c\n",
      "166.66666666666632\n",
      "ACONT\n",
      "cit_c <=> icit_c\n",
      "333.33333333333263\n",
      "CITt14\n",
      "ca2_e + cit_e + h_e --> ca2_c + cit_c + h_c\n",
      "166.66666666666634\n"
     ]
    }
   ],
   "source": [
    "for x in mutant1.metabolites.get_by_id('cit_c').reactions:\n",
    "    if abs(solution[x.id]) > 0.0:\n",
    "        print(x.id)\n",
    "        print(x.build_reaction_string(use_metabolite_names = False))\n",
    "        print(solution[x.id])"
   ]
  },
  {
   "cell_type": "code",
   "execution_count": 84,
   "id": "0f892766",
   "metadata": {},
   "outputs": [
    {
     "name": "stdout",
     "output_type": "stream",
     "text": [
      "ICDHyr\n",
      "icit_c + nadp_c <=> akg_c + co2_c + nadph_c\n",
      "333.33333333333263\n",
      "ACONT\n",
      "cit_c <=> icit_c\n",
      "333.33333333333263\n"
     ]
    }
   ],
   "source": [
    "for x in mutant1.metabolites.get_by_id('icit_c').reactions:\n",
    "    if abs(solution[x.id]) > 0.0:\n",
    "        print(x.id)\n",
    "        print(x.build_reaction_string(use_metabolite_names = False))\n",
    "        print(solution[x.id])"
   ]
  },
  {
   "cell_type": "code",
   "execution_count": 85,
   "id": "3ee8bf2b",
   "metadata": {},
   "outputs": [
    {
     "name": "stdout",
     "output_type": "stream",
     "text": [
      "ICDHyr\n",
      "icit_c + nadp_c <=> akg_c + co2_c + nadph_c\n",
      "333.33333333333263\n",
      "AKGDH\n",
      "akg_c + coa_c + nad_c --> co2_c + nadh_c + succoa_c\n",
      "333.33333333333263\n"
     ]
    }
   ],
   "source": [
    "for x in mutant1.metabolites.get_by_id('akg_c').reactions:\n",
    "    if abs(solution[x.id]) > 1e-9:\n",
    "        print(x.id)\n",
    "        print(x.build_reaction_string(use_metabolite_names = False))\n",
    "        print(solution[x.id])"
   ]
  },
  {
   "cell_type": "code",
   "execution_count": 86,
   "id": "a2f8d399",
   "metadata": {},
   "outputs": [
    {
     "name": "stdout",
     "output_type": "stream",
     "text": [
      "SUCOAS\n",
      "atp_c + coa_c + succ_c <=> adp_c + pi_c + succoa_c\n",
      "-333.3333333333327\n",
      "AKGDH\n",
      "akg_c + coa_c + nad_c --> co2_c + nadh_c + succoa_c\n",
      "333.33333333333263\n"
     ]
    }
   ],
   "source": [
    "for x in mutant1.metabolites.get_by_id('succoa_c').reactions:\n",
    "    if abs(solution[x.id]) > 0.0:\n",
    "        print(x.id)\n",
    "        print(x.build_reaction_string(use_metabolite_names = False))\n",
    "        print(solution[x.id])"
   ]
  },
  {
   "cell_type": "code",
   "execution_count": 87,
   "id": "c897fe10",
   "metadata": {},
   "outputs": [
    {
     "name": "stdout",
     "output_type": "stream",
     "text": [
      "SUCOAS\n",
      "atp_c + coa_c + succ_c <=> adp_c + pi_c + succoa_c\n",
      "-333.3333333333327\n",
      "FRD2rpp\n",
      "2.0 h_p + mqn8_c + succ_c --> fum_c + 2.0 h_c + mql8_c\n",
      "333.3333333333327\n"
     ]
    }
   ],
   "source": [
    "for x in mutant1.metabolites.get_by_id('succ_c').reactions:\n",
    "    if abs(solution[x.id]) > 0.0:\n",
    "        print(x.id)\n",
    "        print(x.build_reaction_string(use_metabolite_names = False))\n",
    "        print(solution[x.id])"
   ]
  },
  {
   "cell_type": "code",
   "execution_count": 88,
   "id": "08e4d5bc",
   "metadata": {},
   "outputs": [
    {
     "name": "stdout",
     "output_type": "stream",
     "text": [
      "FUM\n",
      "fum_c + h2o_c <=> mal__L_c\n",
      "333.3333333333327\n",
      "MALEI\n",
      "male_c <=> fum_c\n",
      "3.573704331462485e-14\n",
      "FRD2rpp\n",
      "2.0 h_p + mqn8_c + succ_c --> fum_c + 2.0 h_c + mql8_c\n",
      "333.3333333333327\n"
     ]
    }
   ],
   "source": [
    "for x in mutant1.metabolites.get_by_id('fum_c').reactions:\n",
    "    if abs(solution[x.id]) > 0.0:\n",
    "        print(x.id)\n",
    "        print(x.build_reaction_string(use_metabolite_names = False))\n",
    "        print(solution[x.id])"
   ]
  },
  {
   "cell_type": "code",
   "execution_count": 89,
   "id": "71ff49fa",
   "metadata": {},
   "outputs": [
    {
     "name": "stdout",
     "output_type": "stream",
     "text": [
      "FUM\n",
      "fum_c + h2o_c <=> mal__L_c\n",
      "333.3333333333327\n",
      "ME2\n",
      "mal__L_c + nadp_c --> co2_c + nadph_c + pyr_c\n",
      "166.66666666666634\n",
      "MDH\n",
      "mal__L_c + nad_c <=> h_c + nadh_c + oaa_c\n",
      "166.66666666666634\n"
     ]
    }
   ],
   "source": [
    "for x in mutant1.metabolites.get_by_id('mal__L_c').reactions:\n",
    "    if abs(solution[x.id]) > 0.0:\n",
    "        print(x.id)\n",
    "        print(x.build_reaction_string(use_metabolite_names = False))\n",
    "        print(solution[x.id])"
   ]
  },
  {
   "cell_type": "code",
   "execution_count": 90,
   "id": "19099a58",
   "metadata": {},
   "outputs": [
    {
     "data": {
      "text/latex": [
       "$\\displaystyle 1.0 \\cdot ATPM - 1.0 \\cdot ATPM_{reverse 5b752}$"
      ],
      "text/plain": [
       "1.0*ATPM - 1.0*ATPM_reverse_5b752"
      ]
     },
     "execution_count": 90,
     "metadata": {},
     "output_type": "execute_result"
    }
   ],
   "source": [
    "mutant1.objective.expression"
   ]
  },
  {
   "cell_type": "code",
   "execution_count": 91,
   "id": "7649d4cf",
   "metadata": {},
   "outputs": [],
   "source": [
    "mutant1.objective='ATPM'"
   ]
  },
  {
   "cell_type": "code",
   "execution_count": 92,
   "id": "583f1606",
   "metadata": {},
   "outputs": [
    {
     "name": "stderr",
     "output_type": "stream",
     "text": [
      "Could not identify an external compartment by name and choosing one with the most boundary reactions. That might be complete nonsense or change suddenly. Consider renaming your compartments using `Model.compartments` to fix this.\n"
     ]
    },
    {
     "data": {
      "text/plain": [
       "{'EX_ca2_e': 1000.0,\n",
       " 'EX_cit_e': 1000,\n",
       " 'EX_cl_e': 1000.0,\n",
       " 'EX_co2_e': 1000.0,\n",
       " 'EX_cobalt2_e': 1000.0,\n",
       " 'EX_cu2_e': 1000.0,\n",
       " 'EX_fe2_e': 1000.0,\n",
       " 'EX_h2o_e': 1000.0,\n",
       " 'EX_h_e': 1000.0,\n",
       " 'EX_hdca_e': 1000.0,\n",
       " 'EX_k_e': 1000.0,\n",
       " 'EX_met__L_e': 1000.0,\n",
       " 'EX_mg2_e': 1000.0,\n",
       " 'EX_mn2_e': 1000.0,\n",
       " 'EX_mobd_e': 1000.0,\n",
       " 'EX_nh4_e': 1000.0,\n",
       " 'EX_no3_e': 1000.0,\n",
       " 'EX_o2_e': 1000.0,\n",
       " 'EX_pi_e': 1000.0,\n",
       " 'EX_so4_e': 1000.0,\n",
       " 'EX_zn2_e': 1000.0}"
      ]
     },
     "execution_count": 92,
     "metadata": {},
     "output_type": "execute_result"
    }
   ],
   "source": [
    "mutant1.medium"
   ]
  },
  {
   "cell_type": "code",
   "execution_count": 93,
   "id": "bc8b31f9",
   "metadata": {},
   "outputs": [
    {
     "name": "stdout",
     "output_type": "stream",
     "text": [
      "PYK\n",
      "adp_c + h_c + pep_c --> atp_c + pyr_c\n",
      "5.956173885770811e-14\n",
      "PFL\n",
      "coa_c + pyr_c --> accoa_c + for_c\n",
      "-3.5737043314624856e-14\n",
      "ME2\n",
      "mal__L_c + nadp_c --> co2_c + nadph_c + pyr_c\n",
      "166.66666666666634\n",
      "PDH\n",
      "coa_c + nad_c + pyr_c --> accoa_c + co2_c + nadh_c\n",
      "166.6666666666664\n"
     ]
    }
   ],
   "source": [
    "for x in mutant1.metabolites.get_by_id('pyr_c').reactions:\n",
    "    if abs(solution[x.id]) > 0.0:\n",
    "        print(x.id)\n",
    "        print(x.build_reaction_string(use_metabolite_names = False))\n",
    "        print(solution[x.id])"
   ]
  },
  {
   "cell_type": "code",
   "execution_count": 94,
   "id": "043dd506",
   "metadata": {},
   "outputs": [
    {
     "name": "stdout",
     "output_type": "stream",
     "text": [
      "NOX\n",
      "h_c + nadh_c + o2_c --> h2o2_c + nad_c\n",
      "666.6666666666656\n",
      "PDH\n",
      "coa_c + nad_c + pyr_c --> accoa_c + co2_c + nadh_c\n",
      "166.6666666666664\n",
      "AKGDH\n",
      "akg_c + coa_c + nad_c --> co2_c + nadh_c + succoa_c\n",
      "333.33333333333263\n",
      "MDH\n",
      "mal__L_c + nad_c <=> h_c + nadh_c + oaa_c\n",
      "166.66666666666634\n"
     ]
    }
   ],
   "source": [
    "for x in mutant1.metabolites.get_by_id('nadh_c').reactions:\n",
    "    if abs(solution[x.id]) > 1e-9:\n",
    "        print(x.id)\n",
    "        print(x.build_reaction_string(use_metabolite_names = False))\n",
    "        print(solution[x.id])"
   ]
  },
  {
   "cell_type": "code",
   "execution_count": 95,
   "id": "f4cff3f5",
   "metadata": {},
   "outputs": [
    {
     "name": "stdout",
     "output_type": "stream",
     "text": [
      "CAT\n",
      "2.0 h2o2_c --> 2.0 h2o_c + o2_c\n",
      "333.33333333333286\n",
      "NOX\n",
      "h_c + nadh_c + o2_c --> h2o2_c + nad_c\n",
      "666.6666666666656\n"
     ]
    }
   ],
   "source": [
    "for x in mutant1.metabolites.get_by_id('h2o2_c').reactions:\n",
    "    if abs(solution[x.id]) > 1e-9:\n",
    "        print(x.id)\n",
    "        print(x.build_reaction_string(use_metabolite_names = False))\n",
    "        print(solution[x.id])"
   ]
  },
  {
   "cell_type": "code",
   "execution_count": 96,
   "id": "d5aac84a",
   "metadata": {},
   "outputs": [
    {
     "name": "stdout",
     "output_type": "stream",
     "text": [
      "CYTBD2pp\n",
      "2.0 h_c + mql8_c + 0.5 o2_c --> h2o_c + 2.0 h_p + mqn8_c\n",
      "333.3333333333327\n",
      "CAT\n",
      "2.0 h2o2_c --> 2.0 h2o_c + o2_c\n",
      "333.33333333333286\n",
      "NOX\n",
      "h_c + nadh_c + o2_c --> h2o2_c + nad_c\n",
      "666.6666666666656\n",
      "O2tpp\n",
      "o2_p <=> o2_c\n",
      "749.9999999999986\n",
      "MEHLER\n",
      "h_c + nadph_c + 0.5 o2_c --> h2o_c + nadp_c\n",
      "499.99999999999903\n"
     ]
    }
   ],
   "source": [
    "for x in mutant1.metabolites.get_by_id('o2_c').reactions:\n",
    "    if abs(solution[x.id]) > 1e-9:\n",
    "        print(x.id)\n",
    "        print(x.build_reaction_string(use_metabolite_names = False))\n",
    "        print(solution[x.id])"
   ]
  },
  {
   "cell_type": "code",
   "execution_count": 97,
   "id": "49e2115e",
   "metadata": {},
   "outputs": [
    {
     "name": "stdout",
     "output_type": "stream",
     "text": [
      "FRD2rpp\n",
      "2.0 h_p + mqn8_c + succ_c --> fum_c + 2.0 h_c + mql8_c\n",
      "333.3333333333327\n",
      "CYTBD2pp\n",
      "2.0 h_c + mql8_c + 0.5 o2_c --> h2o_c + 2.0 h_p + mqn8_c\n",
      "333.3333333333327\n"
     ]
    }
   ],
   "source": [
    "for x in mutant1.metabolites.get_by_id('mql8_c').reactions:\n",
    "    if abs(solution[x.id]) > 1e-9:\n",
    "        print(x.id)\n",
    "        print(x.build_reaction_string(use_metabolite_names = False))\n",
    "        print(solution[x.id])"
   ]
  },
  {
   "cell_type": "code",
   "execution_count": 98,
   "id": "7b60190b",
   "metadata": {},
   "outputs": [
    {
     "name": "stdout",
     "output_type": "stream",
     "text": [
      "FRD2rpp\n",
      "2.0 h_p + mqn8_c + succ_c --> fum_c + 2.0 h_c + mql8_c\n",
      "333.3333333333327\n",
      "CYTBD2pp\n",
      "2.0 h_c + mql8_c + 0.5 o2_c --> h2o_c + 2.0 h_p + mqn8_c\n",
      "333.3333333333327\n"
     ]
    }
   ],
   "source": [
    "for x in mutant1.metabolites.get_by_id('h_p').reactions:\n",
    "    if abs(solution[x.id]) > 1e-9:\n",
    "        print(x.id)\n",
    "        print(x.build_reaction_string(use_metabolite_names = False))\n",
    "        print(solution[x.id])"
   ]
  },
  {
   "cell_type": "raw",
   "id": "b515e03d",
   "metadata": {},
   "source": [
    "Insert Atpsyntahase to the model instead of h_e use h_p"
   ]
  },
  {
   "cell_type": "code",
   "execution_count": 99,
   "id": "b1dd0b50",
   "metadata": {},
   "outputs": [
    {
     "name": "stdout",
     "output_type": "stream",
     "text": [
      "SUCOAS\n",
      "atp_c + coa_c + succ_c <=> adp_c + pi_c + succoa_c\n",
      "-333.3333333333327\n",
      "ATPM\n",
      "atp_c + h2o_c --> adp_c + h_c + pi_c\n",
      "333.33333333333275\n"
     ]
    }
   ],
   "source": [
    "for x in mutant1.metabolites.get_by_id('atp_c').reactions:\n",
    "    if abs(solution[x.id]) > 1e-9:\n",
    "        print(x.id)\n",
    "        print(x.build_reaction_string(use_metabolite_names = False))\n",
    "        print(solution[x.id])"
   ]
  },
  {
   "cell_type": "code",
   "execution_count": 100,
   "id": "428a52eb",
   "metadata": {},
   "outputs": [
    {
     "name": "stdout",
     "output_type": "stream",
     "text": [
      "DADNt2\n",
      "dad_2_e + h_e --> dad_2_c + h_c\n",
      "0.0\n",
      "SO4t2\n",
      "h_e + so4_e --> h_c + so4_c\n",
      "0.0\n",
      "BALAt2r\n",
      "ala_B_e + h_e --> ala_B_c + h_c\n",
      "0.0\n",
      "3UMPt6\n",
      "3ump_e + h_e --> 3ump_c + h_c\n",
      "0.0\n",
      "VALt2r\n",
      "h_e + val__L_e --> h_c + val__L_c\n",
      "0.0\n",
      "DAGLIPA181d9ex\n",
      "dag181d9_e + h2o_e --> 1ag181d9_e + h_e + ocdcea_e\n",
      "0.0\n",
      "LIPOPBt\n",
      "h_e + lipoate_e --> h_c + lipoate_c\n",
      "0.0\n",
      "GALt2_3\n",
      "gal_bD_e + h_e --> gal_bD_c + h_c\n",
      "0.0\n",
      "ILEt2r\n",
      "h_e + ile__L_e --> h_c + ile__L_c\n",
      "0.0\n",
      "ADNt2\n",
      "adn_e + h_e --> adn_c + h_c\n",
      "0.0\n",
      "CAt4\n",
      "ca2_c + h_e --> ca2_e + h_c\n",
      "166.66666666666634\n",
      "CRO4t3\n",
      "cro4_c + h_e --> cro4_e + h_c\n",
      "0.0\n",
      "Htex\n",
      "h_e <=> h_p\n",
      "0.0\n",
      "GALCTNt2r\n",
      "galctn__D_e + h_e --> galctn__D_c + h_c\n",
      "0.0\n",
      "GLCURt2r\n",
      "glcur_e + h_e --> glcur_c + h_c\n",
      "0.0\n",
      "SUCRt2\n",
      "h_e + sucr_e --> h_c + sucr_c\n",
      "0.0\n",
      "CHLt2\n",
      "chol_e + h_e --> chol_c + h_c\n",
      "0.0\n",
      "DALAt2r\n",
      "ala__D_e + h_e --> ala__D_c + h_c\n",
      "0.0\n",
      "NTR3B\n",
      "2.0 h_c + mql7_c + no3_c --> h2o_c + 2.0 h_e + mqn7_c + no2_c\n",
      "0.0\n",
      "CYTBD2\n",
      "2.0 h_c + mql8_c + 0.5 o2_c --> h2o_c + 2.0 h_e + mqn8_c\n",
      "0.0\n",
      "NAt6\n",
      "h_e + na1_e --> h_c + na1_c\n",
      "83.33333333333302\n",
      "CYTB_B2\n",
      "2.0 h_c + mql7_c + 0.5 o2_c --> h2o_c + 2.0 h_e + mqn7_c\n",
      "0.0\n",
      "PNTOt2\n",
      "h_e + pnto__R_e --> h_c + pnto__R_c\n",
      "0.0\n",
      "DAGLIPA160ex\n",
      "12dgr160_e + h2o_e --> 1ag160_e + h_e + hdca_e\n",
      "0.0\n",
      "SPMDt3i\n",
      "h_c + spmd_e <-- h_e + spmd_c\n",
      "0.0\n",
      "HQNt6\n",
      "h_e + hqn_e <=> h_c + hqn_c\n",
      "0.0\n",
      "Kt2r\n",
      "h_e + k_e --> h_c + k_c\n",
      "0.0\n",
      "SBTt2\n",
      "h_e + sbt__D_e --> h_c + sbt__D_c\n",
      "0.0\n",
      "XANt2\n",
      "h_e + xan_e --> h_c + xan_c\n",
      "0.0\n",
      "DAGLIPA182d9d12ex\n",
      "dag182d9d12_e + h2o_e --> 1ag182d9d12_e + h_e + lnlc_e\n",
      "0.0\n",
      "PIt2r\n",
      "h_e + pi_e --> h_c + pi_c\n",
      "0.0\n",
      "NO3R2\n",
      "2.0 h_c + mql8_c + no3_c --> h2o_c + 2.0 h_e + mqn8_c + no2_c\n",
      "0.0\n",
      "PROt2r\n",
      "h_e + pro__L_e --> h_c + pro__L_c\n",
      "0.0\n",
      "TTRCYCtm\n",
      "h_e + ttrcyc_c --> h_c + ttrcyc_e\n",
      "0.0\n",
      "TAGLIPA160ex\n",
      "h2o_e + tag160_e --> 12dgr160_e + h_e + hdca_e\n",
      "0.0\n",
      "3AMPt6\n",
      "3amp_e + h_e --> 3amp_c + h_c\n",
      "2.1240517611897e-14\n",
      "GLCAt2\n",
      "glc__aD_e + h_e --> glc__aD_c + h_c\n",
      "0.0\n",
      "GPDDA1_1\n",
      "g3pc_e + h2o_e --> chol_e + glyc3p_e + h_e\n",
      "0.0\n",
      "ASNt2r\n",
      "asn__L_e + h_e --> asn__L_c + h_c\n",
      "0.0\n",
      "LEUt2r\n",
      "h_e + leu__L_e --> h_c + leu__L_c\n",
      "0.0\n",
      "MALTt2\n",
      "h_e + malt_e --> h_c + malt_c\n",
      "0.0\n",
      "THRt2r\n",
      "h_e + thr__L_e --> h_c + thr__L_c\n",
      "0.0\n",
      "DAGLIPA180ex\n",
      "12dgr180_e + h2o_e --> 1ag180_e + h_e + ocdca_e\n",
      "0.0\n",
      "PYRt2\n",
      "h_e + pyr_e --> h_c + pyr_c\n",
      "0.0\n",
      "TAGLIPA180ex\n",
      "h2o_e + tag180_e --> 12dgr180_e + h_e + ocdca_e\n",
      "0.0\n",
      "GLCNt2r\n",
      "glcn_e + h_e --> glcn_c + h_c\n",
      "0.0\n",
      "ARBt2r\n",
      "arab__L_e + h_e --> arab__L_c + h_c\n",
      "0.0\n",
      "GLYt2r\n",
      "gly_e + h_e --> gly_c + h_c\n",
      "0.0\n",
      "GALURt2r\n",
      "galur_e + h_e --> galur_c + h_c\n",
      "0.0\n",
      "CITt14\n",
      "ca2_e + cit_e + h_e --> ca2_c + cit_c + h_c\n",
      "166.66666666666634\n",
      "XTSNt2\n",
      "h_e + xtsn_e --> h_c + xtsn_c\n",
      "0.0\n",
      "MAGLIPA182d9d12ex\n",
      "1ag182d9d12_e + h2o_e --> glyc_e + h_e + lnlc_e\n",
      "0.0\n",
      "ABUTt2r\n",
      "4abut_e + h_e --> 4abut_c + h_c\n",
      "0.0\n",
      "CSNt2\n",
      "csn_e + h_e --> csn_c + h_c\n",
      "0.0\n",
      "SKMt2\n",
      "h_e + skm_e --> h_c + skm_c\n",
      "0.0\n",
      "2HXMPt6\n",
      "2hxmp_e + h_e <=> 2hxmp_c + h_c\n",
      "0.0\n",
      "GPDDA2_1\n",
      "g3pg_e + h2o_e --> glyc3p_e + glyc_e + h_e\n",
      "0.0\n",
      "3CMPt6\n",
      "3cmp_e + h_e --> 3cmp_c + h_c\n",
      "0.0\n",
      "ASPt2r\n",
      "asp__L_e + h_e --> asp__L_c + h_c\n",
      "0.0\n",
      "GPDDA3_1\n",
      "g3ps_e + h2o_e --> glyc3p_e + h_e + ser__L_e\n",
      "0.0\n",
      "ACNAMt2\n",
      "acnam_e + h_e --> acnam_c + h_c\n",
      "0.0\n",
      "MANt2\n",
      "h_e + man_e --> h_c + man_c\n",
      "0.0\n",
      "BTNt2i\n",
      "btn_e + h_e --> btn_c + h_c\n",
      "0.0\n",
      "GLUt2r\n",
      "glu__L_e + h_e --> glu__L_c + h_c\n",
      "0.0\n",
      "MAGLIPA160ex\n",
      "1ag160_e + h2o_e --> glyc_e + h_e + hdca_e\n",
      "0.0\n",
      "ABG4t2\n",
      "abg4_e + h_e --> abg4_c + h_c\n",
      "0.0\n",
      "GALt2\n",
      "gal_e + h_e --> gal_c + h_c\n",
      "0.0\n",
      "GLYCLTt2r\n",
      "glyclt_e + h_e --> glyclt_c + h_c\n",
      "0.0\n",
      "GLCNt2ir\n",
      "glcn__D_e + h_e --> glcn__D_c + h_c\n",
      "0.0\n",
      "TAGLIPA181d9ex\n",
      "h2o_e + tag181d9_e --> dag181d9_e + h_e + ocdcea_e\n",
      "0.0\n",
      "GLCt2\n",
      "glc__D_e + h_e --> glc__D_c + h_c\n",
      "0.0\n",
      "GSNt2\n",
      "gsn_e + h_e --> gsn_c + h_c\n",
      "0.0\n",
      "MALt2r\n",
      "h_e + mal__L_e --> h_c + mal__L_c\n",
      "0.0\n",
      "FUMt2r\n",
      "fum_e + h_e --> fum_c + h_c\n",
      "0.0\n",
      "SUCCt2r\n",
      "h_e + succ_e --> h_c + succ_c\n",
      "0.0\n",
      "GLYBt2r\n",
      "glyb_e + h_e --> glyb_c + h_c\n",
      "0.0\n",
      "NAt3_1\n",
      "h_e + na1_c --> h_c + na1_e\n",
      "83.33333333333302\n",
      "URAt2\n",
      "h_e + ura_e --> h_c + ura_c\n",
      "0.0\n",
      "EX_h_e\n",
      "h_e <=> \n",
      "-499.99999999999864\n",
      "AKGt2r\n",
      "akg_e + h_e --> akg_c + h_c\n",
      "0.0\n",
      "DSERt2\n",
      "h_e + ser__D_e --> h_c + ser__D_c\n",
      "0.0\n",
      "MAGLIPA181d9ex\n",
      "1ag181d9_e + h2o_e --> glyc_e + h_e + ocdcea_e\n",
      "0.0\n",
      "DDGLCNt2r\n",
      "2ddglcn_e + h_e --> 2ddglcn_c + h_c\n",
      "0.0\n",
      "XYLt2\n",
      "h_e + xyl__D_e --> h_c + xyl__D_c\n",
      "0.0\n",
      "CYTBD\n",
      "2.0 h_c + 0.5 o2_c + q8h2_c --> h2o_c + 2.0 h_e + q8_c\n",
      "0.0\n",
      "2PGLYCt6\n",
      "2pglyc_e + h_e <=> 2pglyc_c + h_c\n",
      "0.0\n",
      "NO3R1\n",
      "2.0 h_c + no3_c + q8h2_c --> h2o_c + 2.0 h_e + no2_c + q8_c\n",
      "0.0\n",
      "INSt2\n",
      "h_e + ins_e --> h_c + ins_c\n",
      "0.0\n",
      "TAGLIPA182d9d12\n",
      "h2o_e + tag182d9d12_e --> dag182d9d12_e + h_e + lnlc_e\n",
      "0.0\n",
      "LYSt3r\n",
      "h_e + lys__L_c --> h_c + lys__L_e\n",
      "0.0\n",
      "MAGLIPA180ex\n",
      "1ag180_e + h2o_e --> glyc_e + h_e + ocdca_e\n",
      "0.0\n",
      "SERt2r\n",
      "h_e + ser__L_e --> h_c + ser__L_c\n",
      "0.0\n",
      "L_LACt3\n",
      "h_e + lac__L_c --> h_c + lac__L_e\n",
      "0.0\n",
      "L_LACt2r\n",
      "h_e + lac__L_e --> h_c + lac__L_c\n",
      "0.0\n",
      "ARGt2r\n",
      "arg__L_e + h_e --> arg__L_c + h_c\n",
      "0.0\n",
      "Mn2t\n",
      "2.0 h_c + mn2_e <-- 2.0 h_e + mn2_c\n",
      "0.0\n",
      "CELBt2\n",
      "cellb_e + h_e --> cellb_c + h_c\n",
      "0.0\n"
     ]
    }
   ],
   "source": [
    "for x in mutant1.metabolites.get_by_id('h_e').reactions:\n",
    "    print(x.id)\n",
    "    print(x.build_reaction_string(use_metabolite_names = False))\n",
    "    print(solution[x.id])"
   ]
  },
  {
   "cell_type": "code",
   "execution_count": 101,
   "id": "f0703557",
   "metadata": {},
   "outputs": [
    {
     "name": "stderr",
     "output_type": "stream",
     "text": [
      "Could not identify an external compartment by name and choosing one with the most boundary reactions. That might be complete nonsense or change suddenly. Consider renaming your compartments using `Model.compartments` to fix this.\n",
      "Could not identify an external compartment by name and choosing one with the most boundary reactions. That might be complete nonsense or change suddenly. Consider renaming your compartments using `Model.compartments` to fix this.\n"
     ]
    }
   ],
   "source": [
    "medium = mutant1.medium\n",
    "medium[\"EX_cit_e\"] = 0.0\n",
    "medium['EX_glc__D_e'] = 1000\n",
    "mutant1.medium = medium"
   ]
  },
  {
   "cell_type": "code",
   "execution_count": 102,
   "id": "19f43ec0",
   "metadata": {},
   "outputs": [
    {
     "name": "stderr",
     "output_type": "stream",
     "text": [
      "Could not identify an external compartment by name and choosing one with the most boundary reactions. That might be complete nonsense or change suddenly. Consider renaming your compartments using `Model.compartments` to fix this.\n"
     ]
    },
    {
     "data": {
      "text/plain": [
       "{'EX_ca2_e': 1000.0,\n",
       " 'EX_cl_e': 1000.0,\n",
       " 'EX_co2_e': 1000.0,\n",
       " 'EX_cobalt2_e': 1000.0,\n",
       " 'EX_cu2_e': 1000.0,\n",
       " 'EX_fe2_e': 1000.0,\n",
       " 'EX_glc__D_e': 1000,\n",
       " 'EX_h2o_e': 1000.0,\n",
       " 'EX_h_e': 1000.0,\n",
       " 'EX_hdca_e': 1000.0,\n",
       " 'EX_k_e': 1000.0,\n",
       " 'EX_met__L_e': 1000.0,\n",
       " 'EX_mg2_e': 1000.0,\n",
       " 'EX_mn2_e': 1000.0,\n",
       " 'EX_mobd_e': 1000.0,\n",
       " 'EX_nh4_e': 1000.0,\n",
       " 'EX_no3_e': 1000.0,\n",
       " 'EX_o2_e': 1000.0,\n",
       " 'EX_pi_e': 1000.0,\n",
       " 'EX_so4_e': 1000.0,\n",
       " 'EX_zn2_e': 1000.0}"
      ]
     },
     "execution_count": 102,
     "metadata": {},
     "output_type": "execute_result"
    }
   ],
   "source": [
    "mutant1.medium"
   ]
  },
  {
   "cell_type": "code",
   "execution_count": 103,
   "id": "78ab1c78",
   "metadata": {},
   "outputs": [
    {
     "data": {
      "text/plain": [
       "1000.0"
      ]
     },
     "execution_count": 103,
     "metadata": {},
     "output_type": "execute_result"
    }
   ],
   "source": [
    "mutant1.slim_optimize()"
   ]
  },
  {
   "cell_type": "raw",
   "id": "f817dd38",
   "metadata": {},
   "source": [
    "Find out why cells cannot use lipids. if you only lipids can you produce acetyl coA."
   ]
  },
  {
   "cell_type": "markdown",
   "id": "f3b10a0b",
   "metadata": {},
   "source": [
    "Add sink reaction for acetyl coA\n",
    "Set sink reaction as the objective\n",
    "optimize the model\n",
    "Ex_accoa_c <=> \n",
    "lower bounds 0\n",
    "upper bounds 1000\n",
    "check in media with Glucose\n",
    "check in media with hdca\n",
    "what is the fate of co2. which reversible reaction my be incorrect."
   ]
  },
  {
   "cell_type": "code",
   "execution_count": null,
   "id": "69113ebf",
   "metadata": {},
   "outputs": [],
   "source": []
  }
 ],
 "metadata": {
  "kernelspec": {
   "display_name": "Python 3 (ipykernel)",
   "language": "python",
   "name": "python3"
  },
  "language_info": {
   "codemirror_mode": {
    "name": "ipython",
    "version": 3
   },
   "file_extension": ".py",
   "mimetype": "text/x-python",
   "name": "python",
   "nbconvert_exporter": "python",
   "pygments_lexer": "ipython3",
   "version": "3.9.13"
  }
 },
 "nbformat": 4,
 "nbformat_minor": 5
}
